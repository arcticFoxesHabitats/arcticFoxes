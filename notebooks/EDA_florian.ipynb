{
 "cells": [
  {
   "attachments": {},
   "cell_type": "markdown",
   "metadata": {},
   "source": [
    "Imports that will be needed later on"
   ]
  },
  {
   "cell_type": "code",
   "execution_count": 112,
   "metadata": {
    "slideshow": {
     "slide_type": "skip"
    }
   },
   "outputs": [],
   "source": [
    "import sys\n",
    "sys.path.append(\"..\")\n",
    "sys.path.append(\"../modeling\")\n",
    "\n",
    "import home_ranges as hr\n",
    "\n",
    "from keplergl import KeplerGl\n",
    "\n",
    "import pandas as pd\n",
    "import numpy as np\n",
    "#import warnings\n",
    "#import mlflow\n",
    "import matplotlib.pyplot as plt\n",
    "#import rasterio\n",
    "import geopandas as geopd\n",
    "#import rasterio.rio\n",
    "import seaborn as sns\n",
    "import datetime as dt \n",
    "\n",
    "from rasterio.plot import show\n",
    "\n",
    "from datetime import datetime, timedelta\n",
    "from shapely.geometry import Point, Polygon, MultiPolygon\n",
    "import shapely\n",
    "\n",
    "import geopandas as gpd"
   ]
  },
  {
   "cell_type": "code",
   "execution_count": 38,
   "metadata": {},
   "outputs": [],
   "source": [
    "foxes_all = geopd.read_file(\"../data/cleaned_shapefiles/foxes_all.shp\")\n",
    "#foxes_resamp = geopd.read_file(\"../data/cleaned_shapefiles/foxes_resamp.shp\")\n",
    "sample_points = geopd.read_file(\"../data/cleaned_shapefiles/sample_points.shp\")\n",
    "dens_all = geopd.read_file(\"../data/cleaned_shapefiles/dens_norrbotten.shp\")"
   ]
  },
  {
   "cell_type": "code",
   "execution_count": 39,
   "metadata": {},
   "outputs": [
    {
     "name": "stdout",
     "output_type": "stream",
     "text": [
      "pyparsing==3.0.9\n",
      "pyproj==3.4.1\n"
     ]
    }
   ],
   "source": [
    "!pip freeze | egrep pyp"
   ]
  },
  {
   "cell_type": "code",
   "execution_count": 40,
   "metadata": {},
   "outputs": [],
   "source": [
    "''' \n",
    "Function to get an array of diffs in seconds between time stamps of subsequent rows of a DataFrame.\n",
    "\n",
    "Input:\n",
    "df: DataFrame containing column of time stamps\n",
    "df_time_col: name of column with time stamps\n",
    "id: identifier for which time steps are calculated\n",
    "\n",
    "Returns:\n",
    "Array of float, representing seconds passed since preceding entry in DataFrame.\n",
    "NaN if there is no preceeding row for the same id\n",
    "'''\n",
    "\n",
    "def get_time_diffs(df, df_time_col = \"t_\", id = \"id\"):\n",
    "    fmt = '%Y-%m-%d-%H:%M:%S'\n",
    "    time_diff = []\n",
    "    for i, _ in enumerate(df.t_):\n",
    "        if i > 0 and df.iloc[i-1][id] == df.iloc[i][id] :\n",
    "            time_1 = datetime.strptime(df.iloc[i-1][df_time_col], fmt)\n",
    "            time_2 = datetime.strptime(df.iloc[i][df_time_col], fmt)\n",
    "            time_diff.append((time_2 - time_1).total_seconds())\n",
    "        else:\n",
    "            time_diff.append(np.nan)\n",
    "    return time_diff\n",
    "\n",
    "\n",
    "\n",
    "''' \n",
    "Function to get an array of distance in seconds between coords of subsequent rows of a DataFrame.\n",
    "\n",
    "Input:\n",
    "df: DataFrame containing column of coords\n",
    "df_time_col: name of column with coords\n",
    "id: identifier for which coords are calculated\n",
    "\n",
    "Returns:\n",
    "Array of float, representing seconds passed since preceding entry in DataFrame.\n",
    "NaN if there is no preceeding row for the same id\n",
    "'''\n",
    "\n",
    "def get_distance(df, x = \"x_\", y= \"y_\", id = \"id\"): \n",
    "  travel_distance = []\n",
    "  for i, _ in enumerate(df.t_):\n",
    "    if i > 0 and df[id].iloc[i-1] == df[id].iloc[i]:\n",
    "      x_diff = df[x].iloc[i-1] - df[x].iloc[i]\n",
    "      y_diff = df[y].iloc[i-1] - df[y].iloc[i]\n",
    "      tot_diff = np.sqrt(np.square(x_diff) + np.square(y_diff) )\n",
    "      travel_distance.append(int(tot_diff))\n",
    "    else:\n",
    "      travel_distance.append(np.nan)\n",
    "  return travel_distance\n",
    "\n"
   ]
  },
  {
   "cell_type": "code",
   "execution_count": 41,
   "metadata": {},
   "outputs": [],
   "source": [
    "''' \n",
    "Function to convert a shapely Polygon object into a GeoJson.\n",
    "As GeoJson requires CRS4326, input will be transformed unless it also is in this format\n",
    "\n",
    "Input:\n",
    "poly: shapely Polygon object\n",
    "in_crs: crs system of coords in poly\n",
    "\n",
    "Returns:\n",
    "GeoJson object representing poly\n",
    "'''\n",
    "\n",
    "def polygon_to_geojson(poly, in_crs = 3006):\n",
    "    poly_coords = poly.boundary.coords.xy    \n",
    "    s= pd.DataFrame( [Point(x,y) for x,y in zip( poly_coords[0], poly_coords[1])])\n",
    "    s.columns = [\"geometry\"]\n",
    "    gdf = gpd.GeoDataFrame(s, crs=in_crs)\n",
    "    if in_crs != 4326:\n",
    "        gdf = gdf.to_crs(epsg= 4326)\n",
    "    geojson = {'type':'Polygon', 'coordinates':[]}\n",
    "    f  = []\n",
    "    for point in gdf.geometry:\n",
    "        f.append([point.x, point.y])\n",
    "    geojson['coordinates'].append(f)\n",
    "    return geojson\n",
    "\n",
    "#def dataframe_convert_coords(df, coord_in = 3006, coord_out = 4326):\n",
    " #   gdf = gpd.GeoDataFrame(df, crs=coord_in)\n",
    "  #  return gdf.to_crs(epsg= coord_out)\n",
    "\n",
    "\n",
    "''' \n",
    "Function to calculate the distance between a point, and the farthest point of a shapely Polygon\n",
    "\n",
    "Input:\n",
    "point: shapely Point object\n",
    "point: shapely Polygon object\n",
    "\n",
    "Returns:\n",
    "distance between point and farthest point of poly\n",
    "'''\n",
    "def max_dist_point_poly(point, poly):\n",
    "    max_dist = 0\n",
    "    poly_coords = poly.boundary.coords.xy\n",
    "    for point_poly in [Point(x,y) for x,y in zip( poly_coords[0], poly_coords[1])]:\n",
    "        if point.distance(point_poly) > max_dist:\n",
    "            max_dist = point.distance(point_poly)\n",
    "    return max_dist\n",
    "\n",
    "\n",
    "''' \n",
    "Function to turn a DataFrame with columns for coords and an timestamp into a GeoJson object\n",
    "representing a trip in Kepler Gl\n",
    "\n",
    "Input:\n",
    "df: DataFrame\n",
    "properties: List of properties to be associated with each trip\n",
    "lat: name of the column with latitude coords\n",
    "lon: name of the column with longitude coords\n",
    "elev: name of the column with elevation above sea level\n",
    "time: name of the column with time stamp\n",
    "id: name of the column with id by which to group together for a trip\n",
    "\n",
    "Returns:\n",
    "distance between point and farthest point of poly\n",
    "'''\n",
    "def df_to_geojson_trip(df, properties, lat='geo_kepler_lat', lon='geo_kepler_lon', elev = 'elev', time = 'timestamp', id = 'id'):\n",
    "    geojson = {'type':'FeatureCollection', 'features':[]}\n",
    "    for fox_id in df[id].unique():\n",
    "        i =0\n",
    "        feature = {'type':'Feature',\n",
    "                   'properties':{},\n",
    "                   'geometry':{'type':'LineString',\n",
    "                               'coordinates':[]}}\n",
    "        for _, row in df.query('id == @fox_id').iterrows():        \n",
    "       #     feature['geometry']['coordinates'].append([row[lon], row[lat], row[elev],  int(row[time])])\n",
    "            feature['geometry']['coordinates'].append([row[lon], row[lat], row[elev], 1564184363 + 10 * i])# row[time]])\n",
    "            i += 1\n",
    "        for prop in properties:\n",
    "            feature['properties'][prop] = row[prop]\n",
    "        geojson['features'].append(feature)\n",
    "    return geojson\n"
   ]
  },
  {
   "cell_type": "code",
   "execution_count": 42,
   "metadata": {},
   "outputs": [],
   "source": [
    "foxes_all[\"travel_distance\"] = get_distance(foxes_all)\n",
    "foxes_all[\"time_diff\"] = get_time_diffs(foxes_all)\n",
    "\n",
    "foxes_all[\"fox_day\"] = [str(datetime.strptime(x, '%Y-%m-%d-%H:%M:%S' ) + timedelta(hours=12))[:10]  for x in foxes_all.t_ ]\n",
    "foxes_all[\"month\"] = [x[5:7] for x in foxes_all.fox_day]\n",
    "foxes_all[\"year\"] = [x[:4] for x in foxes_all.fox_day]\n",
    "\n",
    "factor = 100\n",
    "foxes_all[\"geo_round\"] = [(int(x/factor) * factor + factor / 2, int(y/factor)  * factor + factor / 2) for x, y in zip(foxes_all.x_, foxes_all.y_) ]\n"
   ]
  },
  {
   "cell_type": "code",
   "execution_count": 43,
   "metadata": {},
   "outputs": [],
   "source": [
    "test = foxes_all.geometry\n",
    "gdf = gpd.GeoDataFrame(test, crs=3006)\n",
    "\n",
    "\n",
    "gdf = gdf.to_crs(epsg= 4326)\n",
    "\n",
    "foxes_all[\"geo_kepler_lat\"] = [geo.y for geo in gdf.geometry]\n",
    "foxes_all[\"geo_kepler_lon\"] = [geo.x for geo in gdf.geometry]\n",
    "\n",
    "foxes_all\n",
    "\n",
    "points_per_day = foxes_all[[\"id\", \"time_diff\", \"fox_day\"]].groupby([\"id\",\"fox_day\"], as_index=False ).count().rename(columns={\"time_diff\": \"points_this_day\"})\n",
    "\n",
    "max_window_per_day = foxes_all[[\"id\", \"time_diff\", \"fox_day\"]].groupby([\"id\",\"fox_day\"], as_index=False ).max().rename(columns={\"time_diff\": \"max_window\"})\n",
    "\n",
    "a = pd.merge( foxes_all,points_per_day, left_on=[\"id\", \"fox_day\"], right_on=[\"id\", \"fox_day\"] )\n",
    "b = pd.merge( max_window_per_day, a , left_on=[\"id\", \"fox_day\"], right_on=[\"id\", \"fox_day\"] )\n",
    "#b[[\"id\", \"fox_day\", \"t_\", \"time_diff\", \"points_this_day\", \"max_window\"]]\n",
    "\n",
    "\n"
   ]
  },
  {
   "cell_type": "code",
   "execution_count": 44,
   "metadata": {},
   "outputs": [],
   "source": [
    "\n",
    "for fox_id in foxes_all.id.unique():\n",
    "    fox_hr_poly = hr.hr_area(foxes_all.query('id ==@fox_id'))\n"
   ]
  },
  {
   "cell_type": "code",
   "execution_count": 45,
   "metadata": {},
   "outputs": [],
   "source": [
    "#x = pd.DataFrame(columns=[\"a\", \"b\", \"c\"])\n",
    "\n",
    "y = foxes_all.groupby([\"id\", \"sex\"], as_index=False).count()[[\"id\",\"sex\"]]\n",
    "\n",
    "#for z in y.id:\n",
    " #   print(z)\n",
    "#y[\"geometry\"] = [polygon_to_geojson(hr.hr_area(foxes_all.query('id ==@x'))) for x in y.id ]\n",
    "y[\"hr_area\"] = [hr.hr_area(foxes_all.query('id ==@x')).area for x in y.id ]\n",
    "#y.describe()\n"
   ]
  },
  {
   "cell_type": "code",
   "execution_count": 46,
   "metadata": {},
   "outputs": [
    {
     "data": {
      "text/plain": [
       "0.12282918902015916"
      ]
     },
     "execution_count": 46,
     "metadata": {},
     "output_type": "execute_result"
    }
   ],
   "source": [
    "y.hr_area.min() / y.hr_area.max()"
   ]
  },
  {
   "cell_type": "code",
   "execution_count": 47,
   "metadata": {},
   "outputs": [
    {
     "name": "stdout",
     "output_type": "stream",
     "text": [
      "User Guide: https://docs.kepler.gl/docs/keplergl-jupyter\n"
     ]
    },
    {
     "data": {
      "application/vnd.jupyter.widget-view+json": {
       "model_id": "d441f173ee7a425e8ce5280c72a1337a",
       "version_major": 2,
       "version_minor": 0
      },
      "text/plain": [
       "KeplerGl(data={'where did the fox go': {'index': [23415, 23416, 23417, 23418, 23419, 23420, 23421, 23422, 2342…"
      ]
     },
     "metadata": {},
     "output_type": "display_data"
    }
   ],
   "source": [
    "\n",
    "circle_all = Polygon()\n",
    "hr_all = Polygon()\n",
    "intersect_all = Polygon()\n",
    "map1=KeplerGl(height=500)\n",
    "\n",
    "cols_df = [\"id\", \"geo_kepler_lat\", \"geo_kepler_lon\"]\n",
    "cols_geo = ['fox_day']\n",
    "\n",
    "\n",
    "for fox_id in foxes_all.query(\"id == '2019-FSBD609-002'\").id.unique():    \n",
    "    fox_hr_poly = hr.hr_area(foxes_all.query('id ==@fox_id'))\n",
    "  #  den = foxes_all.query('id ==@fox_id')[[\"id\", \"geo_round\", \"t_\"]].groupby([\"id\", \"geo_round\"], as_index=False).count().sort_values(by=\"t_\").tail(1).geo_round \n",
    "    #den_coord = Point(tuple(den)[0][0] , tuple(den)[0][1] )\n",
    "    #circle = den_coord.buffer(max_dist_point_poly(den_coord, fox_hr_poly))\n",
    "  #  x = hr_all.intersection(fox_hr_poly)\n",
    "   # intersect_all = intersect_all.union(x)\n",
    "   # circle_all = circle_all.union(circle)\n",
    "    #hr_all = hr_all.union(fox_hr_poly)\n",
    "    geojson = df_to_geojson_trip(foxes_all.query('id ==@fox_id'), cols_geo)\n",
    "    map1.add_data(data= foxes_all.query(\"id == @fox_id \")[cols_df], name = \"where did the fox go\")\n",
    "    map1.add_data(data=geojson,name='Where does fox  ' + fox_id + ' trot?')\n",
    "\n",
    "  \n",
    "    \n",
    "    #map1.add_data(data=g(den_coord, columns=\"geometry\"), name = \"center\" + fox_id)\n",
    "    map1.add_data(data = polygon_to_geojson(fox_hr_poly), name='homerange' + fox_id)\n",
    "    #map1.add_data(data = polygon_to_geojson(circle), name=\"circle\" + fox_id)\n",
    "\n",
    "\n",
    "map1"
   ]
  },
  {
   "cell_type": "code",
   "execution_count": 48,
   "metadata": {},
   "outputs": [],
   "source": [
    "sample_points_by_hr_with_id = pd.DataFrame(columns=[\"geometry\", \"id\"])\n",
    "\n",
    "for fox_id in foxes_all.id.unique():\n",
    "    points = sample_points.intersection(hr.hr_area(foxes_all.query('id ==@fox_id')))\n",
    "    df_temp = pd.DataFrame(columns=[\"geometry\"], data=points[~points.is_empty].to_list())\n",
    "    df_temp[\"id\"] = fox_id\n",
    "    sample_points_by_hr_with_id = pd.concat([sample_points_by_hr_with_id, df_temp ])\n",
    "\n",
    "sample_points_in_hr_with_id = sample_points_by_hr_with_id.drop_duplicates().merge(sample_points, on = \"geometry\")\n",
    "\n",
    "a = sample_points_in_hr_with_id[[\"id\", \"soil\", \"veg\"]].groupby([\"id\", \"veg\"], as_index=False).count()\n",
    "b = sample_points_in_hr_with_id[[\"id\", \"soil\", \"veg\"]].groupby([\"id\", \"soil\"], as_index=False).count()"
   ]
  },
  {
   "cell_type": "code",
   "execution_count": 49,
   "metadata": {},
   "outputs": [
    {
     "data": {
      "text/plain": [
       "[]"
      ]
     },
     "execution_count": 49,
     "metadata": {},
     "output_type": "execute_result"
    },
    {
     "data": {
      "image/png": "[encoded data removed]",
      "text/plain": [
       "<Figure size 640x480 with 1 Axes>"
      ]
     },
     "metadata": {},
     "output_type": "display_data"
    }
   ],
   "source": [
    "chart_soil = sns.barplot(data = b[[\"id\", \"soil\", \"veg\"]], x=\"id\", y=\"veg\", hue=\"soil\")\n",
    "chart_soil.set_xticklabels(chart_soil.get_xticklabels(), rotation=45, horizontalalignment='right')\n",
    "chart_soil.plot()"
   ]
  },
  {
   "cell_type": "code",
   "execution_count": 50,
   "metadata": {},
   "outputs": [
    {
     "data": {
      "text/plain": [
       "[]"
      ]
     },
     "execution_count": 50,
     "metadata": {},
     "output_type": "execute_result"
    },
    {
     "data": {
      "image/png": "[encoded data removed]",
      "text/plain": [
       "<Figure size 640x480 with 1 Axes>"
      ]
     },
     "metadata": {},
     "output_type": "display_data"
    }
   ],
   "source": [
    "chart_veg = sns.barplot(data = a[[\"id\", \"soil\", \"veg\"]], x=\"id\", y=\"soil\", hue=\"veg\")\n",
    "chart_veg.set_xticklabels(chart_veg.get_xticklabels(), rotation=45, horizontalalignment='right')\n",
    "chart_veg.plot()"
   ]
  },
  {
   "cell_type": "code",
   "execution_count": 55,
   "metadata": {},
   "outputs": [],
   "source": [
    "points_per_day = foxes_all[[\"id\", \"time_diff\", \"fox_day\"]].groupby([\"id\",\"fox_day\"], as_index=False ).count().rename(columns={\"time_diff\": \"points_this_day\"})\n",
    "\n",
    "max_window_per_day = foxes_all[[\"id\", \"time_diff\", \"fox_day\"]].groupby([\"id\",\"fox_day\"], as_index=False ).max().rename(columns={\"time_diff\": \"max_window\"})\n",
    "\n",
    "a = pd.merge( foxes_all,points_per_day, left_on=[\"id\", \"fox_day\"], right_on=[\"id\", \"fox_day\"] )\n",
    "b = pd.merge( a, max_window_per_day,  left_on=[\"id\", \"fox_day\"], right_on=[\"id\", \"fox_day\"] )\n",
    "\n",
    "foxes_relevant_days = b.query(\"max_window < 1000 and points_this_day > 80\")\n",
    "\n",
    "#for rel_day in foxes_relevant_days:\n",
    "\n"
   ]
  },
  {
   "cell_type": "code",
   "execution_count": 61,
   "metadata": {},
   "outputs": [],
   "source": [
    "foxes_relevant_days = b.query(\"max_window < 2000 and points_this_day > 40\") #.groupby([\"id\", \"fox_day\"]).count()"
   ]
  },
  {
   "cell_type": "code",
   "execution_count": 69,
   "metadata": {},
   "outputs": [
    {
     "data": {
      "text/html": [
       "<div>\n",
       "<style scoped>\n",
       "    .dataframe tbody tr th:only-of-type {\n",
       "        vertical-align: middle;\n",
       "    }\n",
       "\n",
       "    .dataframe tbody tr th {\n",
       "        vertical-align: top;\n",
       "    }\n",
       "\n",
       "    .dataframe thead th {\n",
       "        text-align: right;\n",
       "    }\n",
       "</style>\n",
       "<table border=\"1\" class=\"dataframe\">\n",
       "  <thead>\n",
       "    <tr style=\"text-align: right;\">\n",
       "      <th></th>\n",
       "      <th></th>\n",
       "      <th>travel_distance</th>\n",
       "    </tr>\n",
       "    <tr>\n",
       "      <th>id</th>\n",
       "      <th>fox_day</th>\n",
       "      <th></th>\n",
       "    </tr>\n",
       "  </thead>\n",
       "  <tbody>\n",
       "    <tr>\n",
       "      <th rowspan=\"5\" valign=\"top\">2018-FSBD615_v-gr/r-gr</th>\n",
       "      <th>2018-09-08</th>\n",
       "      <td>18968.551673</td>\n",
       "    </tr>\n",
       "    <tr>\n",
       "      <th>2018-09-09</th>\n",
       "      <td>18341.469561</td>\n",
       "    </tr>\n",
       "    <tr>\n",
       "      <th>2018-09-10</th>\n",
       "      <td>21483.303563</td>\n",
       "    </tr>\n",
       "    <tr>\n",
       "      <th>2018-09-12</th>\n",
       "      <td>43305.943513</td>\n",
       "    </tr>\n",
       "    <tr>\n",
       "      <th>2018-09-29</th>\n",
       "      <td>23374.501149</td>\n",
       "    </tr>\n",
       "    <tr>\n",
       "      <th>...</th>\n",
       "      <th>...</th>\n",
       "      <td>...</td>\n",
       "    </tr>\n",
       "    <tr>\n",
       "      <th rowspan=\"5\" valign=\"top\">2019-FSBD641_y-gr/r-b</th>\n",
       "      <th>2019-09-09</th>\n",
       "      <td>28798.911090</td>\n",
       "    </tr>\n",
       "    <tr>\n",
       "      <th>2019-09-10</th>\n",
       "      <td>27723.904844</td>\n",
       "    </tr>\n",
       "    <tr>\n",
       "      <th>2019-09-13</th>\n",
       "      <td>31685.354073</td>\n",
       "    </tr>\n",
       "    <tr>\n",
       "      <th>2019-09-14</th>\n",
       "      <td>35116.561285</td>\n",
       "    </tr>\n",
       "    <tr>\n",
       "      <th>2019-09-15</th>\n",
       "      <td>32094.428075</td>\n",
       "    </tr>\n",
       "  </tbody>\n",
       "</table>\n",
       "<p>104 rows × 1 columns</p>\n",
       "</div>"
      ],
      "text/plain": [
       "                                   travel_distance\n",
       "id                     fox_day                    \n",
       "2018-FSBD615_v-gr/r-gr 2018-09-08     18968.551673\n",
       "                       2018-09-09     18341.469561\n",
       "                       2018-09-10     21483.303563\n",
       "                       2018-09-12     43305.943513\n",
       "                       2018-09-29     23374.501149\n",
       "...                                            ...\n",
       "2019-FSBD641_y-gr/r-b  2019-09-09     28798.911090\n",
       "                       2019-09-10     27723.904844\n",
       "                       2019-09-13     31685.354073\n",
       "                       2019-09-14     35116.561285\n",
       "                       2019-09-15     32094.428075\n",
       "\n",
       "[104 rows x 1 columns]"
      ]
     },
     "execution_count": 69,
     "metadata": {},
     "output_type": "execute_result"
    }
   ],
   "source": [
    "foxes_relevant_days[[\"id\", \"fox_day\",\"travel_distance\"] ].groupby([\"id\", \"fox_day\"]).sum()"
   ]
  },
  {
   "cell_type": "code",
   "execution_count": 121,
   "metadata": {},
   "outputs": [],
   "source": [
    "\n",
    "foxes_poly_day = gpd.GeoDataFrame(\n",
    "    foxes_relevant_days[[\"id\", \"fox_day\", \"x_\", \"y_\"]].groupby([\"id\", \"fox_day\"], as_index=False).apply(\n",
    "        lambda d: pd.Series(\n",
    "            {\n",
    "   #             \"name\": \"|\".join(d[\"name\"].tolist()),\n",
    "                \"geometry\": shapely.geometry.Polygon(\n",
    "                    d.loc[:, [\"x_\", \"y_\"]].values\n",
    "                ),\n",
    "            }\n",
    "        )\n",
    "    )\n",
    ")\n",
    "foxes_poly_day.eval( \"trip_area = geometry.area / 1000000\", inplace=True )"
   ]
  },
  {
   "cell_type": "code",
   "execution_count": 122,
   "metadata": {},
   "outputs": [
    {
     "ename": "TypeError",
     "evalue": "'Polygon' object is not iterable",
     "output_type": "error",
     "traceback": [
      "\u001b[0;31m---------------------------------------------------------------------------\u001b[0m",
      "\u001b[0;31mTypeError\u001b[0m                                 Traceback (most recent call last)",
      "Cell \u001b[0;32mIn[122], line 2\u001b[0m\n\u001b[1;32m      1\u001b[0m b \u001b[39m=\u001b[39m foxes_poly_day\u001b[39m.\u001b[39mgeometry[\u001b[39m5\u001b[39m]\n\u001b[0;32m----> 2\u001b[0m a \u001b[39m=\u001b[39m MultiPolygon(b)\n\u001b[1;32m      3\u001b[0m \u001b[39m#MultiPolygon(foxes_poly_day.geometry[2]).union(MultiPolygon(foxes_poly_day.geometry[1]))\u001b[39;00m\n",
      "File \u001b[0;32m~/neueFische/take-me-home-mesalvo/.venv/lib/python3.9/site-packages/shapely/geometry/multipolygon.py:58\u001b[0m, in \u001b[0;36mMultiPolygon.__new__\u001b[0;34m(self, polygons)\u001b[0m\n\u001b[1;32m     55\u001b[0m     \u001b[39mreturn\u001b[39;00m polygons\n\u001b[1;32m     57\u001b[0m polygons \u001b[39m=\u001b[39m \u001b[39mgetattr\u001b[39m(polygons, \u001b[39m\"\u001b[39m\u001b[39mgeoms\u001b[39m\u001b[39m\"\u001b[39m, polygons)\n\u001b[0;32m---> 58\u001b[0m polygons \u001b[39m=\u001b[39m [\n\u001b[1;32m     59\u001b[0m     p\n\u001b[1;32m     60\u001b[0m     \u001b[39mfor\u001b[39;00m p \u001b[39min\u001b[39;00m polygons\n\u001b[1;32m     61\u001b[0m     \u001b[39mif\u001b[39;00m p \u001b[39mand\u001b[39;00m \u001b[39mnot\u001b[39;00m (\u001b[39misinstance\u001b[39m(p, polygon\u001b[39m.\u001b[39mPolygon) \u001b[39mand\u001b[39;00m p\u001b[39m.\u001b[39mis_empty)\n\u001b[1;32m     62\u001b[0m ]\n\u001b[1;32m     64\u001b[0m L \u001b[39m=\u001b[39m \u001b[39mlen\u001b[39m(polygons)\n\u001b[1;32m     66\u001b[0m \u001b[39m# Bail immediately if we have no input points.\u001b[39;00m\n",
      "\u001b[0;31mTypeError\u001b[0m: 'Polygon' object is not iterable"
     ]
    }
   ],
   "source": [
    "b = foxes_poly_day.geometry[5]\n",
    "a = MultiPolygon(b)\n",
    "#MultiPolygon(foxes_poly_day.geometry[2]).union(MultiPolygon(foxes_poly_day.geometry[1]))"
   ]
  },
  {
   "cell_type": "code",
   "execution_count": null,
   "metadata": {},
   "outputs": [],
   "source": [
    "c = foxes_relevant_days[[\"id\", \"fox_day\", \"month\",\"travel_distance\"]].groupby([\"id\", \"fox_day\", \"month\"], as_index=False).sum()\n",
    "\n",
    "d = c[[ \"month\", \"travel_distance\"]].groupby([ \"month\"]).agg([np.min, np.max, np.mean, np.median, np.count_nonzero ], as_index=False)\n",
    "d\n",
    "#foxes_all.query(\"month == '01'\")\n",
    "#c.query(\"id == '2019-FSBD609-002' and month == '08'\")\n",
    "foxes_all.query(\"month == '09'\").fox_day.value_counts().sort_index()\n",
    "foxes_all.query(\"month == '09'\")[[\"id\",\"year\"]].groupby([\"id\", \"year\"]).count()"
   ]
  },
  {
   "cell_type": "code",
   "execution_count": 127,
   "metadata": {},
   "outputs": [
    {
     "data": {
      "image/svg+xml": "<svg xmlns=\"http://www.w3.org/2000/svg\" xmlns:xlink=\"http://www.w3.org/1999/xlink\" width=\"300\" height=\"300\" viewBox=\"545978.3534142245 7376712.912003219 3346.178186446312 1557.7318452158943\" preserveAspectRatio=\"xMinYMin meet\"><g transform=\"matrix(1,0,0,-1,0,14754983.555851653)\"><path fill-rule=\"evenodd\" fill=\"#ff3333\" stroke=\"#555555\" stroke-width=\"22.307854576308745\" opacity=\"0.6\" d=\"M 546401.8008574503,7377589.358247119 L 546404.0707187082,7377586.608946269 L 546401.5340504067,7377605.330131232 L 546405.3622642654,7377597.957782083 L 546533.399921292,7377477.841053904 L 546473.6431230414,7377548.92935859 L 546498.2801402622,7377538.571831912 L 546416.947387826,7377570.100771125 L 546429.1829471546,7377592.223951991 L 546421.8199790631,7377589.135290475 L 546396.6954219231,7377584.255972098 L 546409.300343472,7377584.277008671 L 546400.806921767,7377604.392627972 L 546395.141323646,7377633.095541899 L 546399.398530372,7377644.505060573 L 546383.9071239335,7377639.965161889 L 546383.8717945123,7377597.598842677 L 546429.8375997136,7377641.669027168 L 546390.9201395996,7377575.050882285 L 546386.5200236863,7377572.190181538 L 546377.0623106766,7377605.846800109 L 546401.1111476361,7377586.180444666 L 546403.3499163621,7377585.292486307 L 546399.6333989163,7377585.977377957 L 546402.642869475,7377583.418812476 L 546403.9653314484,7377592.91745027 L 546421.6989048759,7377596.38003828 L 546436.2772400148,7377611.117253766 L 546443.5499366419,7377619.600504132 L 546441.8985286846,7377629.785267862 L 546408.3567784503,7377640.752608977 L 546471.5098402967,7377543.508758788 L 546465.4891718263,7377548.982483018 L 546404.0241695708,7377589.39538796 L 546454.8186670048,7377610.680304162 L 546381.0633575178,7377677.088030253 L 546264.877898914,7377754.117834584 L 546289.7533300794,7377595.850428928 L 546244.6047214153,7377591.753757737 L 546240.8941354312,7377547.464441784 L 546102.2859396484,7377948.19168213 L 546898.4052133634,7377989.025402869 L 547799.2275726623,7378146.711323011 L 547735.7127851663,7377874.887895372 L 548553.713225196,7377300.765393832 L 548728.8816512044,7377289.528140675 L 548893.2352001944,7377303.196964386 L 549200.5990752468,7377739.904271629 L 548715.903632168,7377437.772597087 L 548592.0245959245,7377399.368508855 L 548594.5143073251,7377299.248975706 L 548507.3454284745,7376983.880060813 L 548486.9741508227,7376961.4159471495 L 548480.5101928511,7376949.407131423 L 548522.6200745266,7377000.870332639 L 548499.390632721,7376972.413772049 L 548481.538685716,7376975.625314362 L 548488.5438835839,7376956.6158072725 L 548512.9670249708,7376959.271937281 L 548482.7696126988,7376947.406281643 L 548488.6769253573,7376948.992187309 L 548492.4238426076,7376946.649386075 L 548490.8682715108,7376950.892319215 L 548486.4367575638,7376949.88961361 L 548521.002783269,7377008.6464176765 L 548463.7513255511,7376975.136617137 L 548447.7625736108,7376956.461872937 L 548507.0210257571,7376959.903962647 L 548502.6706639655,7376954.253498299 L 548495.8272169349,7376963.98979509 L 548479.294763774,7376934.156340422 L 548536.3455847185,7376979.19105018 L 548353.6030874859,7376955.747018087 L 548261.0070830269,7376993.34824152 L 548237.7964245856,7376963.400281978 L 548036.8542987355,7377134.7687717425 L 547965.121248499,7377038.015980941 L 547954.1565756879,7376857.213021174 L 547958.8223374787,7376844.661739408 L 547960.3001925617,7376844.87678015 L 547956.5888071284,7376845.180639634 L 547960.1174334316,7376855.465168531 L 547947.7060458187,7376844.280363879 L 547946.7772812638,7376855.0454121325 L 547948.2391681642,7376856.18553732 L 547944.511644911,7376857.425649394 L 547942.348704205,7376853.854099077 L 547941.4713073551,7376861.643254413 L 547943.9900211762,7376844.595309113 L 547948.2839811733,7376853.58859558 L 547937.1036934609,7376856.918771315 L 547947.0913470926,7376836.844528643 L 547959.2850028247,7376860.646231139 L 547951.3245299039,7376849.359852319 L 546401.8008574503,7377589.358247119 z\" /></g></svg>",
      "text/plain": [
       "<POLYGON ((546401.801 7377589.358, 546404.071 7377586.609, 546401.534 737760...>"
      ]
     },
     "execution_count": 127,
     "metadata": {},
     "output_type": "execute_result"
    }
   ],
   "source": [
    "foxes_poly_day.geometry[65]"
   ]
  },
  {
   "cell_type": "code",
   "execution_count": 151,
   "metadata": {},
   "outputs": [
    {
     "name": "stdout",
     "output_type": "stream",
     "text": [
      "User Guide: https://docs.kepler.gl/docs/keplergl-jupyter\n"
     ]
    },
    {
     "data": {
      "application/vnd.jupyter.widget-view+json": {
       "model_id": "686fd736ae8d4b82932f99d8a19b6a77",
       "version_major": 2,
       "version_minor": 0
      },
      "text/plain": [
       "KeplerGl(data={'dens': {'index': [0, 1, 2, 3, 4, 5, 6, 7, 8, 9, 10, 11, 12, 13, 14, 15, 16, 17, 18, 19, 20, 21…"
      ]
     },
     "metadata": {},
     "output_type": "display_data"
    }
   ],
   "source": [
    "fox_id = '2018-FSBD619_r-gr/r-y'\n",
    "\n",
    "map2 = KeplerGl(height=500)\n",
    "#map2.add_data(polygon_to_geojson( hr.hr_area(foxes_all.query('id ==@fox_id')) ), name = \"hr\")\n",
    "map2.add_data(data = dens_all, name = \"dens\")\n",
    "i = 0\n",
    "for x in foxes_poly_day.query(\"id ==@fox_id\")[:3].geometry:\n",
    "    map2.add_data(polygon_to_geojson(x), name = \"hr_\" + str(i))\n",
    "    i+=1\n",
    "    \n",
    "\n",
    "map2"
   ]
  },
  {
   "cell_type": "code",
   "execution_count": 140,
   "metadata": {},
   "outputs": [
    {
     "data": {
      "text/plain": [
       "2019-FSBD641_y-gr/r-b     43\n",
       "2018-FSBD641_b-r/gr-b     22\n",
       "2019-FSBD609-002          18\n",
       "2018-FSBD619_r-gr/r-y     10\n",
       "2018-FSBD615_v-gr/r-gr     5\n",
       "2019-FSBD624-004           3\n",
       "2019-FSBD197-005           2\n",
       "2019-FSAC008-012           1\n",
       "Name: id, dtype: int64"
      ]
     },
     "execution_count": 140,
     "metadata": {},
     "output_type": "execute_result"
    }
   ],
   "source": [
    "foxes_poly_day.id.value_counts()"
   ]
  }
 ],
 "metadata": {
  "kernelspec": {
   "display_name": "Python 3.9.8 ('.venv': venv)",
   "language": "python",
   "name": "python3"
  },
  "language_info": {
   "codemirror_mode": {
    "name": "ipython",
    "version": 3
   },
   "file_extension": ".py",
   "mimetype": "text/x-python",
   "name": "python",
   "nbconvert_exporter": "python",
   "pygments_lexer": "ipython3",
   "version": "3.9.8"
  },
  "orig_nbformat": 4,
  "vscode": {
   "interpreter": {
    "hash": "88fcde65eaa45fa38563b1be78b27e061faa45edeabc7876995c133cb7644015"
   }
  }
 },
 "nbformat": 4,
 "nbformat_minor": 2
}
