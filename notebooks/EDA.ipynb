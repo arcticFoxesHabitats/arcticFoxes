{
 "cells": [
  {
   "attachments": {},
   "cell_type": "markdown",
   "metadata": {},
   "source": [
    "Import cleaned data to start the EDA"
   ]
  },
  {
   "cell_type": "code",
   "execution_count": 1,
   "metadata": {
    "slideshow": {
     "slide_type": "skip"
    }
   },
   "outputs": [],
   "source": [
    "import sys\n",
    "# adding to the path variables the one folder higher (locally, not changing system variables)\n",
    "sys.path.append(\"..\")\n",
    "import pandas as pd\n",
    "import numpy as np\n",
    "import warnings\n",
    "import mlflow\n",
    "import matplotlib.pyplot as plt\n",
    "import rasterio\n",
    "import geopandas as geopd\n",
    "import rasterio.rio\n",
    "import seaborn as sns\n",
    "import datetime as dt \n",
    "\n",
    "from rasterio.plot import show\n",
    "\n",
    "import pyreadr\n",
    "\n"
   ]
  },
  {
   "cell_type": "code",
   "execution_count": 2,
   "metadata": {},
   "outputs": [],
   "source": [
    "foxes_all = geopd.read_file(\"../data/cleaned_shapefiles/foxes_all.shp\")\n",
    "foxes_resamp = geopd.read_file(\"../data/cleaned_shapefiles/foxes_resamp.shp\")\n",
    "sample_points = geopd.read_file(\"../data/cleaned_shapefiles/sample_points.shp\")\n"
   ]
  },
  {
   "cell_type": "code",
   "execution_count": 6,
   "metadata": {},
   "outputs": [
    {
     "name": "stdout",
     "output_type": "stream",
     "text": [
      "<class 'geopandas.geodataframe.GeoDataFrame'>\n",
      "RangeIndex: 50368 entries, 0 to 50367\n",
      "Data columns (total 13 columns):\n",
      " #   Column    Non-Null Count  Dtype         \n",
      "---  ------    --------------  -----         \n",
      " 0   x_        50368 non-null  float64       \n",
      " 1   y_        50368 non-null  float64       \n",
      " 2   t_        50368 non-null  datetime64[ns]\n",
      " 3   id        50368 non-null  object        \n",
      " 4   sex       50368 non-null  object        \n",
      " 5   NDVI      50368 non-null  float64       \n",
      " 6   NDMI      50368 non-null  float64       \n",
      " 7   soil      50368 non-null  object        \n",
      " 8   veg       50368 non-null  object        \n",
      " 9   slope     50368 non-null  float64       \n",
      " 10  aspect    50368 non-null  float64       \n",
      " 11  elev      50368 non-null  float64       \n",
      " 12  geometry  50368 non-null  geometry      \n",
      "dtypes: datetime64[ns](1), float64(7), geometry(1), object(4)\n",
      "memory usage: 5.0+ MB\n"
     ]
    }
   ],
   "source": [
    "foxes_all.info()"
   ]
  }
 ],
 "metadata": {
  "kernelspec": {
   "display_name": ".venv",
   "language": "python",
   "name": "python3"
  },
  "language_info": {
   "codemirror_mode": {
    "name": "ipython",
    "version": 3
   },
   "file_extension": ".py",
   "mimetype": "text/x-python",
   "name": "python",
   "nbconvert_exporter": "python",
   "pygments_lexer": "ipython3",
   "version": "3.9.8"
  },
  "orig_nbformat": 4,
  "vscode": {
   "interpreter": {
    "hash": "19ac0277738c8d003280297ca8a435e04eabeabc8c82e391b37813a7a623b1fe"
   }
  }
 },
 "nbformat": 4,
 "nbformat_minor": 2
}
