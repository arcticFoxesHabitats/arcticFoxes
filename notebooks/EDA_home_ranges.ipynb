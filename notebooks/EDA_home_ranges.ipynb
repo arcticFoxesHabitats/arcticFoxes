{
 "cells": [
  {
   "attachments": {},
   "cell_type": "markdown",
   "metadata": {},
   "source": [
    "# Notebook to calculate homeranges and create final dataframes"
   ]
  },
  {
   "cell_type": "code",
   "execution_count": null,
   "metadata": {
    "slideshow": {
     "slide_type": "skip"
    }
   },
   "outputs": [],
   "source": [
    "import pandas as pd\n",
    "import numpy as np\n",
    "import warnings\n",
    "import matplotlib.pyplot as plt\n",
    "import rasterio\n",
    "import geopandas as geopd\n",
    "import rasterio.rio\n",
    "import seaborn as sns\n",
    "import datetime as dt \n",
    "\n",
    "from rasterio.plot import show\n",
    "from scipy.spatial import ConvexHull\n",
    "\n",
    "import pyreadr\n",
    "\n",
    "import sys\n",
    "sys.path.append(\"../modeling\")\n",
    "import home_ranges as hr\n",
    "\n"
   ]
  },
  {
   "attachments": {},
   "cell_type": "markdown",
   "metadata": {},
   "source": [
    "First, read in the cleaned data"
   ]
  },
  {
   "cell_type": "code",
   "execution_count": null,
   "metadata": {},
   "outputs": [],
   "source": [
    "foxes_all = geopd.read_file(\"../data/cleaned_shapefiles/foxes_all.shp\")\n",
    "foxes_resamp = geopd.read_file(\"../data/cleaned_shapefiles/foxes_resamp.shp\")\n",
    "sample_points = geopd.read_file(\"../data/cleaned_shapefiles/sample_points.shp\")\n"
   ]
  },
  {
   "attachments": {},
   "cell_type": "markdown",
   "metadata": {},
   "source": [
    "Build infiv_fox_all, which contains all data for each individual fox"
   ]
  },
  {
   "cell_type": "code",
   "execution_count": null,
   "metadata": {},
   "outputs": [],
   "source": [
    "indiv_fox_all = {}\n",
    "for i in foxes_all.id.unique():\n",
    "    indiv_fox_all[i] = foxes_all[foxes_all.id == i]"
   ]
  },
  {
   "cell_type": "code",
   "execution_count": null,
   "metadata": {},
   "outputs": [],
   "source": [
    "foxes = list(indiv_fox_all.values())\n"
   ]
  },
  {
   "cell_type": "markdown",
   "metadata": {},
   "source": [
    "Building indiv_fox_resamp, which contains the resampled data for each individual fox"
   ]
  },
  {
   "cell_type": "code",
   "execution_count": null,
   "metadata": {},
   "outputs": [],
   "source": [
    "indiv_fox_resamp = {}\n",
    "for i in foxes_resamp.id.unique():\n",
    "    indiv_fox_resamp[i] = foxes_resamp[foxes_resamp.id == i]"
   ]
  },
  {
   "cell_type": "code",
   "execution_count": null,
   "metadata": {},
   "outputs": [],
   "source": [
    "foxes_indiv_resamp = list(indiv_fox_resamp.values())"
   ]
  },
  {
   "attachments": {},
   "cell_type": "markdown",
   "metadata": {},
   "source": [
    "## __Function Definition for Home Range plotting__\n",
    "The necessary functions are defined in the python script \"home_ranges\" in the \"modeling\" folder."
   ]
  },
  {
   "cell_type": "markdown",
   "metadata": {},
   "source": [
    "#### __Plotting the Home Ranges__"
   ]
  },
  {
   "cell_type": "markdown",
   "metadata": {},
   "source": [
    "For the foxes with all points."
   ]
  },
  {
   "cell_type": "code",
   "execution_count": null,
   "metadata": {},
   "outputs": [],
   "source": [
    "for i in foxes:\n",
    "    hr.hr_plot(i, 0.95)"
   ]
  },
  {
   "cell_type": "markdown",
   "metadata": {},
   "source": [
    "For the foxes with the resampled points"
   ]
  },
  {
   "cell_type": "code",
   "execution_count": null,
   "metadata": {},
   "outputs": [],
   "source": [
    "for i in foxes_indiv_resamp:\n",
    "    hr.hr_plot(i, 0.95)"
   ]
  },
  {
   "cell_type": "markdown",
   "metadata": {},
   "source": [
    "## __Final Data Frame for all Foxes__"
   ]
  },
  {
   "cell_type": "markdown",
   "metadata": {},
   "source": [
    "### Creating the Geometries for the Home Ranges"
   ]
  },
  {
   "cell_type": "code",
   "execution_count": null,
   "metadata": {},
   "outputs": [],
   "source": [
    "fox_area = [hr.hr_geometry_df(fox, 0.95) for fox in foxes]\n",
    "fox_hulls = [hr.hr_area(fox, 0.95) for fox in foxes]"
   ]
  },
  {
   "cell_type": "markdown",
   "metadata": {},
   "source": [
    "### Deleting the Points within the Home Ranges from the Sample Points"
   ]
  },
  {
   "cell_type": "code",
   "execution_count": null,
   "metadata": {},
   "outputs": [],
   "source": [
    "sample_points_all = sample_points.copy()\n",
    "for fox in fox_hulls:\n",
    "    sample_points_all = sample_points_all.difference(fox)"
   ]
  },
  {
   "cell_type": "markdown",
   "metadata": {},
   "source": [
    "### Processing the Data Frames for the Sample Points and the Foxes"
   ]
  },
  {
   "cell_type": "markdown",
   "metadata": {},
   "source": [
    "#### Creating Data Frame for Foxes\n",
    "\n",
    "The resulting data frame will only include the GPS data points of the foxes, that lie within the home range areas of these foxes. "
   ]
  },
  {
   "cell_type": "code",
   "execution_count": null,
   "metadata": {},
   "outputs": [],
   "source": [
    "foxes_all = []\n",
    "for i in range(0,len(foxes)-1):\n",
    "    if i == 0:\n",
    "        foxes_all = pd.concat([foxes[i], foxes[i+1]])\n",
    "    else:\n",
    "        foxes_all = pd.concat([foxes_all, foxes[i+1]])"
   ]
  },
  {
   "cell_type": "code",
   "execution_count": null,
   "metadata": {},
   "outputs": [],
   "source": [
    "fox_all = []\n",
    "for i in range(0,len(fox_area)-1):\n",
    "    if i == 0:\n",
    "        fox_all = pd.concat([fox_area[i], fox_area[i+1]])\n",
    "    else:\n",
    "        fox_all = pd.concat([fox_all, fox_area[i+1]])"
   ]
  },
  {
   "cell_type": "code",
   "execution_count": null,
   "metadata": {},
   "outputs": [],
   "source": [
    "fox_all_merged = foxes_all.merge(fox_all, on = [\"geometry\", \"id\"])"
   ]
  },
  {
   "cell_type": "markdown",
   "metadata": {},
   "source": [
    "#### Creating Data Frame for Sample Points\n",
    "\n",
    "The resulting data frame will only include the GPS points of the sample points that lie outside of the home range areas of the foxes. "
   ]
  },
  {
   "cell_type": "code",
   "execution_count": null,
   "metadata": {},
   "outputs": [],
   "source": [
    "sample_points_df = geopd.GeoDataFrame(geometry = sample_points_all)"
   ]
  },
  {
   "cell_type": "code",
   "execution_count": null,
   "metadata": {},
   "outputs": [],
   "source": [
    "sample_points_all_merged = sample_points.merge(sample_points_df, on = \"geometry\")\n",
    "sample_points_all_merged.shape"
   ]
  },
  {
   "cell_type": "markdown",
   "metadata": {},
   "source": [
    "### Combining the Data Frames into Final Data Frame for all Foxes"
   ]
  },
  {
   "cell_type": "markdown",
   "metadata": {},
   "source": [
    "First the value for the target variable is put into a column in both data frames. Further, we set the id for the sample points to \"available\", as these are the points that were available to the foxes, but not used in their home ranges. Further we rename \"x\" and \"y\" in the sample points to match \"x_\" and \"y_\" in the fox data frame."
   ]
  },
  {
   "cell_type": "code",
   "execution_count": null,
   "metadata": {},
   "outputs": [],
   "source": [
    "fox_all_merged[\"target\"] = 1\n",
    "\n",
    "\n",
    "sample_points_all_merged[\"target\"] = 0\n",
    "sample_points_all_merged[\"id\"] = \"available\"\n",
    "sample_points_all_merged = sample_points_all_merged.rename(columns = {\"x\" : \"x_\",\n",
    "                                            \"y\" : \"y_\"})"
   ]
  },
  {
   "cell_type": "markdown",
   "metadata": {},
   "source": [
    "Then we concatenate both data frames, resulting in a combined data frame, with NaN values in the target = 0 columns for timestamp, sex and t_, as we do not have meaningful values for available points for these features."
   ]
  },
  {
   "cell_type": "code",
   "execution_count": null,
   "metadata": {},
   "outputs": [],
   "source": [
    "df_all = pd.concat([fox_all_merged, sample_points_all_merged])"
   ]
  },
  {
   "cell_type": "markdown",
   "metadata": {},
   "source": [
    "And finally we export the resulting data frame as shapefile for use in future notebooks."
   ]
  },
  {
   "cell_type": "code",
   "execution_count": null,
   "metadata": {},
   "outputs": [],
   "source": [
    "df_all.to_file(\"../data/final_shapefiles/foxes_modelling_all.shp\")\n"
   ]
  },
  {
   "cell_type": "markdown",
   "metadata": {},
   "source": [
    "## __Final Data Frame for resampled Foxes__"
   ]
  },
  {
   "cell_type": "markdown",
   "metadata": {},
   "source": [
    "### Creating the Geometries for the Home Ranges"
   ]
  },
  {
   "cell_type": "code",
   "execution_count": null,
   "metadata": {},
   "outputs": [],
   "source": [
    "fox_area_resamp = [hr.hr_geometry_df(fox, 0.95) for fox in foxes_indiv_resamp]\n",
    "fox_hulls_resamp = [hr.hr_area(fox, 0.95) for fox in foxes_indiv_resamp]"
   ]
  },
  {
   "cell_type": "markdown",
   "metadata": {},
   "source": [
    "### Deleting the Points within the Home Ranges from the Sample Points"
   ]
  },
  {
   "cell_type": "code",
   "execution_count": null,
   "metadata": {},
   "outputs": [],
   "source": [
    "sample_points_resamp = sample_points.copy()\n",
    "for fox in fox_hulls_resamp:\n",
    "    sample_points_resamp = sample_points_resamp.difference(fox)"
   ]
  },
  {
   "cell_type": "markdown",
   "metadata": {},
   "source": [
    "### Processing the Data Frames for the Sample Points and the resampled Foxes"
   ]
  },
  {
   "cell_type": "markdown",
   "metadata": {},
   "source": [
    "#### Creating Data Frame for Foxes\n",
    "\n",
    "The resulting data frame will only include the GPS data points of the foxes, that lie within the home range areas of these foxes. "
   ]
  },
  {
   "cell_type": "code",
   "execution_count": null,
   "metadata": {},
   "outputs": [],
   "source": [
    "foxes_resamp = []\n",
    "for i in range(0,len(foxes_indiv_resamp)-1):\n",
    "    if i == 0:\n",
    "        foxes_resamp = pd.concat([foxes_indiv_resamp[i], foxes_indiv_resamp[i+1]])\n",
    "    else:\n",
    "        foxes_resamp = pd.concat([foxes_resamp, foxes_indiv_resamp[i+1]])"
   ]
  },
  {
   "cell_type": "code",
   "execution_count": null,
   "metadata": {},
   "outputs": [],
   "source": [
    "fox_resamp = []\n",
    "for i in range(0,len(fox_area_resamp)-1):\n",
    "    if i == 0:\n",
    "        fox_resamp = pd.concat([fox_area_resamp[i], fox_area_resamp[i+1]])\n",
    "    else:\n",
    "        fox_resamp = pd.concat([fox_resamp, fox_area_resamp[i+1]])"
   ]
  },
  {
   "cell_type": "code",
   "execution_count": null,
   "metadata": {},
   "outputs": [],
   "source": [
    "fox_resamp_merged = foxes_resamp.merge(fox_resamp, on = [\"geometry\", \"id\"])\n",
    "fox_resamp_merged.shape"
   ]
  },
  {
   "cell_type": "markdown",
   "metadata": {},
   "source": [
    "#### Creating Data Frame for Sample Points\n",
    "\n",
    "The resulting data frame will only include the GPS points of the sample points that lie outside of the home range areas of the foxes. "
   ]
  },
  {
   "cell_type": "code",
   "execution_count": null,
   "metadata": {},
   "outputs": [],
   "source": [
    "sample_resamp_df = geopd.GeoDataFrame(geometry = sample_points_resamp)"
   ]
  },
  {
   "cell_type": "code",
   "execution_count": null,
   "metadata": {},
   "outputs": [],
   "source": [
    "sample_points_resamp_merged = sample_points.merge(sample_resamp_df, on = \"geometry\")\n",
    "sample_points_resamp_merged.shape"
   ]
  },
  {
   "cell_type": "code",
   "execution_count": null,
   "metadata": {},
   "outputs": [],
   "source": [
    "sample_points_resamp_merged = sample_points_resamp_merged.iloc[::5, :]\n",
    "sample_points_resamp_merged.shape"
   ]
  },
  {
   "cell_type": "markdown",
   "metadata": {},
   "source": [
    "### Combining the Data Frames into Final Data Frame for resampled Foxes"
   ]
  },
  {
   "cell_type": "markdown",
   "metadata": {},
   "source": [
    "First the value for the target variable is put into a column in both data frames. Further, we set the id for the sample points to \"available\", as these are the points that were available to the foxes, but not used in their home ranges. Further we rename \"x\" and \"y\" in the sample points to match \"x_\" and \"y_\" in the fox data frame."
   ]
  },
  {
   "cell_type": "code",
   "execution_count": null,
   "metadata": {},
   "outputs": [],
   "source": [
    "fox_resamp_merged[\"target\"] = 1\n",
    "\n",
    "\n",
    "sample_points_resamp_merged[\"target\"] = 0\n",
    "sample_points_resamp_merged[\"id\"] = \"available\"\n",
    "sample_points_resamp_merged = sample_points_resamp_merged.rename(columns = {\"x\" : \"x_\",\n",
    "                                            \"y\" : \"y_\"})"
   ]
  },
  {
   "cell_type": "markdown",
   "metadata": {},
   "source": [
    "Then we concatenate both data frames, resulting in a combined data frame, with NaN values in the target = 0 columns for timestamp, sex and t_, as we do not have meaningful values for available points for these features."
   ]
  },
  {
   "cell_type": "code",
   "execution_count": null,
   "metadata": {},
   "outputs": [],
   "source": [
    "df_resamp = pd.concat([fox_resamp_merged, sample_points_resamp_merged])\n",
    "df_resamp.head()"
   ]
  },
  {
   "cell_type": "code",
   "execution_count": null,
   "metadata": {},
   "outputs": [],
   "source": [
    "df_resamp.shape"
   ]
  },
  {
   "cell_type": "markdown",
   "metadata": {},
   "source": [
    "And finally we export the resulting data frame as shapefile for use in future notebooks."
   ]
  },
  {
   "cell_type": "code",
   "execution_count": null,
   "metadata": {},
   "outputs": [],
   "source": [
    "df_resamp.to_file(\"../data/final_shapefiles/foxes_modelling_resamp.shp\")\n"
   ]
  }
 ],
 "metadata": {
  "kernelspec": {
   "display_name": "Python 3.9.8 ('.venv': venv)",
   "language": "python",
   "name": "python3"
  },
  "language_info": {
   "codemirror_mode": {
    "name": "ipython",
    "version": 3
   },
   "file_extension": ".py",
   "mimetype": "text/x-python",
   "name": "python",
   "nbconvert_exporter": "python",
   "pygments_lexer": "ipython3",
   "version": "3.9.8"
  },
  "orig_nbformat": 4,
  "vscode": {
   "interpreter": {
    "hash": "a6a69aa757ec17a4e0946f75be1e0779f2abbf22d97369245d2f8ed69441e342"
   }
  }
 },
 "nbformat": 4,
 "nbformat_minor": 2
}
