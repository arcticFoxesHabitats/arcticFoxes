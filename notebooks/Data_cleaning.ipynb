{
 "cells": [
  {
   "cell_type": "markdown",
   "metadata": {},
   "source": [
    "# MLFLOW setup in Jupyter Notebook\n",
    "\n",
    "This notebook contains a small Data Science Project where MLFlow is used to log all Feature Engineering and Modeling Parameters as well as Metrics.\n",
    "\n"
   ]
  },
  {
   "cell_type": "markdown",
   "metadata": {},
   "source": [
    "## Loading Data"
   ]
  },
  {
   "cell_type": "code",
   "execution_count": 1,
   "metadata": {
    "slideshow": {
     "slide_type": "skip"
    }
   },
   "outputs": [],
   "source": [
    "import sys\n",
    "# adding to the path variables the one folder higher (locally, not changing system variables)\n",
    "sys.path.append(\"..\")\n",
    "import pandas as pd\n",
    "import numpy as np\n",
    "import warnings\n",
    "import mlflow\n",
    "import matplotlib.pyplot as plt\n",
    "import rasterio\n",
    "import geopandas as geopd\n",
    "import rasterio.rio\n",
    "import seaborn as sns\n",
    "import datetime as dt \n",
    "\n",
    "from rasterio.plot import show\n",
    "\n",
    "import pyreadr\n",
    "\n"
   ]
  },
  {
   "cell_type": "code",
   "execution_count": 2,
   "metadata": {},
   "outputs": [],
   "source": [
    "result = pyreadr.read_r('../data/r_files/track_all.RDS') \n",
    "result_resamp = pyreadr.read_r('../data/r_files/track_resamp.RDS') \n",
    "#result_covar = pyreadr.read_r('../data/r_files/covariates.RDS') "
   ]
  },
  {
   "cell_type": "code",
   "execution_count": 3,
   "metadata": {
    "slideshow": {
     "slide_type": "skip"
    }
   },
   "outputs": [],
   "source": [
    "foxy_df = result[None]\n",
    "foxy_df_resamp = result_resamp[None]\n",
    "fox_metadata = pd.read_csv(\"../data/additional_info.csv\", sep = \"\\t\")"
   ]
  },
  {
   "cell_type": "code",
   "execution_count": 4,
   "metadata": {},
   "outputs": [
    {
     "data": {
      "text/html": [
       "<div>\n",
       "<style scoped>\n",
       "    .dataframe tbody tr th:only-of-type {\n",
       "        vertical-align: middle;\n",
       "    }\n",
       "\n",
       "    .dataframe tbody tr th {\n",
       "        vertical-align: top;\n",
       "    }\n",
       "\n",
       "    .dataframe thead th {\n",
       "        text-align: right;\n",
       "    }\n",
       "</style>\n",
       "<table border=\"1\" class=\"dataframe\">\n",
       "  <thead>\n",
       "    <tr style=\"text-align: right;\">\n",
       "      <th></th>\n",
       "      <th>individual-local-identifier</th>\n",
       "      <th>tag-local-identifier</th>\n",
       "      <th>den</th>\n",
       "      <th>sex</th>\n",
       "      <th>litter</th>\n",
       "      <th>active from</th>\n",
       "      <th>active till</th>\n",
       "      <th>GPS applied date</th>\n",
       "      <th>upload interval August</th>\n",
       "      <th>upload interval September</th>\n",
       "    </tr>\n",
       "  </thead>\n",
       "  <tbody>\n",
       "    <tr>\n",
       "      <th>0</th>\n",
       "      <td>EEB1231F</td>\n",
       "      <td>2018-FSBD608-001</td>\n",
       "      <td>Girjas</td>\n",
       "      <td>F</td>\n",
       "      <td>NaN</td>\n",
       "      <td>2018.07.10 01:56</td>\n",
       "      <td>2018.10.20 14:48</td>\n",
       "      <td>?</td>\n",
       "      <td>5h</td>\n",
       "      <td>5h</td>\n",
       "    </tr>\n",
       "    <tr>\n",
       "      <th>1</th>\n",
       "      <td>0BEC311C</td>\n",
       "      <td>2018-FSBD641_b-r/gr-b</td>\n",
       "      <td>Sadde</td>\n",
       "      <td>F</td>\n",
       "      <td>yes</td>\n",
       "      <td>2018.07.28 02:16</td>\n",
       "      <td>2018.09.28 14:47</td>\n",
       "      <td>2018.07.28</td>\n",
       "      <td>15 min</td>\n",
       "      <td>15 min</td>\n",
       "    </tr>\n",
       "    <tr>\n",
       "      <th>2</th>\n",
       "      <td>89B1231F</td>\n",
       "      <td>2018-FSBD615_v-gr/r-gr</td>\n",
       "      <td>Tj�gn�ris</td>\n",
       "      <td>F</td>\n",
       "      <td>yes</td>\n",
       "      <td>2018.07.26 06:43</td>\n",
       "      <td>2018.10.28 19:43</td>\n",
       "      <td>2019.07.26</td>\n",
       "      <td>15 min</td>\n",
       "      <td>15 min</td>\n",
       "    </tr>\n",
       "    <tr>\n",
       "      <th>3</th>\n",
       "      <td>B0B1231F</td>\n",
       "      <td>2018-FSBD619_r-gr/r-y</td>\n",
       "      <td>Dadtjatj�kk�</td>\n",
       "      <td>F</td>\n",
       "      <td>yes</td>\n",
       "      <td>2018.07.24 05:17</td>\n",
       "      <td>2018.11.07 17:10</td>\n",
       "      <td>2019.07.24</td>\n",
       "      <td>15 min</td>\n",
       "      <td>15 min</td>\n",
       "    </tr>\n",
       "    <tr>\n",
       "      <th>4</th>\n",
       "      <td>BBB0231F</td>\n",
       "      <td>2019-FSBD609-002</td>\n",
       "      <td>Smuole</td>\n",
       "      <td>F</td>\n",
       "      <td>yes</td>\n",
       "      <td>2019.07.22 02:45</td>\n",
       "      <td>2019.09.30 19:14</td>\n",
       "      <td>2019-07-22</td>\n",
       "      <td>15 min</td>\n",
       "      <td>15min -&gt; 1h -&gt; 4h</td>\n",
       "    </tr>\n",
       "  </tbody>\n",
       "</table>\n",
       "</div>"
      ],
      "text/plain": [
       "  individual-local-identifier    tag-local-identifier           den sex  \\\n",
       "0                    EEB1231F        2018-FSBD608-001        Girjas   F   \n",
       "1                    0BEC311C   2018-FSBD641_b-r/gr-b         Sadde   F   \n",
       "2                    89B1231F  2018-FSBD615_v-gr/r-gr     Tj�gn�ris   F   \n",
       "3                    B0B1231F   2018-FSBD619_r-gr/r-y  Dadtjatj�kk�   F   \n",
       "4                    BBB0231F        2019-FSBD609-002        Smuole   F   \n",
       "\n",
       "  litter       active from       active till GPS applied date  \\\n",
       "0    NaN  2018.07.10 01:56  2018.10.20 14:48                ?   \n",
       "1    yes  2018.07.28 02:16  2018.09.28 14:47       2018.07.28   \n",
       "2    yes  2018.07.26 06:43  2018.10.28 19:43       2019.07.26   \n",
       "3    yes  2018.07.24 05:17  2018.11.07 17:10       2019.07.24   \n",
       "4    yes  2019.07.22 02:45  2019.09.30 19:14       2019-07-22   \n",
       "\n",
       "  upload interval August upload interval September  \n",
       "0                     5h                        5h  \n",
       "1                 15 min                    15 min  \n",
       "2                 15 min                    15 min  \n",
       "3                 15 min                    15 min  \n",
       "4                 15 min         15min -> 1h -> 4h  "
      ]
     },
     "execution_count": 4,
     "metadata": {},
     "output_type": "execute_result"
    }
   ],
   "source": [
    "fox_metadata.head()"
   ]
  },
  {
   "cell_type": "code",
   "execution_count": 5,
   "metadata": {
    "slideshow": {
     "slide_type": "skip"
    }
   },
   "outputs": [
    {
     "data": {
      "text/html": [
       "<div>\n",
       "<style scoped>\n",
       "    .dataframe tbody tr th:only-of-type {\n",
       "        vertical-align: middle;\n",
       "    }\n",
       "\n",
       "    .dataframe tbody tr th {\n",
       "        vertical-align: top;\n",
       "    }\n",
       "\n",
       "    .dataframe thead th {\n",
       "        text-align: right;\n",
       "    }\n",
       "</style>\n",
       "<table border=\"1\" class=\"dataframe\">\n",
       "  <thead>\n",
       "    <tr style=\"text-align: right;\">\n",
       "      <th></th>\n",
       "      <th>id</th>\n",
       "      <th>sex</th>\n",
       "      <th>x_</th>\n",
       "      <th>y_</th>\n",
       "      <th>t_</th>\n",
       "      <th>burst_</th>\n",
       "    </tr>\n",
       "  </thead>\n",
       "  <tbody>\n",
       "    <tr>\n",
       "      <th>0</th>\n",
       "      <td>2018-FSBD608-001</td>\n",
       "      <td>F</td>\n",
       "      <td>548522.717454</td>\n",
       "      <td>7.353167e+06</td>\n",
       "      <td>2018-07-10 01:56:30</td>\n",
       "      <td>1.0</td>\n",
       "    </tr>\n",
       "    <tr>\n",
       "      <th>1</th>\n",
       "      <td>2018-FSBD608-001</td>\n",
       "      <td>F</td>\n",
       "      <td>548525.680513</td>\n",
       "      <td>7.353168e+06</td>\n",
       "      <td>2018-07-10 06:56:32</td>\n",
       "      <td>2.0</td>\n",
       "    </tr>\n",
       "    <tr>\n",
       "      <th>2</th>\n",
       "      <td>2018-FSBD608-001</td>\n",
       "      <td>F</td>\n",
       "      <td>548539.963810</td>\n",
       "      <td>7.353164e+06</td>\n",
       "      <td>2018-07-10 11:56:32</td>\n",
       "      <td>3.0</td>\n",
       "    </tr>\n",
       "    <tr>\n",
       "      <th>3</th>\n",
       "      <td>2018-FSBD608-001</td>\n",
       "      <td>F</td>\n",
       "      <td>548195.507163</td>\n",
       "      <td>7.352493e+06</td>\n",
       "      <td>2018-07-10 22:31:11</td>\n",
       "      <td>4.0</td>\n",
       "    </tr>\n",
       "    <tr>\n",
       "      <th>4</th>\n",
       "      <td>2018-FSBD608-001</td>\n",
       "      <td>F</td>\n",
       "      <td>548558.891944</td>\n",
       "      <td>7.352589e+06</td>\n",
       "      <td>2018-07-11 13:31:01</td>\n",
       "      <td>5.0</td>\n",
       "    </tr>\n",
       "    <tr>\n",
       "      <th>...</th>\n",
       "      <td>...</td>\n",
       "      <td>...</td>\n",
       "      <td>...</td>\n",
       "      <td>...</td>\n",
       "      <td>...</td>\n",
       "      <td>...</td>\n",
       "    </tr>\n",
       "    <tr>\n",
       "      <th>15078</th>\n",
       "      <td>2019-FSBD641_y-gr/r-b</td>\n",
       "      <td>M</td>\n",
       "      <td>543632.466003</td>\n",
       "      <td>7.379183e+06</td>\n",
       "      <td>2019-12-14 08:10:19</td>\n",
       "      <td>49.0</td>\n",
       "    </tr>\n",
       "    <tr>\n",
       "      <th>15079</th>\n",
       "      <td>2019-FSBD641_y-gr/r-b</td>\n",
       "      <td>M</td>\n",
       "      <td>544607.109028</td>\n",
       "      <td>7.378558e+06</td>\n",
       "      <td>2019-12-14 12:10:15</td>\n",
       "      <td>50.0</td>\n",
       "    </tr>\n",
       "    <tr>\n",
       "      <th>15080</th>\n",
       "      <td>2019-FSBD641_y-gr/r-b</td>\n",
       "      <td>M</td>\n",
       "      <td>544147.656802</td>\n",
       "      <td>7.379631e+06</td>\n",
       "      <td>2019-12-14 16:10:13</td>\n",
       "      <td>51.0</td>\n",
       "    </tr>\n",
       "    <tr>\n",
       "      <th>15081</th>\n",
       "      <td>2019-FSBD641_y-gr/r-b</td>\n",
       "      <td>M</td>\n",
       "      <td>539474.780875</td>\n",
       "      <td>7.379241e+06</td>\n",
       "      <td>2019-12-15 00:10:14</td>\n",
       "      <td>52.0</td>\n",
       "    </tr>\n",
       "    <tr>\n",
       "      <th>15082</th>\n",
       "      <td>2019-FSBD641_y-gr/r-b</td>\n",
       "      <td>M</td>\n",
       "      <td>544191.344192</td>\n",
       "      <td>7.377676e+06</td>\n",
       "      <td>2019-12-15 04:10:21</td>\n",
       "      <td>53.0</td>\n",
       "    </tr>\n",
       "  </tbody>\n",
       "</table>\n",
       "<p>15083 rows × 6 columns</p>\n",
       "</div>"
      ],
      "text/plain": [
       "                          id sex             x_            y_  \\\n",
       "0           2018-FSBD608-001   F  548522.717454  7.353167e+06   \n",
       "1           2018-FSBD608-001   F  548525.680513  7.353168e+06   \n",
       "2           2018-FSBD608-001   F  548539.963810  7.353164e+06   \n",
       "3           2018-FSBD608-001   F  548195.507163  7.352493e+06   \n",
       "4           2018-FSBD608-001   F  548558.891944  7.352589e+06   \n",
       "...                      ...  ..            ...           ...   \n",
       "15078  2019-FSBD641_y-gr/r-b   M  543632.466003  7.379183e+06   \n",
       "15079  2019-FSBD641_y-gr/r-b   M  544607.109028  7.378558e+06   \n",
       "15080  2019-FSBD641_y-gr/r-b   M  544147.656802  7.379631e+06   \n",
       "15081  2019-FSBD641_y-gr/r-b   M  539474.780875  7.379241e+06   \n",
       "15082  2019-FSBD641_y-gr/r-b   M  544191.344192  7.377676e+06   \n",
       "\n",
       "                       t_  burst_  \n",
       "0     2018-07-10 01:56:30     1.0  \n",
       "1     2018-07-10 06:56:32     2.0  \n",
       "2     2018-07-10 11:56:32     3.0  \n",
       "3     2018-07-10 22:31:11     4.0  \n",
       "4     2018-07-11 13:31:01     5.0  \n",
       "...                   ...     ...  \n",
       "15078 2019-12-14 08:10:19    49.0  \n",
       "15079 2019-12-14 12:10:15    50.0  \n",
       "15080 2019-12-14 16:10:13    51.0  \n",
       "15081 2019-12-15 00:10:14    52.0  \n",
       "15082 2019-12-15 04:10:21    53.0  \n",
       "\n",
       "[15083 rows x 6 columns]"
      ]
     },
     "execution_count": 5,
     "metadata": {},
     "output_type": "execute_result"
    }
   ],
   "source": [
    "foxy_df_resamp"
   ]
  },
  {
   "cell_type": "markdown",
   "metadata": {},
   "source": [
    "### Loading in the raster layers for the features"
   ]
  },
  {
   "cell_type": "code",
   "execution_count": 6,
   "metadata": {},
   "outputs": [],
   "source": [
    "elev = rasterio.open(\"../data/Rasters_for_R/DEM_30.tif\")\n",
    "aspect = rasterio.open(\"../data/Rasters_for_R/aspect_30.tif\")\n",
    "NDVI_NDMI = rasterio.open(\"../data/Rasters_for_R/NDVI_arj_vind.tif\")\n",
    "slope = rasterio.open(\"../data/Rasters_for_R/slope_arj_vind.tif\")\n",
    "veg = rasterio.open(\"../data/Rasters_for_R/veg_nofor_morecats.tif\")\n",
    "soil = rasterio.open(\"../data/Rasters_for_R/soil_av_clip.tif\")\n",
    "NDVI = rasterio.band(NDVI_NDMI, 3)\n",
    "NDMI = rasterio.band(NDVI_NDMI, 2)\n"
   ]
  },
  {
   "cell_type": "markdown",
   "metadata": {},
   "source": [
    "## Building and Annotating the data frames\n",
    "### DF containing all points"
   ]
  },
  {
   "cell_type": "code",
   "execution_count": 7,
   "metadata": {},
   "outputs": [],
   "source": [
    "gdf_all = geopd.GeoDataFrame(\n",
    "    foxy_df, geometry=geopd.points_from_xy(foxy_df.x_, foxy_df.y_))"
   ]
  },
  {
   "cell_type": "code",
   "execution_count": 8,
   "metadata": {},
   "outputs": [],
   "source": [
    "coord_list_all = [(x,y) for x,y in zip(gdf_all['geometry'].x , gdf_all['geometry'].y)]"
   ]
  },
  {
   "cell_type": "code",
   "execution_count": 9,
   "metadata": {},
   "outputs": [],
   "source": [
    "gdf_all['NDVI_NDMI'] = [x for x in NDVI_NDMI.sample(coord_list_all)]\n",
    "gdf_all[\"NDVI\"] = [gdf_all.NDVI_NDMI[i][2] for i in range(0,gdf_all.shape[0])]\n",
    "gdf_all[\"NDMI\"] = [gdf_all.NDVI_NDMI[i][1] for i in range(0,gdf_all.shape[0])]\n",
    "gdf_all['soil'] = [x[0] for x in soil.sample(coord_list_all)]\n",
    "gdf_all['veg'] = [x[0] for x in veg.sample(coord_list_all)]\n",
    "gdf_all['slope'] = [x[0] for x in slope.sample(coord_list_all)]\n",
    "gdf_all['aspect'] = [x[0] for x in aspect.sample(coord_list_all)]\n",
    "gdf_all['elev'] = [x[0] for x in elev.sample(coord_list_all)]\n",
    "gdf_all.drop(\"NDVI_NDMI\", inplace = True, axis = 1)\n"
   ]
  },
  {
   "cell_type": "markdown",
   "metadata": {},
   "source": [
    "### DF containing resampled points\n",
    "resampled over 2 hours"
   ]
  },
  {
   "cell_type": "code",
   "execution_count": 10,
   "metadata": {},
   "outputs": [],
   "source": [
    "gdf_resamp = geopd.GeoDataFrame(\n",
    "    foxy_df_resamp, geometry=geopd.points_from_xy(foxy_df_resamp.x_, foxy_df_resamp.y_))"
   ]
  },
  {
   "cell_type": "code",
   "execution_count": 11,
   "metadata": {},
   "outputs": [],
   "source": [
    "coord_list_resamp = [(x,y) for x,y in zip(gdf_resamp['geometry'].x , gdf_resamp['geometry'].y)]"
   ]
  },
  {
   "cell_type": "code",
   "execution_count": 12,
   "metadata": {},
   "outputs": [],
   "source": [
    "gdf_resamp['NDVI_NDMI'] = [x for x in NDVI_NDMI.sample(coord_list_resamp)]\n",
    "gdf_resamp[\"NDVI\"] = [gdf_resamp.NDVI_NDMI[i][2] for i in range(0,gdf_resamp.shape[0])]\n",
    "gdf_resamp[\"NDMI\"] = [gdf_resamp.NDVI_NDMI[i][1] for i in range(0,gdf_resamp.shape[0])]\n",
    "gdf_resamp['soil'] = [x[0] for x in soil.sample(coord_list_resamp)]\n",
    "gdf_resamp['veg'] = [x[0] for x in veg.sample(coord_list_resamp)]\n",
    "gdf_resamp['slope'] = [x[0] for x in slope.sample(coord_list_resamp)]\n",
    "gdf_resamp['aspect'] = [x[0] for x in aspect.sample(coord_list_resamp)]\n",
    "gdf_resamp['elev'] = [x[0] for x in elev.sample(coord_list_resamp)]\n",
    "gdf_resamp.drop(\"NDVI_NDMI\", inplace = True, axis=1)\n"
   ]
  },
  {
   "cell_type": "markdown",
   "metadata": {},
   "source": [
    "### DF Sample point raster\n",
    "first building a raster over the whole area\n",
    "Then annotating the points"
   ]
  },
  {
   "cell_type": "code",
   "execution_count": 13,
   "metadata": {},
   "outputs": [],
   "source": [
    "xy = np.mgrid[gdf_all.x_.min():gdf_all.x_.max():70, gdf_all.y_.min():gdf_all.y_.max():70].reshape(2,-1).T\n",
    "xy = pd.DataFrame(xy, columns= [\"x\",\"y\"])"
   ]
  },
  {
   "cell_type": "code",
   "execution_count": 14,
   "metadata": {},
   "outputs": [
    {
     "data": {
      "text/plain": [
       "856829"
      ]
     },
     "execution_count": 14,
     "metadata": {},
     "output_type": "execute_result"
    }
   ],
   "source": [
    "len(xy)"
   ]
  },
  {
   "cell_type": "code",
   "execution_count": 15,
   "metadata": {},
   "outputs": [
    {
     "ename": "KeyboardInterrupt",
     "evalue": "",
     "output_type": "error",
     "traceback": [
      "\u001b[0;31m---------------------------------------------------------------------------\u001b[0m",
      "\u001b[0;31mKeyboardInterrupt\u001b[0m                         Traceback (most recent call last)",
      "Cell \u001b[0;32mIn[15], line 4\u001b[0m\n\u001b[1;32m      1\u001b[0m sample_points \u001b[39m=\u001b[39m geopd\u001b[39m.\u001b[39mGeoDataFrame(\n\u001b[1;32m      2\u001b[0m     xy, geometry\u001b[39m=\u001b[39mgeopd\u001b[39m.\u001b[39mpoints_from_xy(xy\u001b[39m.\u001b[39mx, xy\u001b[39m.\u001b[39my))\n\u001b[1;32m      3\u001b[0m coord_list_sample \u001b[39m=\u001b[39m [(x,y) \u001b[39mfor\u001b[39;00m x,y \u001b[39min\u001b[39;00m \u001b[39mzip\u001b[39m(sample_points[\u001b[39m'\u001b[39m\u001b[39mgeometry\u001b[39m\u001b[39m'\u001b[39m]\u001b[39m.\u001b[39mx , sample_points[\u001b[39m'\u001b[39m\u001b[39mgeometry\u001b[39m\u001b[39m'\u001b[39m]\u001b[39m.\u001b[39my)]\n\u001b[0;32m----> 4\u001b[0m sample_points[\u001b[39m'\u001b[39m\u001b[39mNDVI_NDMI\u001b[39m\u001b[39m'\u001b[39m] \u001b[39m=\u001b[39m [x \u001b[39mfor\u001b[39;00m x \u001b[39min\u001b[39;00m NDVI_NDMI\u001b[39m.\u001b[39msample(coord_list_sample)]\n\u001b[1;32m      6\u001b[0m sample_points[\u001b[39m\"\u001b[39m\u001b[39mNDVI\u001b[39m\u001b[39m\"\u001b[39m] \u001b[39m=\u001b[39m [sample_points\u001b[39m.\u001b[39mNDVI_NDMI[i][\u001b[39m2\u001b[39m] \u001b[39mfor\u001b[39;00m i \u001b[39min\u001b[39;00m \u001b[39mrange\u001b[39m(\u001b[39m0\u001b[39m,sample_points\u001b[39m.\u001b[39mshape[\u001b[39m0\u001b[39m])]\n\u001b[1;32m      7\u001b[0m sample_points[\u001b[39m\"\u001b[39m\u001b[39mNDMI\u001b[39m\u001b[39m\"\u001b[39m] \u001b[39m=\u001b[39m [sample_points\u001b[39m.\u001b[39mNDVI_NDMI[i][\u001b[39m1\u001b[39m] \u001b[39mfor\u001b[39;00m i \u001b[39min\u001b[39;00m \u001b[39mrange\u001b[39m(\u001b[39m0\u001b[39m,sample_points\u001b[39m.\u001b[39mshape[\u001b[39m0\u001b[39m])]\n",
      "Cell \u001b[0;32mIn[15], line 4\u001b[0m, in \u001b[0;36m<listcomp>\u001b[0;34m(.0)\u001b[0m\n\u001b[1;32m      1\u001b[0m sample_points \u001b[39m=\u001b[39m geopd\u001b[39m.\u001b[39mGeoDataFrame(\n\u001b[1;32m      2\u001b[0m     xy, geometry\u001b[39m=\u001b[39mgeopd\u001b[39m.\u001b[39mpoints_from_xy(xy\u001b[39m.\u001b[39mx, xy\u001b[39m.\u001b[39my))\n\u001b[1;32m      3\u001b[0m coord_list_sample \u001b[39m=\u001b[39m [(x,y) \u001b[39mfor\u001b[39;00m x,y \u001b[39min\u001b[39;00m \u001b[39mzip\u001b[39m(sample_points[\u001b[39m'\u001b[39m\u001b[39mgeometry\u001b[39m\u001b[39m'\u001b[39m]\u001b[39m.\u001b[39mx , sample_points[\u001b[39m'\u001b[39m\u001b[39mgeometry\u001b[39m\u001b[39m'\u001b[39m]\u001b[39m.\u001b[39my)]\n\u001b[0;32m----> 4\u001b[0m sample_points[\u001b[39m'\u001b[39m\u001b[39mNDVI_NDMI\u001b[39m\u001b[39m'\u001b[39m] \u001b[39m=\u001b[39m [x \u001b[39mfor\u001b[39;00m x \u001b[39min\u001b[39;00m NDVI_NDMI\u001b[39m.\u001b[39msample(coord_list_sample)]\n\u001b[1;32m      6\u001b[0m sample_points[\u001b[39m\"\u001b[39m\u001b[39mNDVI\u001b[39m\u001b[39m\"\u001b[39m] \u001b[39m=\u001b[39m [sample_points\u001b[39m.\u001b[39mNDVI_NDMI[i][\u001b[39m2\u001b[39m] \u001b[39mfor\u001b[39;00m i \u001b[39min\u001b[39;00m \u001b[39mrange\u001b[39m(\u001b[39m0\u001b[39m,sample_points\u001b[39m.\u001b[39mshape[\u001b[39m0\u001b[39m])]\n\u001b[1;32m      7\u001b[0m sample_points[\u001b[39m\"\u001b[39m\u001b[39mNDMI\u001b[39m\u001b[39m\"\u001b[39m] \u001b[39m=\u001b[39m [sample_points\u001b[39m.\u001b[39mNDVI_NDMI[i][\u001b[39m1\u001b[39m] \u001b[39mfor\u001b[39;00m i \u001b[39min\u001b[39;00m \u001b[39mrange\u001b[39m(\u001b[39m0\u001b[39m,sample_points\u001b[39m.\u001b[39mshape[\u001b[39m0\u001b[39m])]\n",
      "File \u001b[0;32m~/neuefische/arcticFoxes/.venv/lib/python3.9/site-packages/rasterio/sample.py:67\u001b[0m, in \u001b[0;36msample_gen\u001b[0;34m(dataset, xy, indexes, masked)\u001b[0m\n\u001b[1;32m     65\u001b[0m \u001b[39melse\u001b[39;00m:\n\u001b[1;32m     66\u001b[0m     window \u001b[39m=\u001b[39m Window(col_off, row_off, \u001b[39m1\u001b[39m, \u001b[39m1\u001b[39m)\n\u001b[0;32m---> 67\u001b[0m     data \u001b[39m=\u001b[39m read(indexes, window\u001b[39m=\u001b[39;49mwindow, masked\u001b[39m=\u001b[39;49mmasked)\n\u001b[1;32m     68\u001b[0m     \u001b[39myield\u001b[39;00m data[:, \u001b[39m0\u001b[39m, \u001b[39m0\u001b[39m]\n",
      "File \u001b[0;32mrasterio/_io.pyx:600\u001b[0m, in \u001b[0;36mrasterio._io.DatasetReaderBase.read\u001b[0;34m()\u001b[0m\n",
      "File \u001b[0;32mrasterio/_base.pyx:644\u001b[0m, in \u001b[0;36mrasterio._base.DatasetBase.mask_flag_enums.__get__\u001b[0;34m()\u001b[0m\n",
      "File \u001b[0;32mrasterio/_base.pyx:645\u001b[0m, in \u001b[0;36mgenexpr\u001b[0;34m()\u001b[0m\n",
      "File \u001b[0;32m~/.pyenv/versions/3.9.8/lib/python3.9/enum.py:438\u001b[0m, in \u001b[0;36mEnumMeta.__iter__\u001b[0;34m(cls)\u001b[0m\n\u001b[1;32m    434\u001b[0m \u001b[39mdef\u001b[39;00m \u001b[39m__iter__\u001b[39m(\u001b[39mcls\u001b[39m):\n\u001b[1;32m    435\u001b[0m     \u001b[39m\"\"\"\u001b[39;00m\n\u001b[1;32m    436\u001b[0m \u001b[39m    Returns members in definition order.\u001b[39;00m\n\u001b[1;32m    437\u001b[0m \u001b[39m    \"\"\"\u001b[39;00m\n\u001b[0;32m--> 438\u001b[0m     \u001b[39mreturn\u001b[39;00m (\u001b[39mcls\u001b[39m\u001b[39m.\u001b[39m_member_map_[name] \u001b[39mfor\u001b[39;00m name \u001b[39min\u001b[39;00m \u001b[39mcls\u001b[39m\u001b[39m.\u001b[39m_member_names_)\n",
      "\u001b[0;31mKeyboardInterrupt\u001b[0m: "
     ]
    }
   ],
   "source": [
    "sample_points = geopd.GeoDataFrame(\n",
    "    xy, geometry=geopd.points_from_xy(xy.x, xy.y))\n",
    "coord_list_sample = [(x,y) for x,y in zip(sample_points['geometry'].x , sample_points['geometry'].y)]\n",
    "sample_points['NDVI_NDMI'] = [x for x in NDVI_NDMI.sample(coord_list_sample)]\n",
    "\n",
    "sample_points[\"NDVI\"] = [sample_points.NDVI_NDMI[i][2] for i in range(0,sample_points.shape[0])]\n",
    "sample_points[\"NDMI\"] = [sample_points.NDVI_NDMI[i][1] for i in range(0,sample_points.shape[0])]\n",
    "sample_points['soil'] = [x[0] for x in soil.sample(coord_list_sample)]\n",
    "sample_points['veg'] = [x[0] for x in veg.sample(coord_list_sample)]\n",
    "sample_points['slope'] = [x[0] for x in slope.sample(coord_list_sample)]\n",
    "sample_points['aspect'] = [x[0] for x in aspect.sample(coord_list_sample)]\n",
    "sample_points['elev'] = [x[0] for x in elev.sample(coord_list_sample)]\n",
    "sample_points.drop(\"NDVI_NDMI\", inplace = True, axis=1)\n"
   ]
  },
  {
   "cell_type": "markdown",
   "metadata": {},
   "source": [
    "# Dealing with NaNs"
   ]
  },
  {
   "cell_type": "markdown",
   "metadata": {},
   "source": [
    "### Rename categorical variables"
   ]
  },
  {
   "cell_type": "code",
   "execution_count": 16,
   "metadata": {},
   "outputs": [],
   "source": [
    "# renaming in sample points data frame\n",
    "sample_points.soil = sample_points.soil.replace(1,\"Moraine\").replace(2,\"Peat(Turf)\").replace(3,\"Roesberg\").replace(4,\"Rest\").replace(5,\"Stone\").replace(6,\"Water\").replace(0, np.nan)\n",
    "sample_points.veg = sample_points.veg.replace(1,\"Water\").replace(2,\"Snow\").replace(3,\"Stone\").replace(4,\"Dry Shrub\").replace(5,\"Moist Shrub\").replace(6,\"Grassland\").replace(7,\"Bush\").replace(8,\"Bog\").replace(0, np.nan)\n",
    "\n",
    "# renaming in geo data frame with all fox points\n",
    "gdf_all.soil = gdf_all.soil.replace(1,\"Moraine\").replace(2,\"Peat(Turf)\").replace(3,\"Roesberg\").replace(4,\"Rest\").replace(5,\"Stone\").replace(6,\"Water\").replace(0, np.nan)\n",
    "gdf_all.veg = gdf_all.veg.replace(1,\"Water\").replace(2,\"Snow\").replace(3,\"Stone\").replace(4,\"Dry Shrub\").replace(5,\"Moist Shrub\").replace(6,\"Grassland\").replace(7,\"Bush\").replace(8,\"Bog\").replace(0, np.nan)\n",
    "\n",
    "# renaming in geo data frame with resampled fox points\n",
    "gdf_resamp.soil = gdf_resamp.soil.replace(1,\"Moraine\").replace(2,\"Peat(Turf)\").replace(3,\"Roesberg\").replace(4,\"Rest\").replace(5,\"Stone\").replace(6,\"Water\").replace(0, np.nan)\n",
    "gdf_resamp.veg = gdf_resamp.veg.replace(1,\"Water\").replace(2,\"Snow\").replace(3,\"Stone\").replace(4,\"Dry Shrub\").replace(5,\"Moist Shrub\").replace(6,\"Grassland\").replace(7,\"Bush\").replace(8,\"Bog\").replace(0, np.nan)"
   ]
  },
  {
   "cell_type": "markdown",
   "metadata": {},
   "source": [
    "### Set NaN values\n",
    "Replace the numbers that represent NaN values in the columns\n"
   ]
  },
  {
   "cell_type": "code",
   "execution_count": 17,
   "metadata": {},
   "outputs": [],
   "source": [
    "# replacing in sample points data frame\n",
    "sample_points.aspect = sample_points.aspect.replace(-9999, np.nan)\n",
    "sample_points.slope = sample_points.slope.replace(-9999, np.nan)\n",
    "sample_points.elev = sample_points.elev.apply(lambda x : np.nan if x < -3.4e+38 else x)\n",
    "\n",
    "# replacing in gdf all data frame\n",
    "gdf_all.aspect = gdf_all.aspect.replace(-9999, np.nan)\n",
    "gdf_all.slope = gdf_all.slope.replace(-9999, np.nan)\n",
    "gdf_all.elev = gdf_all.elev.apply(lambda x : np.nan if x < -3.4e+38 else x)\n",
    "\n",
    "# replacing in gdf resamp data frame\n",
    "gdf_resamp.aspect = gdf_resamp.aspect.replace(-9999, np.nan)\n",
    "gdf_resamp.slope = gdf_resamp.slope.replace(-9999, np.nan)\n",
    "gdf_resamp.elev = gdf_resamp.elev.apply(lambda x : np.nan if x < -3.4e+38 else x)\n",
    "\n"
   ]
  },
  {
   "cell_type": "markdown",
   "metadata": {},
   "source": [
    "### Vegetation\n",
    "Missing values in vegetation are either forested regions, which are uninteresting for foxes, or parts of the map that are missing. These will therefore be dropped completely."
   ]
  },
  {
   "cell_type": "code",
   "execution_count": 38,
   "metadata": {},
   "outputs": [],
   "source": [
    "# Sample points\n",
    "sample_points_clean = sample_points.dropna(subset = [\"veg\"]).reset_index(drop = True)\n",
    "\n",
    "# gdf all\n",
    "foxes_all_clean = gdf_all.dropna(subset = [\"veg\"]).reset_index(drop = True)\n",
    "\n",
    "# gdf resampled\n",
    "foxes_resamp_clean = gdf_resamp.dropna(subset = [\"veg\"]).reset_index(drop = True)\n"
   ]
  },
  {
   "cell_type": "code",
   "execution_count": 29,
   "metadata": {},
   "outputs": [
    {
     "ename": "NameError",
     "evalue": "name 'sample_points_clean' is not defined",
     "output_type": "error",
     "traceback": [
      "\u001b[0;31m---------------------------------------------------------------------------\u001b[0m",
      "\u001b[0;31mNameError\u001b[0m                                 Traceback (most recent call last)",
      "Cell \u001b[0;32mIn[29], line 2\u001b[0m\n\u001b[1;32m      1\u001b[0m \u001b[39mimport\u001b[39;00m \u001b[39mmissingno\u001b[39;00m \u001b[39mas\u001b[39;00m \u001b[39mmsno\u001b[39;00m\n\u001b[0;32m----> 2\u001b[0m msno\u001b[39m.\u001b[39mmatrix(sample_points_clean)\n",
      "\u001b[0;31mNameError\u001b[0m: name 'sample_points_clean' is not defined"
     ]
    }
   ],
   "source": [
    "import missingno as msno\n",
    "msno.matrix(sample_points_clean)"
   ]
  },
  {
   "cell_type": "markdown",
   "metadata": {},
   "source": [
    "### **Filling NAs for the other columns**"
   ]
  },
  {
   "cell_type": "markdown",
   "metadata": {},
   "source": [
    "NDVI\n",
    "* NA values are snowy peaks. Fill with value beween 0.0 and 0.1? [Resource](https://www.usgs.gov/special-topics/remote-sensing-phenology/science/ndvi-foundation-remote-sensing-phenology#overview)\n",
    "\n",
    "NDMI\n",
    "* NA Values at the same points as in the NDVI. Interpolate from the closest value. How does this work for geometries? \n",
    "\n",
    "Aspect\n",
    "* NaN values that are left after dropping the vegetation NaNs seem to be plateaus\n",
    "* fill with -1 as new value"
   ]
  },
  {
   "cell_type": "code",
   "execution_count": null,
   "metadata": {},
   "outputs": [],
   "source": [
    "sample_points_clean.NDMI.fillna(-1, inplace=True)\n",
    "sample_points_clean.NDVI.fillna(0, inplace=True)\n",
    "sample_points_clean.aspect.fillna(-1, inplace=True)\n",
    "sample_points_clean.dropna(inplace = True)"
   ]
  },
  {
   "cell_type": "code",
   "execution_count": null,
   "metadata": {},
   "outputs": [
    {
     "data": {
      "text/plain": [
       "x           0\n",
       "y           0\n",
       "geometry    0\n",
       "NDVI        0\n",
       "NDMI        0\n",
       "soil        0\n",
       "veg         0\n",
       "slope       0\n",
       "aspect      0\n",
       "elev        0\n",
       "dtype: int64"
      ]
     },
     "execution_count": 79,
     "metadata": {},
     "output_type": "execute_result"
    }
   ],
   "source": [
    "sample_points_clean.isna().sum()\n"
   ]
  },
  {
   "cell_type": "code",
   "execution_count": 39,
   "metadata": {},
   "outputs": [],
   "source": [
    "foxes_all_clean.NDMI.fillna(-1, inplace=True)\n",
    "foxes_all_clean.NDVI.fillna(0, inplace=True)\n",
    "foxes_all_clean.aspect.fillna(-1, inplace=True)\n",
    "foxes_all_clean.dropna(inplace = True)"
   ]
  },
  {
   "cell_type": "code",
   "execution_count": 40,
   "metadata": {},
   "outputs": [
    {
     "data": {
      "text/plain": [
       "x_          0\n",
       "y_          0\n",
       "t_          0\n",
       "id          0\n",
       "sex         0\n",
       "geometry    0\n",
       "NDVI        0\n",
       "NDMI        0\n",
       "soil        0\n",
       "veg         0\n",
       "slope       0\n",
       "aspect      0\n",
       "elev        0\n",
       "dtype: int64"
      ]
     },
     "execution_count": 40,
     "metadata": {},
     "output_type": "execute_result"
    }
   ],
   "source": [
    "foxes_all_clean.isna().sum()"
   ]
  },
  {
   "cell_type": "code",
   "execution_count": 32,
   "metadata": {},
   "outputs": [],
   "source": [
    "foxes_resamp_clean.NDMI.fillna(-1, inplace=True)\n",
    "foxes_resamp_clean.NDVI.fillna(0, inplace=True)\n",
    "foxes_resamp_clean.aspect.fillna(-1, inplace=True)\n",
    "foxes_resamp_clean.dropna(inplace = True)"
   ]
  },
  {
   "cell_type": "code",
   "execution_count": 33,
   "metadata": {},
   "outputs": [
    {
     "data": {
      "text/plain": [
       "id          0\n",
       "sex         0\n",
       "x_          0\n",
       "y_          0\n",
       "t_          0\n",
       "burst_      0\n",
       "geometry    0\n",
       "NDVI        0\n",
       "NDMI        0\n",
       "soil        0\n",
       "veg         0\n",
       "slope       0\n",
       "aspect      0\n",
       "elev        0\n",
       "dtype: int64"
      ]
     },
     "execution_count": 33,
     "metadata": {},
     "output_type": "execute_result"
    }
   ],
   "source": [
    "foxes_resamp_clean.isna().sum()"
   ]
  },
  {
   "cell_type": "code",
   "execution_count": 41,
   "metadata": {},
   "outputs": [
    {
     "data": {
      "text/html": [
       "<div>\n",
       "<style scoped>\n",
       "    .dataframe tbody tr th:only-of-type {\n",
       "        vertical-align: middle;\n",
       "    }\n",
       "\n",
       "    .dataframe tbody tr th {\n",
       "        vertical-align: top;\n",
       "    }\n",
       "\n",
       "    .dataframe thead th {\n",
       "        text-align: right;\n",
       "    }\n",
       "</style>\n",
       "<table border=\"1\" class=\"dataframe\">\n",
       "  <thead>\n",
       "    <tr style=\"text-align: right;\">\n",
       "      <th></th>\n",
       "      <th>x_</th>\n",
       "      <th>y_</th>\n",
       "      <th>t_</th>\n",
       "      <th>id</th>\n",
       "      <th>sex</th>\n",
       "      <th>geometry</th>\n",
       "      <th>NDVI</th>\n",
       "      <th>NDMI</th>\n",
       "      <th>soil</th>\n",
       "      <th>veg</th>\n",
       "      <th>slope</th>\n",
       "      <th>aspect</th>\n",
       "      <th>elev</th>\n",
       "    </tr>\n",
       "  </thead>\n",
       "  <tbody>\n",
       "    <tr>\n",
       "      <th>0</th>\n",
       "      <td>548522.717454</td>\n",
       "      <td>7.353167e+06</td>\n",
       "      <td>2018-07-10 01:56:30</td>\n",
       "      <td>2018-FSBD608-001</td>\n",
       "      <td>F</td>\n",
       "      <td>POINT (548522.717 7353166.639)</td>\n",
       "      <td>0.662722</td>\n",
       "      <td>0.125608</td>\n",
       "      <td>Moraine</td>\n",
       "      <td>Dry Shrub</td>\n",
       "      <td>10.135784</td>\n",
       "      <td>205.492111</td>\n",
       "      <td>1033.016602</td>\n",
       "    </tr>\n",
       "    <tr>\n",
       "      <th>1</th>\n",
       "      <td>548525.680513</td>\n",
       "      <td>7.353168e+06</td>\n",
       "      <td>2018-07-10 06:56:32</td>\n",
       "      <td>2018-FSBD608-001</td>\n",
       "      <td>F</td>\n",
       "      <td>POINT (548525.681 7353168.363)</td>\n",
       "      <td>0.662722</td>\n",
       "      <td>0.125608</td>\n",
       "      <td>Moraine</td>\n",
       "      <td>Dry Shrub</td>\n",
       "      <td>10.135784</td>\n",
       "      <td>205.492111</td>\n",
       "      <td>1033.016602</td>\n",
       "    </tr>\n",
       "    <tr>\n",
       "      <th>2</th>\n",
       "      <td>548539.963810</td>\n",
       "      <td>7.353164e+06</td>\n",
       "      <td>2018-07-10 11:56:32</td>\n",
       "      <td>2018-FSBD608-001</td>\n",
       "      <td>F</td>\n",
       "      <td>POINT (548539.964 7353164.150)</td>\n",
       "      <td>0.662722</td>\n",
       "      <td>0.125608</td>\n",
       "      <td>Moraine</td>\n",
       "      <td>Dry Shrub</td>\n",
       "      <td>10.135784</td>\n",
       "      <td>205.492111</td>\n",
       "      <td>1033.016602</td>\n",
       "    </tr>\n",
       "    <tr>\n",
       "      <th>3</th>\n",
       "      <td>548195.507163</td>\n",
       "      <td>7.352493e+06</td>\n",
       "      <td>2018-07-10 22:31:11</td>\n",
       "      <td>2018-FSBD608-001</td>\n",
       "      <td>F</td>\n",
       "      <td>POINT (548195.507 7352493.197)</td>\n",
       "      <td>0.443307</td>\n",
       "      <td>-0.138425</td>\n",
       "      <td>Stone</td>\n",
       "      <td>Grassland</td>\n",
       "      <td>10.065748</td>\n",
       "      <td>339.629059</td>\n",
       "      <td>1072.429321</td>\n",
       "    </tr>\n",
       "    <tr>\n",
       "      <th>4</th>\n",
       "      <td>548558.891944</td>\n",
       "      <td>7.352589e+06</td>\n",
       "      <td>2018-07-11 13:31:01</td>\n",
       "      <td>2018-FSBD608-001</td>\n",
       "      <td>F</td>\n",
       "      <td>POINT (548558.892 7352588.648)</td>\n",
       "      <td>0.504280</td>\n",
       "      <td>-0.113833</td>\n",
       "      <td>Stone</td>\n",
       "      <td>Grassland</td>\n",
       "      <td>12.232175</td>\n",
       "      <td>6.898972</td>\n",
       "      <td>1056.955200</td>\n",
       "    </tr>\n",
       "  </tbody>\n",
       "</table>\n",
       "</div>"
      ],
      "text/plain": [
       "              x_            y_                  t_                id sex  \\\n",
       "0  548522.717454  7.353167e+06 2018-07-10 01:56:30  2018-FSBD608-001   F   \n",
       "1  548525.680513  7.353168e+06 2018-07-10 06:56:32  2018-FSBD608-001   F   \n",
       "2  548539.963810  7.353164e+06 2018-07-10 11:56:32  2018-FSBD608-001   F   \n",
       "3  548195.507163  7.352493e+06 2018-07-10 22:31:11  2018-FSBD608-001   F   \n",
       "4  548558.891944  7.352589e+06 2018-07-11 13:31:01  2018-FSBD608-001   F   \n",
       "\n",
       "                         geometry      NDVI      NDMI     soil        veg  \\\n",
       "0  POINT (548522.717 7353166.639)  0.662722  0.125608  Moraine  Dry Shrub   \n",
       "1  POINT (548525.681 7353168.363)  0.662722  0.125608  Moraine  Dry Shrub   \n",
       "2  POINT (548539.964 7353164.150)  0.662722  0.125608  Moraine  Dry Shrub   \n",
       "3  POINT (548195.507 7352493.197)  0.443307 -0.138425    Stone  Grassland   \n",
       "4  POINT (548558.892 7352588.648)  0.504280 -0.113833    Stone  Grassland   \n",
       "\n",
       "       slope      aspect         elev  \n",
       "0  10.135784  205.492111  1033.016602  \n",
       "1  10.135784  205.492111  1033.016602  \n",
       "2  10.135784  205.492111  1033.016602  \n",
       "3  10.065748  339.629059  1072.429321  \n",
       "4  12.232175    6.898972  1056.955200  "
      ]
     },
     "execution_count": 41,
     "metadata": {},
     "output_type": "execute_result"
    }
   ],
   "source": [
    "foxes_all_clean.head()"
   ]
  },
  {
   "cell_type": "code",
   "execution_count": 42,
   "metadata": {},
   "outputs": [],
   "source": [
    "foxes_all_final = foxes_all_clean.copy()\n",
    "foxes_all_final[\"t_\"] = foxes_all_final[\"t_\"].dt.strftime(\"%Y-%m-%d-%H:%M:%S\")\n",
    "foxes_all_final.to_file(\"../data/cleaned_shapefiles/foxes_all.shp\")"
   ]
  },
  {
   "cell_type": "code",
   "execution_count": 27,
   "metadata": {},
   "outputs": [
    {
     "data": {
      "text/html": [
       "<div>\n",
       "<style scoped>\n",
       "    .dataframe tbody tr th:only-of-type {\n",
       "        vertical-align: middle;\n",
       "    }\n",
       "\n",
       "    .dataframe tbody tr th {\n",
       "        vertical-align: top;\n",
       "    }\n",
       "\n",
       "    .dataframe thead th {\n",
       "        text-align: right;\n",
       "    }\n",
       "</style>\n",
       "<table border=\"1\" class=\"dataframe\">\n",
       "  <thead>\n",
       "    <tr style=\"text-align: right;\">\n",
       "      <th></th>\n",
       "      <th>x_</th>\n",
       "      <th>y_</th>\n",
       "      <th>t_</th>\n",
       "      <th>id</th>\n",
       "      <th>sex</th>\n",
       "      <th>geometry</th>\n",
       "      <th>NDVI</th>\n",
       "      <th>NDMI</th>\n",
       "      <th>soil</th>\n",
       "      <th>veg</th>\n",
       "      <th>slope</th>\n",
       "      <th>aspect</th>\n",
       "      <th>elev</th>\n",
       "    </tr>\n",
       "  </thead>\n",
       "  <tbody>\n",
       "    <tr>\n",
       "      <th>0</th>\n",
       "      <td>548522.717454</td>\n",
       "      <td>7.353167e+06</td>\n",
       "      <td>2018-07-10 01:56:30</td>\n",
       "      <td>2018-FSBD608-001</td>\n",
       "      <td>F</td>\n",
       "      <td>POINT (548522.717 7353166.639)</td>\n",
       "      <td>0.662722</td>\n",
       "      <td>0.125608</td>\n",
       "      <td>Moraine</td>\n",
       "      <td>Dry Shrub</td>\n",
       "      <td>10.135784</td>\n",
       "      <td>205.492111</td>\n",
       "      <td>1033.016602</td>\n",
       "    </tr>\n",
       "    <tr>\n",
       "      <th>1</th>\n",
       "      <td>548525.680513</td>\n",
       "      <td>7.353168e+06</td>\n",
       "      <td>2018-07-10 06:56:32</td>\n",
       "      <td>2018-FSBD608-001</td>\n",
       "      <td>F</td>\n",
       "      <td>POINT (548525.681 7353168.363)</td>\n",
       "      <td>0.662722</td>\n",
       "      <td>0.125608</td>\n",
       "      <td>Moraine</td>\n",
       "      <td>Dry Shrub</td>\n",
       "      <td>10.135784</td>\n",
       "      <td>205.492111</td>\n",
       "      <td>1033.016602</td>\n",
       "    </tr>\n",
       "    <tr>\n",
       "      <th>2</th>\n",
       "      <td>548539.963810</td>\n",
       "      <td>7.353164e+06</td>\n",
       "      <td>2018-07-10 11:56:32</td>\n",
       "      <td>2018-FSBD608-001</td>\n",
       "      <td>F</td>\n",
       "      <td>POINT (548539.964 7353164.150)</td>\n",
       "      <td>0.662722</td>\n",
       "      <td>0.125608</td>\n",
       "      <td>Moraine</td>\n",
       "      <td>Dry Shrub</td>\n",
       "      <td>10.135784</td>\n",
       "      <td>205.492111</td>\n",
       "      <td>1033.016602</td>\n",
       "    </tr>\n",
       "    <tr>\n",
       "      <th>3</th>\n",
       "      <td>548195.507163</td>\n",
       "      <td>7.352493e+06</td>\n",
       "      <td>2018-07-10 22:31:11</td>\n",
       "      <td>2018-FSBD608-001</td>\n",
       "      <td>F</td>\n",
       "      <td>POINT (548195.507 7352493.197)</td>\n",
       "      <td>0.443307</td>\n",
       "      <td>-0.138425</td>\n",
       "      <td>Stone</td>\n",
       "      <td>Grassland</td>\n",
       "      <td>10.065748</td>\n",
       "      <td>339.629059</td>\n",
       "      <td>1072.429321</td>\n",
       "    </tr>\n",
       "    <tr>\n",
       "      <th>4</th>\n",
       "      <td>548558.891944</td>\n",
       "      <td>7.352589e+06</td>\n",
       "      <td>2018-07-11 13:31:01</td>\n",
       "      <td>2018-FSBD608-001</td>\n",
       "      <td>F</td>\n",
       "      <td>POINT (548558.892 7352588.648)</td>\n",
       "      <td>0.504280</td>\n",
       "      <td>-0.113833</td>\n",
       "      <td>Stone</td>\n",
       "      <td>Grassland</td>\n",
       "      <td>12.232175</td>\n",
       "      <td>6.898972</td>\n",
       "      <td>1056.955200</td>\n",
       "    </tr>\n",
       "  </tbody>\n",
       "</table>\n",
       "</div>"
      ],
      "text/plain": [
       "              x_            y_                  t_                id sex  \\\n",
       "0  548522.717454  7.353167e+06 2018-07-10 01:56:30  2018-FSBD608-001   F   \n",
       "1  548525.680513  7.353168e+06 2018-07-10 06:56:32  2018-FSBD608-001   F   \n",
       "2  548539.963810  7.353164e+06 2018-07-10 11:56:32  2018-FSBD608-001   F   \n",
       "3  548195.507163  7.352493e+06 2018-07-10 22:31:11  2018-FSBD608-001   F   \n",
       "4  548558.891944  7.352589e+06 2018-07-11 13:31:01  2018-FSBD608-001   F   \n",
       "\n",
       "                         geometry      NDVI      NDMI     soil        veg  \\\n",
       "0  POINT (548522.717 7353166.639)  0.662722  0.125608  Moraine  Dry Shrub   \n",
       "1  POINT (548525.681 7353168.363)  0.662722  0.125608  Moraine  Dry Shrub   \n",
       "2  POINT (548539.964 7353164.150)  0.662722  0.125608  Moraine  Dry Shrub   \n",
       "3  POINT (548195.507 7352493.197)  0.443307 -0.138425    Stone  Grassland   \n",
       "4  POINT (548558.892 7352588.648)  0.504280 -0.113833    Stone  Grassland   \n",
       "\n",
       "       slope      aspect         elev  \n",
       "0  10.135784  205.492111  1033.016602  \n",
       "1  10.135784  205.492111  1033.016602  \n",
       "2  10.135784  205.492111  1033.016602  \n",
       "3  10.065748  339.629059  1072.429321  \n",
       "4  12.232175    6.898972  1056.955200  "
      ]
     },
     "execution_count": 27,
     "metadata": {},
     "output_type": "execute_result"
    }
   ],
   "source": [
    "gdf_all.head()"
   ]
  },
  {
   "cell_type": "code",
   "execution_count": 36,
   "metadata": {},
   "outputs": [],
   "source": [
    "foxes_resamp_final = foxes_resamp_clean.copy()\n",
    "foxes_resamp_final[\"t_\"] = foxes_resamp_final[\"t_\"].dt.strftime(\"%Y-%m-%d-%H:%M:%S\")\n",
    "foxes_resamp_final.to_file(\"../data/cleaned_shapefiles/foxes_resamp.shp\")"
   ]
  },
  {
   "cell_type": "code",
   "execution_count": 90,
   "metadata": {},
   "outputs": [],
   "source": [
    "sample_points_clean.to_file(\"../data/cleaned_shapefiles/sample_points.shp\")"
   ]
  }
 ],
 "metadata": {
  "kernelspec": {
   "display_name": "Python 3.9.8 ('.venv': venv)",
   "language": "python",
   "name": "python3"
  },
  "language_info": {
   "codemirror_mode": {
    "name": "ipython",
    "version": 3
   },
   "file_extension": ".py",
   "mimetype": "text/x-python",
   "name": "python",
   "nbconvert_exporter": "python",
   "pygments_lexer": "ipython3",
   "version": "3.9.8"
  },
  "metadata": {
   "interpreter": {
    "hash": "aee8b7b246df8f9039afb4144a1f6fd8d2ca17a180786b69acc140d282b71a49"
   }
  },
  "vscode": {
   "interpreter": {
    "hash": "a6a69aa757ec17a4e0946f75be1e0779f2abbf22d97369245d2f8ed69441e342"
   }
  }
 },
 "nbformat": 4,
 "nbformat_minor": 4
}
