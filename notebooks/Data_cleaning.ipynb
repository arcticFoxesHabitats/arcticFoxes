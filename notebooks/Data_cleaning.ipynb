{
 "cells": [
  {
   "attachments": {},
   "cell_type": "markdown",
   "metadata": {},
   "source": [
    "# Data Cleaning\n",
    "\n",
    "This notebook contains the cleaning of our initial data. It explains the steps we take for the loading of the data and the dealing with missing data as well as generating the 0-values. As a last step, the cleaned data is saved in the cleaned_shapefiles folder for further usage."
   ]
  },
  {
   "cell_type": "code",
   "execution_count": 10,
   "metadata": {
    "slideshow": {
     "slide_type": "skip"
    }
   },
   "outputs": [],
   "source": [
    "import sys\n",
    "# adding to the path variables the one folder higher (locally, not changing system variables)\n",
    "sys.path.append(\"..\")\n",
    "import pandas as pd\n",
    "import numpy as np\n",
    "import matplotlib.pyplot as plt\n",
    "import seaborn as sns\n",
    "import rasterio\n",
    "import rasterio.rio\n",
    "import geopandas as geopd\n",
    "import pyreadr\n",
    "import datetime as dt \n",
    "import warnings\n",
    "\n",
    "from rasterio.plot import show\n",
    "\n"
   ]
  },
  {
   "attachments": {},
   "cell_type": "markdown",
   "metadata": {},
   "source": [
    "## Loading Data\n",
    "First, we read in all the data"
   ]
  },
  {
   "cell_type": "code",
   "execution_count": 11,
   "metadata": {},
   "outputs": [],
   "source": [
    "#data of all foxes:\n",
    "all_foxes = pyreadr.read_r('../data/r_files/track_all.RDS')[None]\n",
    "#resampled data of all foxes (over 2 hours):\n",
    "all_foxes_resamp = pyreadr.read_r('../data/r_files/track_resamp.RDS')[None]\n",
    "#metadata:\n",
    "fox_metadata = pd.read_csv(\"../data/additional_info.csv\", sep = \"\\t\")"
   ]
  },
  {
   "attachments": {},
   "cell_type": "markdown",
   "metadata": {},
   "source": [
    "### Loading in the raster layers for the features\n",
    "The different features are stored in .tif files in the Rasters_for_R folder. We open each feature separately. NDVI_NDMI contains multiple bands. Here, we are only interested in the second and third band which contain the NDMI and NDVI, respectively."
   ]
  },
  {
   "cell_type": "code",
   "execution_count": 12,
   "metadata": {},
   "outputs": [],
   "source": [
    "elev = rasterio.open(\"../data/Rasters_for_R/DEM_30.tif\")\n",
    "aspect = rasterio.open(\"../data/Rasters_for_R/aspect_30.tif\")\n",
    "NDVI_NDMI = rasterio.open(\"../data/Rasters_for_R/NDVI_arj_vind.tif\")\n",
    "slope = rasterio.open(\"../data/Rasters_for_R/slope_arj_vind.tif\")\n",
    "veg = rasterio.open(\"../data/Rasters_for_R/veg_nofor_morecats.tif\")\n",
    "soil = rasterio.open(\"../data/Rasters_for_R/soil_av_clip.tif\")\n"
   ]
  },
  {
   "attachments": {},
   "cell_type": "markdown",
   "metadata": {},
   "source": [
    "## Building and Annotating the data frames\n",
    "### DF containing all points\n",
    "To connect the features to the positions of the foxes, we load everything into the dataframe gdf (GeoDataFrame)"
   ]
  },
  {
   "cell_type": "code",
   "execution_count": 13,
   "metadata": {},
   "outputs": [],
   "source": [
    "gdf_all = geopd.GeoDataFrame(\n",
    "    all_foxes, geometry=geopd.points_from_xy(all_foxes.x_, all_foxes.y_))"
   ]
  },
  {
   "cell_type": "code",
   "execution_count": 14,
   "metadata": {},
   "outputs": [],
   "source": [
    "coord_list_all = [(x,y) for x,y in zip(gdf_all['geometry'].x , gdf_all['geometry'].y)]"
   ]
  },
  {
   "cell_type": "code",
   "execution_count": 15,
   "metadata": {},
   "outputs": [],
   "source": [
    "gdf_all['NDVI_NDMI'] = [x for x in NDVI_NDMI.sample(coord_list_all)]\n",
    "gdf_all[\"NDVI\"] = [gdf_all.NDVI_NDMI[i][2] for i in range(0,gdf_all.shape[0])]\n",
    "gdf_all[\"NDMI\"] = [gdf_all.NDVI_NDMI[i][1] for i in range(0,gdf_all.shape[0])]\n",
    "gdf_all['soil'] = [x[0] for x in soil.sample(coord_list_all)]\n",
    "gdf_all['veg'] = [x[0] for x in veg.sample(coord_list_all)]\n",
    "gdf_all['slope'] = [x[0] for x in slope.sample(coord_list_all)]\n",
    "gdf_all['aspect'] = [x[0] for x in aspect.sample(coord_list_all)]\n",
    "gdf_all['elev'] = [x[0] for x in elev.sample(coord_list_all)]\n",
    "gdf_all.drop(\"NDVI_NDMI\", inplace = True, axis = 1)"
   ]
  },
  {
   "attachments": {},
   "cell_type": "markdown",
   "metadata": {},
   "source": [
    "### DF containing resampled points\n",
    "We repeat the above code for the resampled data"
   ]
  },
  {
   "cell_type": "code",
   "execution_count": 16,
   "metadata": {},
   "outputs": [],
   "source": [
    "gdf_resamp = geopd.GeoDataFrame(\n",
    "    all_foxes_resamp, geometry=geopd.points_from_xy(all_foxes_resamp.x_, all_foxes_resamp.y_))"
   ]
  },
  {
   "cell_type": "code",
   "execution_count": 17,
   "metadata": {},
   "outputs": [],
   "source": [
    "coord_list_resamp = [(x,y) for x,y in zip(gdf_resamp['geometry'].x , gdf_resamp['geometry'].y)]"
   ]
  },
  {
   "cell_type": "code",
   "execution_count": 18,
   "metadata": {},
   "outputs": [],
   "source": [
    "gdf_resamp['NDVI_NDMI'] = [x for x in NDVI_NDMI.sample(coord_list_resamp)]\n",
    "gdf_resamp[\"NDVI\"] = [gdf_resamp.NDVI_NDMI[i][2] for i in range(0,gdf_resamp.shape[0])]\n",
    "gdf_resamp[\"NDMI\"] = [gdf_resamp.NDVI_NDMI[i][1] for i in range(0,gdf_resamp.shape[0])]\n",
    "gdf_resamp['soil'] = [x[0] for x in soil.sample(coord_list_resamp)]\n",
    "gdf_resamp['veg'] = [x[0] for x in veg.sample(coord_list_resamp)]\n",
    "gdf_resamp['slope'] = [x[0] for x in slope.sample(coord_list_resamp)]\n",
    "gdf_resamp['aspect'] = [x[0] for x in aspect.sample(coord_list_resamp)]\n",
    "gdf_resamp['elev'] = [x[0] for x in elev.sample(coord_list_resamp)]\n",
    "gdf_resamp.drop(\"NDVI_NDMI\", inplace = True, axis=1)\n"
   ]
  },
  {
   "attachments": {},
   "cell_type": "markdown",
   "metadata": {},
   "source": [
    "### DF Sample point raster\n",
    "Now, we create a dataframe with evenly distributed points over the whole area. This way, we also have \"false\" values, so position points where none of our foxes have been.\n",
    "\n",
    "First, we build a raster over the whole area.\n",
    "Then we annotate the points."
   ]
  },
  {
   "cell_type": "code",
   "execution_count": 19,
   "metadata": {},
   "outputs": [],
   "source": [
    "#We choose a step-size of 70, so we have roughly ten times as many false values as true values.\n",
    "#Depending on the dataset, a different value needs to be chosen.\n",
    "xy = np.mgrid[gdf_all.x_.min():gdf_all.x_.max():70, gdf_all.y_.min():gdf_all.y_.max():70].reshape(2,-1).T\n",
    "xy = pd.DataFrame(xy, columns= [\"x\",\"y\"])"
   ]
  },
  {
   "cell_type": "code",
   "execution_count": 20,
   "metadata": {},
   "outputs": [],
   "source": [
    "sample_points = geopd.GeoDataFrame(\n",
    "    xy, geometry=geopd.points_from_xy(xy.x, xy.y))\n",
    "coord_list_sample = [(x,y) for x,y in zip(sample_points['geometry'].x , sample_points['geometry'].y)]\n",
    "sample_points['NDVI_NDMI'] = [x for x in NDVI_NDMI.sample(coord_list_sample)]\n",
    "\n",
    "sample_points[\"NDVI\"] = [sample_points.NDVI_NDMI[i][2] for i in range(0,sample_points.shape[0])]\n",
    "sample_points[\"NDMI\"] = [sample_points.NDVI_NDMI[i][1] for i in range(0,sample_points.shape[0])]\n",
    "sample_points['soil'] = [x[0] for x in soil.sample(coord_list_sample)]\n",
    "sample_points['veg'] = [x[0] for x in veg.sample(coord_list_sample)]\n",
    "sample_points['slope'] = [x[0] for x in slope.sample(coord_list_sample)]\n",
    "sample_points['aspect'] = [x[0] for x in aspect.sample(coord_list_sample)]\n",
    "sample_points['elev'] = [x[0] for x in elev.sample(coord_list_sample)]\n",
    "sample_points.drop(\"NDVI_NDMI\", inplace = True, axis=1)\n"
   ]
  },
  {
   "cell_type": "markdown",
   "metadata": {},
   "source": [
    "# Dealing with NaNs"
   ]
  },
  {
   "attachments": {},
   "cell_type": "markdown",
   "metadata": {},
   "source": [
    "### Rename categorical variables\n",
    "Now, we replace the numerical values in the soil and vegetation feature by their meaning. The value 0 stands for a missing value."
   ]
  },
  {
   "cell_type": "code",
   "execution_count": 21,
   "metadata": {},
   "outputs": [],
   "source": [
    "# renaming in sample points data frame\n",
    "sample_points.soil = sample_points.soil.replace(1,\"Moraine\").replace(2,\"Peat(Turf)\").replace(3,\"Roesberg\").replace(4,\"Rest\").replace(5,\"Stone\").replace(6,\"Water\").replace(0, np.nan)\n",
    "sample_points.veg = sample_points.veg.replace(1,\"Water\").replace(2,\"Snow\").replace(3,\"Stone\").replace(4,\"Dry Shrub\").replace(5,\"Moist Shrub\").replace(6,\"Grassland\").replace(7,\"Bush\").replace(8,\"Bog\").replace(0, np.nan)\n",
    "\n",
    "# renaming in geo data frame with all fox points\n",
    "gdf_all.soil = gdf_all.soil.replace(1,\"Moraine\").replace(2,\"Peat(Turf)\").replace(3,\"Roesberg\").replace(4,\"Rest\").replace(5,\"Stone\").replace(6,\"Water\").replace(0, np.nan)\n",
    "gdf_all.veg = gdf_all.veg.replace(1,\"Water\").replace(2,\"Snow\").replace(3,\"Stone\").replace(4,\"Dry Shrub\").replace(5,\"Moist Shrub\").replace(6,\"Grassland\").replace(7,\"Bush\").replace(8,\"Bog\").replace(0, np.nan)\n",
    "\n",
    "# renaming in geo data frame with resampled fox points\n",
    "gdf_resamp.soil = gdf_resamp.soil.replace(1,\"Moraine\").replace(2,\"Peat(Turf)\").replace(3,\"Roesberg\").replace(4,\"Rest\").replace(5,\"Stone\").replace(6,\"Water\").replace(0, np.nan)\n",
    "gdf_resamp.veg = gdf_resamp.veg.replace(1,\"Water\").replace(2,\"Snow\").replace(3,\"Stone\").replace(4,\"Dry Shrub\").replace(5,\"Moist Shrub\").replace(6,\"Grassland\").replace(7,\"Bush\").replace(8,\"Bog\").replace(0, np.nan)"
   ]
  },
  {
   "attachments": {},
   "cell_type": "markdown",
   "metadata": {},
   "source": [
    "### Set NaN values\n",
    "Replace the numbers that represent NaN values in the remaining features.\n"
   ]
  },
  {
   "cell_type": "code",
   "execution_count": 22,
   "metadata": {},
   "outputs": [],
   "source": [
    "# replacing in sample points data frame\n",
    "sample_points.aspect = sample_points.aspect.replace(-9999, np.nan)\n",
    "sample_points.slope = sample_points.slope.replace(-9999, np.nan)\n",
    "sample_points.elev = sample_points.elev.apply(lambda x : np.nan if x < -3.4e+38 else x)\n",
    "\n",
    "# replacing in gdf all data frame\n",
    "gdf_all.aspect = gdf_all.aspect.replace(-9999, np.nan)\n",
    "gdf_all.slope = gdf_all.slope.replace(-9999, np.nan)\n",
    "gdf_all.elev = gdf_all.elev.apply(lambda x : np.nan if x < -3.4e+38 else x)\n",
    "\n",
    "# replacing in gdf resamp data frame\n",
    "gdf_resamp.aspect = gdf_resamp.aspect.replace(-9999, np.nan)\n",
    "gdf_resamp.slope = gdf_resamp.slope.replace(-9999, np.nan)\n",
    "gdf_resamp.elev = gdf_resamp.elev.apply(lambda x : np.nan if x < -3.4e+38 else x)"
   ]
  },
  {
   "cell_type": "markdown",
   "metadata": {},
   "source": [
    "### Vegetation\n",
    "Missing values in vegetation are either forested regions, which are uninteresting for foxes, or parts of the map that are missing. These will therefore be dropped completely."
   ]
  },
  {
   "cell_type": "code",
   "execution_count": 23,
   "metadata": {},
   "outputs": [],
   "source": [
    "# Sample points\n",
    "sample_points_clean = sample_points.dropna(subset = [\"veg\"]).reset_index(drop = True)\n",
    "\n",
    "# gdf all\n",
    "foxes_all_clean = gdf_all.dropna(subset = [\"veg\"]).reset_index(drop = True)\n",
    "\n",
    "# gdf resampled\n",
    "foxes_resamp_clean = gdf_resamp.dropna(subset = [\"veg\"]).reset_index(drop = True)\n"
   ]
  },
  {
   "cell_type": "code",
   "execution_count": 24,
   "metadata": {},
   "outputs": [
    {
     "data": {
      "text/plain": [
       "<AxesSubplot:>"
      ]
     },
     "execution_count": 24,
     "metadata": {},
     "output_type": "execute_result"
    },
    {
     "data": {
      "image/png": "[encoded data removed]",
      "text/plain": [
       "<Figure size 2500x1000 with 2 Axes>"
      ]
     },
     "metadata": {},
     "output_type": "display_data"
    }
   ],
   "source": [
    "import missingno as msno\n",
    "msno.matrix(sample_points_clean)"
   ]
  },
  {
   "cell_type": "markdown",
   "metadata": {},
   "source": [
    "### **Filling NAs for the other columns**"
   ]
  },
  {
   "cell_type": "code",
   "execution_count": 25,
   "metadata": {},
   "outputs": [],
   "source": [
    "df_aspect_zero = sample_points_clean[sample_points_clean.aspect.isna()]"
   ]
  },
  {
   "cell_type": "code",
   "execution_count": 26,
   "metadata": {},
   "outputs": [
    {
     "data": {
      "text/plain": [
       "array([ 0., nan], dtype=float32)"
      ]
     },
     "execution_count": 26,
     "metadata": {},
     "output_type": "execute_result"
    }
   ],
   "source": [
    "df_aspect_zero.slope.unique()"
   ]
  },
  {
   "attachments": {},
   "cell_type": "markdown",
   "metadata": {},
   "source": [
    "NDVI\n",
    "* NA values are snowy peaks. Fill with value beween 0.0 and 0.1. See [Resource](https://www.usgs.gov/special-topics/remote-sensing-phenology/science/ndvi-foundation-remote-sensing-phenology#overview)\n",
    "\n",
    "NDMI\n",
    "* NA Values at the same points as in the NDVI. Fill in with -1.\n",
    "\n",
    "Aspect\n",
    "* NaN values that are left after dropping the vegetation NaNs seem to be plateaus (top of hills, bottom of valleys, ...). Here, a value for aspect does not make sense.\n",
    "* fill with -1 as new value"
   ]
  },
  {
   "cell_type": "code",
   "execution_count": 27,
   "metadata": {},
   "outputs": [],
   "source": [
    "sample_points_clean.NDMI.fillna(-1, inplace=True)\n",
    "sample_points_clean.NDVI.fillna(0, inplace=True)\n",
    "sample_points_clean.aspect.fillna(-1, inplace=True)\n",
    "sample_points_clean.dropna(inplace = True)"
   ]
  },
  {
   "cell_type": "code",
   "execution_count": null,
   "metadata": {},
   "outputs": [],
   "source": [
    "foxes_all_clean.NDMI.fillna(-1, inplace=True)\n",
    "foxes_all_clean.NDVI.fillna(0, inplace=True)\n",
    "foxes_all_clean.aspect.fillna(-1, inplace=True)\n",
    "foxes_all_clean.dropna(inplace = True)"
   ]
  },
  {
   "cell_type": "code",
   "execution_count": null,
   "metadata": {},
   "outputs": [],
   "source": [
    "foxes_resamp_clean.NDMI.fillna(-1, inplace=True)\n",
    "foxes_resamp_clean.NDVI.fillna(0, inplace=True)\n",
    "foxes_resamp_clean.aspect.fillna(-1, inplace=True)\n",
    "foxes_resamp_clean.dropna(inplace = True)"
   ]
  },
  {
   "attachments": {},
   "cell_type": "markdown",
   "metadata": {},
   "source": [
    "### Save dataframes as shp-files\n",
    "We transform the time collumns to then save them as shp-files."
   ]
  },
  {
   "cell_type": "code",
   "execution_count": 29,
   "metadata": {},
   "outputs": [],
   "source": [
    "foxes_all_final = foxes_all_clean.copy()\n",
    "foxes_all_final[\"timestamp\"] = foxes_all_final[\"t_\"].apply(lambda x: dt.datetime.timestamp(x))\n",
    "foxes_all_final[\"t_\"] = foxes_all_final[\"t_\"].dt.strftime(\"%Y-%m-%d-%H:%M:%S\")\n",
    "foxes_all_final.to_file(\"../data/cleaned_shapefiles/foxes_all.shp\")"
   ]
  },
  {
   "cell_type": "code",
   "execution_count": 30,
   "metadata": {},
   "outputs": [],
   "source": [
    "foxes_resamp_final = foxes_resamp_clean.copy()\n",
    "foxes_resamp_final[\"timestamp\"] = foxes_resamp_final[\"t_\"].apply(lambda x: dt.datetime.timestamp(x))\n",
    "foxes_resamp_final[\"t_\"] = foxes_resamp_final[\"t_\"].dt.strftime(\"%Y-%m-%d-%H:%M:%S\")\n",
    "foxes_resamp_final.to_file(\"../data/cleaned_shapefiles/foxes_resamp.shp\")"
   ]
  },
  {
   "cell_type": "code",
   "execution_count": null,
   "metadata": {},
   "outputs": [],
   "source": [
    "sample_points_clean.to_file(\"../data/cleaned_shapefiles/sample_points.shp\")"
   ]
  }
 ],
 "metadata": {
  "kernelspec": {
   "display_name": ".venv",
   "language": "python",
   "name": "python3"
  },
  "language_info": {
   "codemirror_mode": {
    "name": "ipython",
    "version": 3
   },
   "file_extension": ".py",
   "mimetype": "text/x-python",
   "name": "python",
   "nbconvert_exporter": "python",
   "pygments_lexer": "ipython3",
   "version": "3.9.8"
  },
  "metadata": {
   "interpreter": {
    "hash": "aee8b7b246df8f9039afb4144a1f6fd8d2ca17a180786b69acc140d282b71a49"
   }
  },
  "vscode": {
   "interpreter": {
    "hash": "19ac0277738c8d003280297ca8a435e04eabeabc8c82e391b37813a7a623b1fe"
   }
  }
 },
 "nbformat": 4,
 "nbformat_minor": 4
}
