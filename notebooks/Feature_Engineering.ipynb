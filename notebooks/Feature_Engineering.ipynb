{
 "cells": [
  {
   "attachments": {},
   "cell_type": "markdown",
   "metadata": {},
   "source": [
    "# Feature Engineering\n",
    "\n",
    "After the cleaning, we do some feature engineering. The calculation of the home ranges is summarized in a separate [notebook](EDA_home_ranges.ipynb) and is a prerequisite for the following steps. The remaining steps are explained in this notebook. Finally, the data is saved in the final_shapefiles folder."
   ]
  },
  {
   "cell_type": "code",
   "execution_count": null,
   "metadata": {
    "slideshow": {
     "slide_type": "skip"
    }
   },
   "outputs": [],
   "source": [
    "import pandas as pd\n",
    "import numpy as np\n",
    "import warnings\n",
    "import matplotlib.pyplot as plt\n",
    "import rasterio\n",
    "import geopandas as geopd\n",
    "import rasterio.rio\n",
    "import seaborn as sns\n",
    "import datetime as dt \n",
    "\n",
    "from rasterio.plot import show\n",
    "\n",
    "import pyreadr\n",
    "\n"
   ]
  },
  {
   "attachments": {},
   "cell_type": "markdown",
   "metadata": {},
   "source": [
    "First, we import the final dataframes."
   ]
  },
  {
   "cell_type": "code",
   "execution_count": null,
   "metadata": {},
   "outputs": [],
   "source": [
    "df_all = geopd.read_file(\"../data/final_shapefiles/foxes_modelling_all.shp\")\n",
    "df_resamp = geopd.read_file(\"../data/final_shapefiles/foxes_modelling_resamp.shp\")\n",
    "sample_points = geopd.read_file(\"../data/cleaned_shapefiles/sample_points.shp\")"
   ]
  },
  {
   "attachments": {},
   "cell_type": "markdown",
   "metadata": {},
   "source": [
    "## Distance to Forest\n",
    "Import ShapeFile with edge of forest"
   ]
  },
  {
   "cell_type": "code",
   "execution_count": null,
   "metadata": {},
   "outputs": [],
   "source": [
    "forest = geopd.read_file(\"../data/forest_study_area.shp\")"
   ]
  },
  {
   "attachments": {},
   "cell_type": "markdown",
   "metadata": {},
   "source": [
    "Explode multipolygon into several polygons, transform to the swedish coordinate system."
   ]
  },
  {
   "cell_type": "code",
   "execution_count": null,
   "metadata": {},
   "outputs": [],
   "source": [
    "forest = forest.explode(ignore_index=True)\n",
    "forest = forest.to_crs(3006)"
   ]
  },
  {
   "attachments": {},
   "cell_type": "markdown",
   "metadata": {},
   "source": [
    "Function to calculate distance to nearest forest:"
   ]
  },
  {
   "cell_type": "code",
   "execution_count": null,
   "metadata": {},
   "outputs": [],
   "source": [
    "def distance_to_forest(forest, point):\n",
    "    return min(forest.distance(point))"
   ]
  },
  {
   "attachments": {},
   "cell_type": "markdown",
   "metadata": {},
   "source": [
    "Create \"distForest\" feature and use the above function to calculate the distance for every point."
   ]
  },
  {
   "cell_type": "code",
   "execution_count": null,
   "metadata": {},
   "outputs": [],
   "source": [
    "df_all[\"distForest\"] = df_all.geometry\n",
    "df_all.distForest = df_all.distForest.apply(lambda x: distance_to_forest(forest,x))"
   ]
  },
  {
   "cell_type": "code",
   "execution_count": null,
   "metadata": {},
   "outputs": [],
   "source": [
    "df_resamp[\"distForest\"] = df_resamp.geometry\n",
    "df_resamp.distForest = df_resamp.distForest.apply(lambda x: distance_to_forest(forest,x))"
   ]
  },
  {
   "cell_type": "code",
   "execution_count": null,
   "metadata": {},
   "outputs": [],
   "source": [
    "sample_points[\"distForest\"] = sample_points.geometry\n",
    "sample_points.distForest = sample_points.distForest.apply(lambda x: distance_to_forest(forest,x))"
   ]
  },
  {
   "attachments": {},
   "cell_type": "markdown",
   "metadata": {},
   "source": [
    "## Create dummie variables\n",
    "### Bin aspect feature\n",
    "First, we put the aspect feature into bins. One bin for the -1 values (where the slope is zero) and eight bins for the eight geographic directions."
   ]
  },
  {
   "cell_type": "code",
   "execution_count": null,
   "metadata": {},
   "outputs": [],
   "source": [
    "#in a fist step, the category \"N\" is created twice\n",
    "df_all[\"asp\"] = pd.cut(df_all.aspect, \n",
    "                                bins = [-1.1,0,22.5,67.5,112.5,157.5,202.5,247.5,292.5,337.5,360],\n",
    "                                labels = [\"None\", \"N\", \"NE\", \"E\", \"SE\", \"S\", \"SW\", \"W\", \"NW\", \"N2\"])\n",
    "#in a second step, the second category is renamed to resemble the first\n",
    "df_all[\"asp\"] = df_all.aspect_bin.replace(\"N2\",\"N\")\n",
    "\n",
    "#repeat for resamp:\n",
    "df_resamp[\"asp\"] = pd.cut(df_resamp.aspect, \n",
    "                                bins = [-1.1,0,22.5,67.5,112.5,157.5,202.5,247.5,292.5,337.5,360],\n",
    "                                labels = [\"None\", \"N\", \"NE\", \"E\", \"SE\", \"S\", \"SW\", \"W\", \"NW\", \"N2\"])\n",
    "df_resamp[\"asp\"] = df_resamp.aspect_bin.replace(\"N2\",\"N\")\n"
   ]
  },
  {
   "attachments": {},
   "cell_type": "markdown",
   "metadata": {},
   "source": [
    "### Create dummie variables for all categorical variables"
   ]
  },
  {
   "cell_type": "code",
   "execution_count": null,
   "metadata": {},
   "outputs": [],
   "source": [
    "cat_variables = [\"soil\", \"veg\", \"asp\"]"
   ]
  },
  {
   "cell_type": "code",
   "execution_count": null,
   "metadata": {},
   "outputs": [],
   "source": [
    "categories_all = pd.get_dummies(df_all[cat_variables], drop_first=True)\n",
    "categories_resamp = pd.get_dummies(df_resamp[cat_variables], drop_first=True)"
   ]
  },
  {
   "cell_type": "code",
   "execution_count": null,
   "metadata": {},
   "outputs": [],
   "source": [
    "df_all = pd.concat([df_all, categories_all], axis = 1)\n",
    "df_resamp = pd.concat([df_resamp, categories_resamp], axis = 1)"
   ]
  },
  {
   "attachments": {},
   "cell_type": "markdown",
   "metadata": {},
   "source": [
    "For the saving, we drop the column with categorical values."
   ]
  },
  {
   "cell_type": "code",
   "execution_count": null,
   "metadata": {},
   "outputs": [],
   "source": [
    "df_all = df_all.drop(\"asp\", axis = 1)\n",
    "df_resamp = df_resamp.drop(\"asp\", axis = 1)"
   ]
  },
  {
   "attachments": {},
   "cell_type": "markdown",
   "metadata": {},
   "source": [
    "Finally, safe the data to the final_shapefiles folder."
   ]
  },
  {
   "cell_type": "code",
   "execution_count": null,
   "metadata": {},
   "outputs": [],
   "source": [
    "df_all.to_file(\"../data/final_shapefiles/foxes_modelling_all.shp\")\n",
    "df_resamp.to_file(\"../data/final_shapefiles/foxes_modelling_resamp.shp\")\n",
    "sample_points.to_file(\"../data/final_shapefiles/sample_points.shp\")"
   ]
  }
 ],
 "metadata": {
  "kernelspec": {
   "display_name": ".venv",
   "language": "python",
   "name": "python3"
  },
  "language_info": {
   "codemirror_mode": {
    "name": "ipython",
    "version": 3
   },
   "file_extension": ".py",
   "mimetype": "text/x-python",
   "name": "python",
   "nbconvert_exporter": "python",
   "pygments_lexer": "ipython3",
   "version": "3.9.8"
  },
  "orig_nbformat": 4,
  "vscode": {
   "interpreter": {
    "hash": "19ac0277738c8d003280297ca8a435e04eabeabc8c82e391b37813a7a623b1fe"
   }
  }
 },
 "nbformat": 4,
 "nbformat_minor": 2
}
