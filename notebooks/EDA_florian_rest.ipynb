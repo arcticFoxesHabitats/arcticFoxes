{
 "cells": [
  {
   "cell_type": "code",
   "execution_count": null,
   "metadata": {},
   "outputs": [],
   "source": [
    "foxes_relevant_days = b.query(\"max_window < 1000 and points_this_day > 80\") #.groupby([\"id\", \"fox_day\"]).count()\n",
    "\n",
    "c = foxes_relevant_days[[\"id\", \"fox_day\", \"month\",\"travel_distance\"]].groupby([\"id\", \"fox_day\", \"month\"], as_index=False).sum()\n",
    "\n",
    "d = c[[ \"month\", \"travel_distance\"]].groupby([ \"month\"]).agg([np.min, np.max, np.mean, np.median, np.count_nonzero ], as_index=False)\n",
    "d\n",
    "#foxes_all.query(\"month == '01'\")\n",
    "#c.query(\"id == '2019-FSBD609-002' and month == '08'\")\n",
    "foxes_all.query(\"month == '09'\").fox_day.value_counts().sort_index()\n",
    "foxes_all.query(\"month == '09'\")[[\"id\",\"year\"]].groupby([\"id\", \"year\"]).count()\n"
   ]
  },
  {
   "cell_type": "code",
   "execution_count": null,
   "metadata": {},
   "outputs": [],
   "source": [
    "b.query(\"id == '2018-FSBD615_v-gr/r-gr' and month == '07' and max_window < 7300\").drop([\"x_\", \"y_\", \"t_\",\"id\"], axis = 1)"
   ]
  },
  {
   "cell_type": "code",
   "execution_count": null,
   "metadata": {},
   "outputs": [],
   "source": [
    "import json\n",
    "\n",
    "output_filename = '../data/out/foxes_for_kepler.geojson'\n",
    "with open(output_filename, 'w', encoding='utf-8') as f:\n",
    "    json.dump(geojson, f, ensure_ascii=False, default=vars)"
   ]
  },
  {
   "cell_type": "code",
   "execution_count": null,
   "metadata": {},
   "outputs": [],
   "source": [
    "def df_to_geojson_trip_old(df, properties, lat='geo_kepler_lat', lon='geo_kepler_lon', elev = 'elev', time = 'timestamp'):\n",
    "    geojson = {'type':'FeatureCollection', 'features':[]}\n",
    "    feature = {'type':'Feature',\n",
    "                   'properties':{},\n",
    "                   'geometry':{'type':'LineString',\n",
    "                               'coordinates':[]}}\n",
    "    for i, row in df.iterrows():\n",
    "        \n",
    "        feature['geometry']['coordinates'].append([row[lon], row[lat], row[elev], row[time]])\n",
    "    for prop in properties:\n",
    "        feature['properties'][prop] = row[prop]\n",
    "    geojson['features'].append(feature)\n",
    "    return geojson"
   ]
  }
 ],
 "metadata": {
  "kernelspec": {
   "display_name": "Python 3.9.8 ('.venv': venv)",
   "language": "python",
   "name": "python3"
  },
  "language_info": {
   "name": "python",
   "version": "3.9.8"
  },
  "orig_nbformat": 4,
  "vscode": {
   "interpreter": {
    "hash": "9d795dfe4a33d243e7c9c9179b39dc9f1d98155d25ade0c3457de6962c5eb892"
   }
  }
 },
 "nbformat": 4,
 "nbformat_minor": 2
}
