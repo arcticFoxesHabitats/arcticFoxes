{
 "cells": [
  {
   "attachments": {},
   "cell_type": "markdown",
   "metadata": {},
   "source": [
    "# EDA: time series\n",
    "In this notebook, we analyze the day trips of the individual foxes."
   ]
  },
  {
   "cell_type": "code",
   "execution_count": 2,
   "metadata": {
    "slideshow": {
     "slide_type": "skip"
    }
   },
   "outputs": [],
   "source": [
    "import sys\n",
    "sys.path.append(\"..\")\n",
    "sys.path.append(\"../modeling\")\n",
    "\n",
    "import home_ranges as hr\n",
    "import features_for_observations as f4o\n",
    "\n",
    "from keplergl import KeplerGl\n",
    "\n",
    "import pandas as pd\n",
    "import numpy as np\n",
    "import matplotlib.pyplot as plt\n",
    "import geopandas as geopd\n",
    "import seaborn as sns\n",
    "import datetime as dt \n",
    "\n",
    "from rasterio.plot import show\n",
    "\n",
    "from datetime import datetime, timedelta\n",
    "from shapely.geometry import Polygon\n",
    "import shapely\n",
    "\n",
    "import geopandas as gpd"
   ]
  },
  {
   "attachments": {},
   "cell_type": "markdown",
   "metadata": {},
   "source": [
    "First, we import the data."
   ]
  },
  {
   "cell_type": "code",
   "execution_count": 3,
   "metadata": {},
   "outputs": [
    {
     "ename": "KeyboardInterrupt",
     "evalue": "",
     "output_type": "error",
     "traceback": [
      "\u001b[0;31m---------------------------------------------------------------------------\u001b[0m",
      "\u001b[0;31mKeyboardInterrupt\u001b[0m                         Traceback (most recent call last)",
      "\u001b[1;32m/home/lisa/Desktop/neuefische/arcticFoxes/notebooks/EDA_observations.ipynb Cell 4\u001b[0m in \u001b[0;36m<cell line: 2>\u001b[0;34m()\u001b[0m\n\u001b[1;32m      <a href='vscode-notebook-cell:/home/lisa/Desktop/neuefische/arcticFoxes/notebooks/EDA_observations.ipynb#W4sZmlsZQ%3D%3D?line=0'>1</a>\u001b[0m foxes_all \u001b[39m=\u001b[39m geopd\u001b[39m.\u001b[39mread_file(\u001b[39m\"\u001b[39m\u001b[39m../data/cleaned_shapefiles/foxes_all.shp\u001b[39m\u001b[39m\"\u001b[39m)\n\u001b[0;32m----> <a href='vscode-notebook-cell:/home/lisa/Desktop/neuefische/arcticFoxes/notebooks/EDA_observations.ipynb#W4sZmlsZQ%3D%3D?line=1'>2</a>\u001b[0m sample_points \u001b[39m=\u001b[39m geopd\u001b[39m.\u001b[39;49mread_file(\u001b[39m\"\u001b[39;49m\u001b[39m../data/cleaned_shapefiles/sample_points.shp\u001b[39;49m\u001b[39m\"\u001b[39;49m)\n\u001b[1;32m      <a href='vscode-notebook-cell:/home/lisa/Desktop/neuefische/arcticFoxes/notebooks/EDA_observations.ipynb#W4sZmlsZQ%3D%3D?line=2'>3</a>\u001b[0m dens_all \u001b[39m=\u001b[39m geopd\u001b[39m.\u001b[39mread_file(\u001b[39m\"\u001b[39m\u001b[39m../data/cleaned_shapefiles/dens_norrbotten.shp\u001b[39m\u001b[39m\"\u001b[39m)\n",
      "File \u001b[0;32m~/anaconda3/lib/python3.9/site-packages/geopandas/io/file.py:259\u001b[0m, in \u001b[0;36m_read_file\u001b[0;34m(filename, bbox, mask, rows, engine, **kwargs)\u001b[0m\n\u001b[1;32m    256\u001b[0m     path_or_bytes \u001b[39m=\u001b[39m filename\n\u001b[1;32m    258\u001b[0m \u001b[39mif\u001b[39;00m engine \u001b[39m==\u001b[39m \u001b[39m\"\u001b[39m\u001b[39mfiona\u001b[39m\u001b[39m\"\u001b[39m:\n\u001b[0;32m--> 259\u001b[0m     \u001b[39mreturn\u001b[39;00m _read_file_fiona(\n\u001b[1;32m    260\u001b[0m         path_or_bytes, from_bytes, bbox\u001b[39m=\u001b[39;49mbbox, mask\u001b[39m=\u001b[39;49mmask, rows\u001b[39m=\u001b[39;49mrows, \u001b[39m*\u001b[39;49m\u001b[39m*\u001b[39;49mkwargs\n\u001b[1;32m    261\u001b[0m     )\n\u001b[1;32m    262\u001b[0m \u001b[39melif\u001b[39;00m engine \u001b[39m==\u001b[39m \u001b[39m\"\u001b[39m\u001b[39mpyogrio\u001b[39m\u001b[39m\"\u001b[39m:\n\u001b[1;32m    263\u001b[0m     \u001b[39mreturn\u001b[39;00m _read_file_pyogrio(\n\u001b[1;32m    264\u001b[0m         path_or_bytes, bbox\u001b[39m=\u001b[39mbbox, mask\u001b[39m=\u001b[39mmask, rows\u001b[39m=\u001b[39mrows, \u001b[39m*\u001b[39m\u001b[39m*\u001b[39mkwargs\n\u001b[1;32m    265\u001b[0m     )\n",
      "File \u001b[0;32m~/anaconda3/lib/python3.9/site-packages/geopandas/io/file.py:360\u001b[0m, in \u001b[0;36m_read_file_fiona\u001b[0;34m(path_or_bytes, from_bytes, bbox, mask, rows, where, **kwargs)\u001b[0m\n\u001b[1;32m    356\u001b[0m     df \u001b[39m=\u001b[39m pd\u001b[39m.\u001b[39mDataFrame(\n\u001b[1;32m    357\u001b[0m         [record[\u001b[39m\"\u001b[39m\u001b[39mproperties\u001b[39m\u001b[39m\"\u001b[39m] \u001b[39mfor\u001b[39;00m record \u001b[39min\u001b[39;00m f_filt], columns\u001b[39m=\u001b[39mcolumns\n\u001b[1;32m    358\u001b[0m     )\n\u001b[1;32m    359\u001b[0m \u001b[39melse\u001b[39;00m:\n\u001b[0;32m--> 360\u001b[0m     df \u001b[39m=\u001b[39m GeoDataFrame\u001b[39m.\u001b[39;49mfrom_features(\n\u001b[1;32m    361\u001b[0m         f_filt, crs\u001b[39m=\u001b[39;49mcrs, columns\u001b[39m=\u001b[39;49mcolumns \u001b[39m+\u001b[39;49m [\u001b[39m\"\u001b[39;49m\u001b[39mgeometry\u001b[39;49m\u001b[39m\"\u001b[39;49m]\n\u001b[1;32m    362\u001b[0m     )\n\u001b[1;32m    363\u001b[0m \u001b[39mfor\u001b[39;00m k \u001b[39min\u001b[39;00m datetime_fields:\n\u001b[1;32m    364\u001b[0m     as_dt \u001b[39m=\u001b[39m pd\u001b[39m.\u001b[39mto_datetime(df[k], errors\u001b[39m=\u001b[39m\u001b[39m\"\u001b[39m\u001b[39mignore\u001b[39m\u001b[39m\"\u001b[39m)\n",
      "File \u001b[0;32m~/anaconda3/lib/python3.9/site-packages/geopandas/geodataframe.py:635\u001b[0m, in \u001b[0;36mGeoDataFrame.from_features\u001b[0;34m(cls, features, crs, columns)\u001b[0m\n\u001b[1;32m    632\u001b[0m \u001b[39mif\u001b[39;00m \u001b[39mhasattr\u001b[39m(feature, \u001b[39m\"\u001b[39m\u001b[39m__geo_interface__\u001b[39m\u001b[39m\"\u001b[39m):\n\u001b[1;32m    633\u001b[0m     feature \u001b[39m=\u001b[39m feature\u001b[39m.\u001b[39m__geo_interface__\n\u001b[1;32m    634\u001b[0m row \u001b[39m=\u001b[39m {\n\u001b[0;32m--> 635\u001b[0m     \u001b[39m\"\u001b[39m\u001b[39mgeometry\u001b[39m\u001b[39m\"\u001b[39m: shape(feature[\u001b[39m\"\u001b[39;49m\u001b[39mgeometry\u001b[39;49m\u001b[39m\"\u001b[39;49m]) \u001b[39mif\u001b[39;00m feature[\u001b[39m\"\u001b[39m\u001b[39mgeometry\u001b[39m\u001b[39m\"\u001b[39m] \u001b[39melse\u001b[39;00m \u001b[39mNone\u001b[39;00m\n\u001b[1;32m    636\u001b[0m }\n\u001b[1;32m    637\u001b[0m \u001b[39m# load properties\u001b[39;00m\n\u001b[1;32m    638\u001b[0m properties \u001b[39m=\u001b[39m feature[\u001b[39m\"\u001b[39m\u001b[39mproperties\u001b[39m\u001b[39m\"\u001b[39m]\n",
      "File \u001b[0;32m~/anaconda3/lib/python3.9/site-packages/shapely/geometry/geo.py:93\u001b[0m, in \u001b[0;36mshape\u001b[0;34m(context)\u001b[0m\n\u001b[1;32m     91\u001b[0m     ob \u001b[39m=\u001b[39m context\n\u001b[1;32m     92\u001b[0m geom_type \u001b[39m=\u001b[39m ob\u001b[39m.\u001b[39mget(\u001b[39m\"\u001b[39m\u001b[39mtype\u001b[39m\u001b[39m\"\u001b[39m)\u001b[39m.\u001b[39mlower()\n\u001b[0;32m---> 93\u001b[0m \u001b[39mif\u001b[39;00m \u001b[39m\"\u001b[39m\u001b[39mcoordinates\u001b[39m\u001b[39m\"\u001b[39m \u001b[39min\u001b[39;00m ob \u001b[39mand\u001b[39;00m _is_coordinates_empty(ob[\u001b[39m\"\u001b[39;49m\u001b[39mcoordinates\u001b[39;49m\u001b[39m\"\u001b[39;49m]):\n\u001b[1;32m     94\u001b[0m     \u001b[39mreturn\u001b[39;00m _empty_shape_for_no_coordinates(geom_type)\n\u001b[1;32m     95\u001b[0m \u001b[39melif\u001b[39;00m geom_type \u001b[39m==\u001b[39m \u001b[39m\"\u001b[39m\u001b[39mpoint\u001b[39m\u001b[39m\"\u001b[39m:\n",
      "File \u001b[0;32m~/anaconda3/lib/python3.9/site-packages/shapely/geometry/geo.py:26\u001b[0m, in \u001b[0;36m_is_coordinates_empty\u001b[0;34m(coordinates)\u001b[0m\n\u001b[1;32m     24\u001b[0m     \u001b[39mif\u001b[39;00m \u001b[39mlen\u001b[39m(coordinates) \u001b[39m==\u001b[39m \u001b[39m0\u001b[39m:\n\u001b[1;32m     25\u001b[0m         \u001b[39mreturn\u001b[39;00m \u001b[39mTrue\u001b[39;00m\n\u001b[0;32m---> 26\u001b[0m     \u001b[39mreturn\u001b[39;00m \u001b[39mall\u001b[39;49m(\u001b[39mmap\u001b[39;49m(_is_coordinates_empty, coordinates))\n\u001b[1;32m     27\u001b[0m \u001b[39melse\u001b[39;00m:\n\u001b[1;32m     28\u001b[0m     \u001b[39mreturn\u001b[39;00m \u001b[39mFalse\u001b[39;00m\n",
      "\u001b[0;31mKeyboardInterrupt\u001b[0m: "
     ]
    }
   ],
   "source": [
    "foxes_all = geopd.read_file(\"../data/cleaned_shapefiles/foxes_all.shp\")\n",
    "sample_points = geopd.read_file(\"../data/cleaned_shapefiles/sample_points.shp\")\n",
    "dens_all = geopd.read_file(\"../data/cleaned_shapefiles/dens_norrbotten.shp\")"
   ]
  },
  {
   "attachments": {},
   "cell_type": "markdown",
   "metadata": {},
   "source": [
    "In the next step, we want to visualize the day trips of the foxes with Kepler GL. Since Kepler uses the EPSG4326 coordinate system and our coordinates are in CRS3006, we include additional rows with the transformed coordinates."
   ]
  },
  {
   "cell_type": "code",
   "execution_count": null,
   "metadata": {},
   "outputs": [],
   "source": [
    "gdf = gpd.GeoDataFrame(foxes_all.geometry, crs=3006)\n",
    "\n",
    "gdf = gdf.to_crs(epsg= 4326)\n",
    "\n",
    "foxes_all[\"geo_kepler_lat\"] = [geo.y for geo in gdf.geometry]\n",
    "foxes_all[\"geo_kepler_lon\"] = [geo.x for geo in gdf.geometry]"
   ]
  },
  {
   "attachments": {},
   "cell_type": "markdown",
   "metadata": {},
   "source": [
    "Since arctic foxes are nocturnal, we define a 24h \"fox_day\", starting at noon.\n",
    "In addition, we add columns for the month and the year of the timestamp."
   ]
  },
  {
   "cell_type": "code",
   "execution_count": null,
   "metadata": {},
   "outputs": [],
   "source": [
    "foxes_all[\"fox_day\"] = [str(datetime.strptime(x, '%Y-%m-%d-%H:%M:%S' ) + timedelta(hours=12))[:10]  for x in foxes_all.t_ ]\n",
    "\n",
    "foxes_all[\"month\"] = [x[5:7] for x in foxes_all.fox_day]\n",
    "foxes_all[\"year\"] = [x[:4] for x in foxes_all.fox_day]"
   ]
  },
  {
   "attachments": {},
   "cell_type": "markdown",
   "metadata": {},
   "source": [
    "In the next step, we calculate the temporal and spatial differences for two subsequent data points of the same fox."
   ]
  },
  {
   "cell_type": "code",
   "execution_count": null,
   "metadata": {},
   "outputs": [],
   "source": [
    "foxes_all[\"travel_distance\"] = f4o.get_distance(foxes_all)\n",
    "foxes_all[\"time_diff\"] = f4o.get_time_diffs(foxes_all)"
   ]
  },
  {
   "attachments": {},
   "cell_type": "markdown",
   "metadata": {},
   "source": [
    "Since we have a lot of days with very little data points, we look at how much data we have for different days.\n",
    "\n",
    "We include two more columns that for each \"fox day\" count the number of data points and the maximum time delta between to data points on this day (the less, the more precise the information that day)."
   ]
  },
  {
   "cell_type": "code",
   "execution_count": null,
   "metadata": {},
   "outputs": [],
   "source": [
    "points_per_day = foxes_all[[\"id\", \"time_diff\", \"fox_day\"]].groupby([\"id\",\"fox_day\"], as_index=False ).count().rename(columns={\"time_diff\": \"points_this_day\"})\n",
    "\n",
    "max_window_per_day = foxes_all[[\"id\", \"time_diff\", \"fox_day\"]].groupby([\"id\",\"fox_day\"], as_index=False ).max().rename(columns={\"time_diff\": \"max_window\"})\n",
    "\n",
    "foxes_all_temp = pd.merge( foxes_all, points_per_day, left_on=[\"id\", \"fox_day\"], right_on=[\"id\", \"fox_day\"] )\n",
    "foxes_all_2 = pd.merge( max_window_per_day, foxes_all_temp , left_on=[\"id\", \"fox_day\"], right_on=[\"id\", \"fox_day\"] )\n"
   ]
  },
  {
   "attachments": {},
   "cell_type": "markdown",
   "metadata": {},
   "source": [
    "Now, we include the home ranges and the area of the home range for every fox."
   ]
  },
  {
   "cell_type": "code",
   "execution_count": null,
   "metadata": {},
   "outputs": [],
   "source": [
    "foxes_homeranges = foxes_all.groupby([\"id\", \"sex\"], as_index=False).count()[[\"id\",\"sex\"]]\n",
    "\n",
    "foxes_homeranges[\"geometry\"] = [f4o.polygon_to_geojson(hr.hr_area(foxes_all.query('id ==@x'))) for x in foxes_homeranges.id ]\n",
    "foxes_homeranges[\"hr_area\"] = [hr.hr_area(foxes_all.query('id ==@x')).area for x in foxes_homeranges.id ]"
   ]
  },
  {
   "attachments": {},
   "cell_type": "markdown",
   "metadata": {},
   "source": [
    "We can compare the size of the biggest and the smallest home range."
   ]
  },
  {
   "cell_type": "code",
   "execution_count": null,
   "metadata": {},
   "outputs": [],
   "source": [
    "foxes_homeranges.hr_area.min() / foxes_homeranges.hr_area.max()"
   ]
  },
  {
   "attachments": {},
   "cell_type": "markdown",
   "metadata": {},
   "source": [
    "We also calculate the mean of the area."
   ]
  },
  {
   "cell_type": "code",
   "execution_count": null,
   "metadata": {},
   "outputs": [],
   "source": [
    "foxes_homeranges.groupby(\"sex\", as_index = False).mean()"
   ]
  },
  {
   "attachments": {},
   "cell_type": "markdown",
   "metadata": {},
   "source": [
    "Next, we want to represent the home ranges on a map. For this, we create shapely objects."
   ]
  },
  {
   "cell_type": "code",
   "execution_count": null,
   "metadata": {},
   "outputs": [],
   "source": [
    "# circles around the dens to see how those differ from home ranges. Not yet used for lack of ideas for radius\n",
    "# future work might define radius as distance from den to farthest point of polygon \n",
    "circle_all = Polygon()\n",
    "\n",
    "# all homeranges together as one Multipolygon.\n",
    "hr_all = Polygon()\n",
    "\n",
    "# Areas belonging to more than one home range\n",
    "intersect_all = Polygon()\n",
    "\n",
    "\n",
    "for fox_id in foxes_homeranges.id.unique():\n",
    "    fox_hr_poly = hr.hr_area(foxes_all.query(\"id == @fox_id\"))\n",
    "    x = hr_all.intersection(fox_hr_poly)\n",
    "    intersect_all = intersect_all.union(x)\n",
    "   # circle_all = circle_all.union(circle)\n",
    "    hr_all = hr_all.union(fox_hr_poly)"
   ]
  },
  {
   "attachments": {},
   "cell_type": "markdown",
   "metadata": {},
   "source": [
    "We can show the home ranges on a map."
   ]
  },
  {
   "cell_type": "code",
   "execution_count": null,
   "metadata": {},
   "outputs": [],
   "source": [
    "map1=KeplerGl(height=500)\n",
    "\n",
    "cols_df = [\"id\", \"geo_kepler_lat\", \"geo_kepler_lon\"]\n",
    "cols_geo = ['fox_day']\n",
    "\n",
    "\n",
    "for fox_id in foxes_all.id.unique():    \n",
    "    fox_hr_poly = hr.hr_area(foxes_all.query(\"id == @fox_id\"))\n",
    "    geojson = f4o.df_to_geojson_trip(foxes_all.query(\"id == @fox_id \"), cols_geo)\n",
    "    map1.add_data(data=geojson,name='Where does fox  ' + fox_id + ' trot?')\n",
    "    map1.add_data(data = f4o.polygon_to_geojson(fox_hr_poly), name='homerange' + fox_id)\n",
    "\n",
    "\n",
    "map1"
   ]
  },
  {
   "attachments": {},
   "cell_type": "markdown",
   "metadata": {},
   "source": [
    "We also want to analyze how far a fox travels per day. Here, we only look at days with a lot of points. However, this query is very arbitrary."
   ]
  },
  {
   "cell_type": "code",
   "execution_count": null,
   "metadata": {},
   "outputs": [],
   "source": [
    "foxes_relevant_days = foxes_all_2.query(\"max_window < 1000 and points_this_day > 80\")"
   ]
  },
  {
   "cell_type": "markdown",
   "metadata": {},
   "source": [
    "Based on this reduced data set, it was possible to get min, max, mean and median of the travelled distance (in meters)"
   ]
  },
  {
   "cell_type": "code",
   "execution_count": null,
   "metadata": {},
   "outputs": [],
   "source": [
    "foxes_relevant_days[[\"id\", \"fox_day\",\"travel_distance\"] ].groupby([\"id\", \"fox_day\"]).sum().describe()"
   ]
  },
  {
   "attachments": {},
   "cell_type": "markdown",
   "metadata": {},
   "source": [
    "Next, we create a table to compare these distances by month, to see if there were particularly \"active\" months.\n",
    "\n",
    "In our initial data, it seemed that in July foxes travel only half the distance they travel in September.\n",
    "But our data was too sparse, with only 13 such \"day trips\" in July, so this is not necessarily representative."
   ]
  },
  {
   "cell_type": "code",
   "execution_count": null,
   "metadata": {},
   "outputs": [],
   "source": [
    "c = foxes_relevant_days[[\"id\", \"fox_day\", \"month\",\"travel_distance\"]].groupby([\"id\", \"fox_day\", \"month\"], as_index=False).sum()\n",
    "\n",
    "d = c[[ \"month\", \"travel_distance\"]].groupby([ \"month\"]).agg([np.min, np.max, np.mean, np.median, np.count_nonzero ], as_index=False)\n",
    "d.rename(columns={\"count_nonzero\": \"no_of_observations\"})"
   ]
  }
 ],
 "metadata": {
  "kernelspec": {
   "display_name": "base",
   "language": "python",
   "name": "python3"
  },
  "language_info": {
   "codemirror_mode": {
    "name": "ipython",
    "version": 3
   },
   "file_extension": ".py",
   "mimetype": "text/x-python",
   "name": "python",
   "nbconvert_exporter": "python",
   "pygments_lexer": "ipython3",
   "version": "3.9.12"
  },
  "orig_nbformat": 4,
  "vscode": {
   "interpreter": {
    "hash": "6ed069fd3bdf0d3398cf08a8b1c5b079a9b26055cf6b3c584f9b363cfc7ba74e"
   }
  }
 },
 "nbformat": 4,
 "nbformat_minor": 2
}
