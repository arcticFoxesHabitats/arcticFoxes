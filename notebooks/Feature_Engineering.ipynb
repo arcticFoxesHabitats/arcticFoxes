{
 "cells": [
  {
   "attachments": {},
   "cell_type": "markdown",
   "metadata": {},
   "source": [
    "# Feature Engineering\n",
    "\n",
    "After the cleaning, we do some feature engineering. The calculation of the home ranges is summarized in a separate [notebook](EDA_home_ranges.ipynb) and is a prerequisite for the following steps. The remaining steps are explained in this notebook. Finally, the data is saved in the final_shapefiles folder."
   ]
  },
  {
   "cell_type": "code",
   "execution_count": 1,
   "metadata": {
    "slideshow": {
     "slide_type": "skip"
    }
   },
   "outputs": [],
   "source": [
    "import pandas as pd\n",
    "import numpy as np\n",
    "import warnings\n",
    "import matplotlib.pyplot as plt\n",
    "import rasterio\n",
    "import geopandas as geopd\n",
    "import rasterio.rio\n",
    "import seaborn as sns\n",
    "import datetime as dt \n",
    "\n",
    "from rasterio.plot import show\n",
    "\n",
    "import pyreadr\n",
    "\n"
   ]
  },
  {
   "attachments": {},
   "cell_type": "markdown",
   "metadata": {},
   "source": [
    "First, we import the final dataframes."
   ]
  },
  {
   "cell_type": "code",
   "execution_count": 8,
   "metadata": {},
   "outputs": [],
   "source": [
    "df_all = geopd.read_file(\"../data/final_shapefiles/foxes_modelling_all.shp\")\n",
    "sample_points = geopd.read_file(\"../data/cleaned_shapefiles/sample_points.shp\")"
   ]
  },
  {
   "attachments": {},
   "cell_type": "markdown",
   "metadata": {},
   "source": [
    "## Distance to Forest\n",
    "Import ShapeFile with edge of forest"
   ]
  },
  {
   "cell_type": "code",
   "execution_count": 3,
   "metadata": {},
   "outputs": [],
   "source": [
    "forest = geopd.read_file(\"../data/forest_study_area.shp\")"
   ]
  },
  {
   "attachments": {},
   "cell_type": "markdown",
   "metadata": {},
   "source": [
    "Explode multipolygon into several polygons, transform to the swedish coordinate system."
   ]
  },
  {
   "cell_type": "code",
   "execution_count": 4,
   "metadata": {},
   "outputs": [],
   "source": [
    "forest = forest.explode(ignore_index=True)\n",
    "forest = forest.to_crs(3006)"
   ]
  },
  {
   "attachments": {},
   "cell_type": "markdown",
   "metadata": {},
   "source": [
    "Function to calculate distance to nearest forest:"
   ]
  },
  {
   "cell_type": "code",
   "execution_count": 5,
   "metadata": {},
   "outputs": [],
   "source": [
    "def distance_to_forest(forest, point):\n",
    "    return min(forest.distance(point))"
   ]
  },
  {
   "attachments": {},
   "cell_type": "markdown",
   "metadata": {},
   "source": [
    "Create \"distForest\" feature and use the above function to calculate the distance for every point."
   ]
  },
  {
   "cell_type": "code",
   "execution_count": 6,
   "metadata": {},
   "outputs": [],
   "source": [
    "df_all[\"distForest\"] = df_all.geometry\n",
    "df_all.distForest = df_all.distForest.apply(lambda x: distance_to_forest(forest,x))"
   ]
  },
  {
   "cell_type": "code",
   "execution_count": null,
   "metadata": {},
   "outputs": [],
   "source": [
    "sample_points[\"distForest\"] = sample_points.geometry\n",
    "sample_points.distForest = sample_points.distForest.apply(lambda x: distance_to_forest(forest,x))"
   ]
  },
  {
   "attachments": {},
   "cell_type": "markdown",
   "metadata": {},
   "source": [
    "Finally, safe the data to the final_shapefiles folder."
   ]
  },
  {
   "cell_type": "code",
   "execution_count": 7,
   "metadata": {},
   "outputs": [
    {
     "name": "stderr",
     "output_type": "stream",
     "text": [
      "/var/folders/7q/d4_6xvds2t9dkt7cv9dmxg300000gn/T/ipykernel_3804/3733575644.py:1: UserWarning: Column names longer than 10 characters will be truncated when saved to ESRI Shapefile.\n",
      "  df_all.to_file(\"../data/final_shapefiles/foxes_modelling_all.shp\")\n"
     ]
    }
   ],
   "source": [
    "df_all.to_file(\"../data/final_shapefiles/foxes_modelling_all.shp\")\n",
    "sample_points.to_file(\"../data/final_shapefiles/sample_points.shp\")"
   ]
  }
 ],
 "metadata": {
  "kernelspec": {
   "display_name": ".venv",
   "language": "python",
   "name": "python3"
  },
  "language_info": {
   "codemirror_mode": {
    "name": "ipython",
    "version": 3
   },
   "file_extension": ".py",
   "mimetype": "text/x-python",
   "name": "python",
   "nbconvert_exporter": "python",
   "pygments_lexer": "ipython3",
   "version": "3.9.8"
  },
  "orig_nbformat": 4,
  "vscode": {
   "interpreter": {
    "hash": "19ac0277738c8d003280297ca8a435e04eabeabc8c82e391b37813a7a623b1fe"
   }
  }
 },
 "nbformat": 4,
 "nbformat_minor": 2
}
