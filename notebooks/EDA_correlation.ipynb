{
 "cells": [
  {
   "attachments": {},
   "cell_type": "markdown",
   "metadata": {},
   "source": [
    "# General EDA"
   ]
  },
  {
   "cell_type": "code",
   "execution_count": null,
   "metadata": {
    "slideshow": {
     "slide_type": "skip"
    }
   },
   "outputs": [],
   "source": [
    "import pandas as pd\n",
    "import numpy as np\n",
    "import warnings\n",
    "import matplotlib.pyplot as plt\n",
    "import rasterio\n",
    "import geopandas as geopd\n",
    "import rasterio.rio\n",
    "import seaborn as sns\n",
    "import datetime as dt \n",
    "\n",
    "from sklearn.tree import DecisionTreeClassifier\n",
    "from sklearn.model_selection import train_test_split\n",
    "from sklearn.metrics import confusion_matrix, accuracy_score, f1_score\n",
    "\n",
    "\n",
    "from rasterio.plot import show\n",
    "\n",
    "import pyreadr\n",
    "\n",
    "RSEED = 42\n",
    "\n"
   ]
  },
  {
   "attachments": {},
   "cell_type": "markdown",
   "metadata": {},
   "source": [
    "First, we import the final dataframes."
   ]
  },
  {
   "cell_type": "code",
   "execution_count": null,
   "metadata": {},
   "outputs": [],
   "source": [
    "df_all = geopd.read_file(\"../data/final_shapefiles/foxes_modelling_all.shp\")\n",
    "df_resamp = geopd.read_file(\"../data/final_shapefiles/foxes_modelling_resamp.shp\")\n",
    "#sample_points = geopd.read_file(\"../data/cleaned_shapefiles/sample_points.shp\")"
   ]
  },
  {
   "attachments": {},
   "cell_type": "markdown",
   "metadata": {},
   "source": [
    "## Create dummie variables\n",
    "### Bin aspect feature\n",
    "First, we put the aspect feature into bins. One bin for the -1 values (where the slope is zero) and eight bins for the eight geographic directions."
   ]
  },
  {
   "cell_type": "code",
   "execution_count": null,
   "metadata": {},
   "outputs": [],
   "source": [
    "#in a fist step, the category \"N\" is created twice\n",
    "df_all[\"aspect_bin\"] = pd.cut(df_all.aspect, \n",
    "                                bins = [-1.1,0,22.5,67.5,112.5,157.5,202.5,247.5,292.5,337.5,360],\n",
    "                                labels = [\"Flat\", \"N\", \"NE\", \"E\", \"SE\", \"S\", \"SW\", \"W\", \"NW\", \"N2\"])\n",
    "#in a second step, the second category is renamed to resemble the first\n",
    "df_all[\"aspect_bin\"] = df_all.aspect_bin.replace(\"N2\",\"N\")\n",
    "\n",
    "#repeat for resamp:\n",
    "df_resamp[\"aspect_bin\"] = pd.cut(df_resamp.aspect, \n",
    "                                bins = [-1.1,0,22.5,67.5,112.5,157.5,202.5,247.5,292.5,337.5,360],\n",
    "                                labels = [\"Flat\", \"N\", \"NE\", \"E\", \"SE\", \"S\", \"SW\", \"W\", \"NW\", \"N2\"])\n",
    "df_resamp[\"aspect_bin\"] = df_resamp.aspect_bin.replace(\"N2\",\"N\")\n"
   ]
  },
  {
   "attachments": {},
   "cell_type": "markdown",
   "metadata": {},
   "source": [
    "### Create dummie variables for all categorical variables"
   ]
  },
  {
   "cell_type": "code",
   "execution_count": null,
   "metadata": {},
   "outputs": [],
   "source": [
    "cat_variables = [\"soil\", \"veg\", \"aspect_bin\"]"
   ]
  },
  {
   "cell_type": "code",
   "execution_count": null,
   "metadata": {},
   "outputs": [],
   "source": [
    "categories_all = pd.get_dummies(df_all[cat_variables], drop_first=True)\n",
    "categories_resamp = pd.get_dummies(df_resamp[cat_variables], drop_first=True)"
   ]
  },
  {
   "cell_type": "code",
   "execution_count": null,
   "metadata": {},
   "outputs": [],
   "source": [
    "df_all = pd.concat([df_all, categories_all], axis = 1)\n",
    "df_resamp = pd.concat([df_resamp, categories_resamp], axis = 1)"
   ]
  },
  {
   "cell_type": "code",
   "execution_count": null,
   "metadata": {},
   "outputs": [],
   "source": [
    "df_all_enc = df_all.drop([\"veg\", \"soil\"], axis = 1)\n",
    "df_resamp_enc = df_resamp.drop([\"veg\", \"soil\"], axis = 1)"
   ]
  },
  {
   "cell_type": "code",
   "execution_count": null,
   "metadata": {},
   "outputs": [],
   "source": [
    "df_all_enc.head()"
   ]
  },
  {
   "attachments": {},
   "cell_type": "markdown",
   "metadata": {},
   "source": [
    "## Start of Correlation Analysis"
   ]
  },
  {
   "cell_type": "code",
   "execution_count": null,
   "metadata": {},
   "outputs": [],
   "source": [
    "corr_columns = [\"NDVI\", \"NDMI\", \"slope\", \"aspect\", \"elev\", \"target\"]\n",
    "\n",
    "corr_all = df_all_enc[corr_columns].corr()\n",
    "# corr_all = df_all_enc.corr()\n",
    "\n",
    "plt.figure(figsize = (14,12))\n",
    "ax = sns.heatmap(corr_all, linewidths=.5, annot=True, cmap='coolwarm', vmin = -1, vmax = 1)\n",
    "# ax = sns.heatmap(corr_all, linewidths=.5, cmap='coolwarm', vmin = -1, vmax = 1)"
   ]
  },
  {
   "cell_type": "code",
   "execution_count": null,
   "metadata": {},
   "outputs": [],
   "source": [
    "df_query = df_all.query(\"aspect_bin == 'Flat'\")\n",
    "df_query.groupby(\"veg\").count()"
   ]
  },
  {
   "cell_type": "code",
   "execution_count": null,
   "metadata": {},
   "outputs": [],
   "source": [
    "df_query = df_all.query(\"veg == 'Water'\")\n",
    "df_query.groupby(\"aspect_bin\").count()[\"veg\"]"
   ]
  },
  {
   "cell_type": "code",
   "execution_count": null,
   "metadata": {},
   "outputs": [],
   "source": [
    "df_all.iloc[:, -19:-1].columns"
   ]
  },
  {
   "cell_type": "code",
   "execution_count": null,
   "metadata": {},
   "outputs": [],
   "source": [
    "#corr_columns_veg_soil = df_all.iloc[:, -19:-9].columns\n",
    "corr_columns_veg_soil = ['soil_Rest', 'soil_Roesberg', 'soil_Stone', 'soil_Water', 'veg_Bush',\n",
    "       'veg_Dry Shrub', 'veg_Grassland', 'veg_Moist Shrub', 'veg_Snow',\n",
    "       'veg_Stone', 'veg_Water', 'aspect_bin_N', 'aspect_bin_NE',\n",
    "       'aspect_bin_E', 'aspect_bin_SE', 'aspect_bin_S', 'aspect_bin_SW',\n",
    "       'aspect_bin_W', \"target\"]\n",
    "\n",
    "corr_all = df_all_enc[corr_columns_veg_soil].corr()\n",
    "# corr_all = df_all_enc.corr()\n",
    "\n",
    "plt.figure(figsize = (14,12))\n",
    "ax = sns.heatmap(corr_all, linewidths=.5, annot=True, cmap='coolwarm', vmin = -1, vmax = 1)\n",
    "# ax = sns.heatmap(corr_all, linewidths=.5, cmap='coolwarm', vmin = -1, vmax = 1)"
   ]
  },
  {
   "cell_type": "code",
   "execution_count": null,
   "metadata": {},
   "outputs": [],
   "source": [
    "corr_resamp = df_resamp_enc[corr_columns].corr()\n",
    "# corr_resamp = df_resamp_enc.corr()\n",
    "\n",
    "plt.figure(figsize = (14,12))\n",
    "ax = sns.heatmap(corr_resamp, linewidths=.5, annot=True, cmap='coolwarm', vmin = -1, vmax = 1)\n",
    "# ax = sns.heatmap(corr_resamp, linewidths=.5, cmap='coolwarm', vmin = -1, vmax = 1)"
   ]
  },
  {
   "cell_type": "code",
   "execution_count": null,
   "metadata": {},
   "outputs": [],
   "source": [
    "df_all_pair = df_all_enc[corr_columns]\n",
    "sns.pairplot(df_all_pair, hue = \"target\")"
   ]
  },
  {
   "cell_type": "code",
   "execution_count": null,
   "metadata": {},
   "outputs": [],
   "source": [
    "ax = sns.histplot(data = df_all, x = \"elev\", hue = \"target\", stat = \"proportion\", common_norm = False, element = \"poly\")\n",
    "ax.set(xlabel = \"Elevation\", title = \"Elevation Distribution in Available (0) and Used (1) Areas\")"
   ]
  },
  {
   "cell_type": "code",
   "execution_count": null,
   "metadata": {},
   "outputs": [],
   "source": [
    "ax = sns.histplot(data = df_all, x = \"NDMI\", hue = \"target\", stat = \"proportion\", common_norm = False, element = \"poly\")\n",
    "#ax.set(xlim = [-0.99, 1], ylim = [0, 0.05])\n",
    "ax.set(title = \"NDMI Distribution in Available (0) and Used (1) Areas\")\n",
    "\n"
   ]
  },
  {
   "cell_type": "code",
   "execution_count": null,
   "metadata": {},
   "outputs": [],
   "source": [
    "ax = sns.histplot(data = df_all, x = \"NDVI\", hue = \"target\", stat = \"probability\", common_norm = False, element = \"poly\")\n",
    "ax.set(title = \"NDVI Distribution in Available (0) and Used (1) Areas\")\n",
    "\n"
   ]
  },
  {
   "cell_type": "code",
   "execution_count": null,
   "metadata": {},
   "outputs": [],
   "source": [
    "sns.scatterplot(data = df_all, x = \"NDMI\", y = \"elev\")"
   ]
  },
  {
   "cell_type": "code",
   "execution_count": null,
   "metadata": {},
   "outputs": [],
   "source": [
    "df_all.query(\"target == 1\").describe()"
   ]
  },
  {
   "cell_type": "code",
   "execution_count": null,
   "metadata": {},
   "outputs": [],
   "source": [
    "df_all.query(\"target == 0\").describe()"
   ]
  },
  {
   "cell_type": "code",
   "execution_count": null,
   "metadata": {},
   "outputs": [],
   "source": [
    "df_all.groupby([\"target\",\"veg\"]).count()[\"soil\"]"
   ]
  },
  {
   "cell_type": "code",
   "execution_count": null,
   "metadata": {},
   "outputs": [],
   "source": [
    "df_all.aspect_bin"
   ]
  },
  {
   "cell_type": "code",
   "execution_count": null,
   "metadata": {},
   "outputs": [],
   "source": [
    "x,y = 'veg', 'target'\n",
    "\n",
    "ax = (df_all\n",
    ".groupby(y)[x]\n",
    ".value_counts(normalize=True)\n",
    ".mul(100)\n",
    ".rename('percent')\n",
    ".reset_index()\n",
    ".pipe((sns.catplot,'data'), x=x,y='percent',hue=y,kind='bar'))\n",
    "ax.set(xlabel = \"Vegetation\", ylabel = \"Percent\", title = \"Vegetation Distribution in Available (0) and Used (1) Areas\")\n",
    "ax.set_xticklabels(rotation = 30, horizontalalignment = \"right\")"
   ]
  },
  {
   "cell_type": "code",
   "execution_count": null,
   "metadata": {},
   "outputs": [],
   "source": [
    "x,y = 'soil', 'target'\n",
    "\n",
    "ax = (df_all\n",
    ".groupby(y)[x]\n",
    ".value_counts(normalize=True)\n",
    ".mul(100)\n",
    ".rename('percent')\n",
    ".reset_index()\n",
    ".pipe((sns.catplot,'data'), x=x,y='percent',hue=y,kind='bar'))\n",
    "ax.set(xlabel = \"soil\")\n",
    "ax.set_xticklabels(rotation = 30, horizontalalignment = \"right\")"
   ]
  },
  {
   "cell_type": "code",
   "execution_count": null,
   "metadata": {},
   "outputs": [],
   "source": [
    "df_all[\"aspect_bin_obj\"] = df_all.aspect_bin.astype(\"object\")"
   ]
  },
  {
   "cell_type": "code",
   "execution_count": null,
   "metadata": {},
   "outputs": [],
   "source": [
    "x,y = 'aspect_bin_obj', 'target'\n",
    "\n",
    "ax = (df_all\n",
    ".groupby(y)[x]\n",
    ".value_counts(normalize=True)\n",
    ".mul(100)\n",
    ".rename('percent')\n",
    ".reset_index()\n",
    ".pipe((sns.catplot,'data'), x=x,y='percent',hue=y,kind='bar'))\n",
    "ax.set(xlabel = \"Aspect\")\n",
    "#ax.set_xticklabels(rotation = 30, horizontalalignment = \"right\")"
   ]
  },
  {
   "cell_type": "code",
   "execution_count": null,
   "metadata": {},
   "outputs": [],
   "source": [
    "ax = sns.countplot(data = df_all, x = \"veg\", hue = \"target\")\n",
    "ax.set(xlabel = \"vegetation\")\n",
    "ax.set_xticklabels(ax.get_xticklabels(), rotation = 30, horizontalalignment = \"right\")\n",
    "\n",
    "None"
   ]
  },
  {
   "cell_type": "code",
   "execution_count": null,
   "metadata": {},
   "outputs": [],
   "source": [
    "sns.countplot(data = df_all, x = \"soil\", hue = \"target\")\n"
   ]
  },
  {
   "cell_type": "code",
   "execution_count": null,
   "metadata": {},
   "outputs": [],
   "source": [
    "sns.countplot(data = df_all, x = \"aspect_bin\", hue = \"target\")\n"
   ]
  },
  {
   "cell_type": "code",
   "execution_count": null,
   "metadata": {},
   "outputs": [],
   "source": [
    "sns.countplot(data = df_all, x = \"veg\", hue = \"soil\")\n"
   ]
  },
  {
   "cell_type": "markdown",
   "metadata": {},
   "source": [
    "## __Baseline Model__"
   ]
  },
  {
   "cell_type": "code",
   "execution_count": null,
   "metadata": {},
   "outputs": [],
   "source": [
    "df_all_enc.aspect_bin"
   ]
  },
  {
   "cell_type": "code",
   "execution_count": null,
   "metadata": {},
   "outputs": [],
   "source": [
    "X = df_all_enc.iloc[:,5:]\n",
    "X = X.drop([\"target\", \"geometry\", \"aspect_bin\", \"area\", \"timestamp\"], axis = 1)\n",
    "y = df_all[\"target\"]"
   ]
  },
  {
   "cell_type": "code",
   "execution_count": null,
   "metadata": {},
   "outputs": [],
   "source": [
    "X_train, X_test, y_train, y_test = train_test_split(X, y, stratify = y, random_state = RSEED, test_size = 0.25)"
   ]
  },
  {
   "cell_type": "code",
   "execution_count": null,
   "metadata": {},
   "outputs": [],
   "source": [
    "dsc_tree = DecisionTreeClassifier()\n",
    "dsc_tree.fit(X_train, y_train)\n",
    "\n",
    "y_pred_train = dsc_tree.predict (X_train)\n",
    "y_pred = dsc_tree.predict(X_test)"
   ]
  },
  {
   "cell_type": "code",
   "execution_count": null,
   "metadata": {},
   "outputs": [],
   "source": [
    "results = confusion_matrix(y_train, y_pred_train)\n",
    "print(results)"
   ]
  },
  {
   "cell_type": "code",
   "execution_count": null,
   "metadata": {},
   "outputs": [],
   "source": [
    "results_test = confusion_matrix(y_test, y_pred)\n",
    "print(results_test)"
   ]
  },
  {
   "cell_type": "code",
   "execution_count": null,
   "metadata": {},
   "outputs": [],
   "source": [
    "ax = sns.heatmap(results_test, annot = True, cmap = \"Blues\")\n",
    "ax.set_title('Seaborn Confusion Matrix with labels\\n\\n');\n",
    "ax.set_xlabel('\\nPredicted Values')\n",
    "ax.set_ylabel('Actual Values ');\n",
    "\n",
    "## Ticket labels - List must be in alphabetical order\n",
    "ax.xaxis.set_ticklabels(['False','True'])\n",
    "ax.yaxis.set_ticklabels(['False','True'])\n",
    "\n",
    "## Display the visualization of the Confusion Matrix.\n",
    "plt.show()"
   ]
  },
  {
   "cell_type": "code",
   "execution_count": null,
   "metadata": {},
   "outputs": [],
   "source": [
    "print(\"Accuracy: \", accuracy_score(y_test, y_pred))\n",
    "print(\"F1 score: \", f1_score(y_test, y_pred))"
   ]
  },
  {
   "cell_type": "code",
   "execution_count": null,
   "metadata": {},
   "outputs": [],
   "source": [
    "dsc_tree.feature_importances_"
   ]
  },
  {
   "cell_type": "code",
   "execution_count": null,
   "metadata": {},
   "outputs": [],
   "source": [
    "feat_importances = pd.DataFrame(dsc_tree.feature_importances_, index=X_train.columns, columns=[\"Importance\"])\n",
    "feat_importances.sort_values(by='Importance', ascending=False, inplace=True)\n",
    "feat_importances.plot(kind='bar', figsize=(8,6))"
   ]
  }
 ],
 "metadata": {
  "kernelspec": {
   "display_name": "Python 3.9.8 ('.venv': venv)",
   "language": "python",
   "name": "python3"
  },
  "language_info": {
   "codemirror_mode": {
    "name": "ipython",
    "version": 3
   },
   "file_extension": ".py",
   "mimetype": "text/x-python",
   "name": "python",
   "nbconvert_exporter": "python",
   "pygments_lexer": "ipython3",
   "version": "3.9.8 (main, Oct 18 2022, 20:57:09) \n[GCC 9.4.0]"
  },
  "orig_nbformat": 4,
  "vscode": {
   "interpreter": {
    "hash": "a6a69aa757ec17a4e0946f75be1e0779f2abbf22d97369245d2f8ed69441e342"
   }
  }
 },
 "nbformat": 4,
 "nbformat_minor": 2
}
