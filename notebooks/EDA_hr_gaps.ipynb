{
 "cells": [
  {
   "attachments": {},
   "cell_type": "markdown",
   "metadata": {},
   "source": [
    "# General EDA"
   ]
  },
  {
   "cell_type": "code",
   "execution_count": null,
   "metadata": {
    "slideshow": {
     "slide_type": "skip"
    }
   },
   "outputs": [],
   "source": [
    "import pandas as pd\n",
    "import numpy as np\n",
    "import warnings\n",
    "import matplotlib.pyplot as plt\n",
    "import rasterio\n",
    "import geopandas as geopd\n",
    "import rasterio.rio\n",
    "import seaborn as sns\n",
    "import datetime as dt \n",
    "\n",
    "from rasterio.plot import show\n",
    "\n",
    "import pyreadr"
   ]
  },
  {
   "attachments": {},
   "cell_type": "markdown",
   "metadata": {},
   "source": [
    "First, we import the final dataframes."
   ]
  },
  {
   "cell_type": "code",
   "execution_count": null,
   "metadata": {},
   "outputs": [],
   "source": [
    "df_all = geopd.read_file(\"../data/final_shapefiles/foxes_modelling_all.shp\")\n",
    "df_resamp = geopd.read_file(\"../data/final_shapefiles/foxes_modelling_resamp.shp\")\n",
    "sample_points = geopd.read_file(\"../data/cleaned_shapefiles/sample_points.shp\")"
   ]
  },
  {
   "attachments": {},
   "cell_type": "markdown",
   "metadata": {},
   "source": [
    "## Create dummie variables\n",
    "### Bin aspect feature\n",
    "First, we put the aspect feature into bins. One bin for the -1 values (where the slope is zero) and eight bins for the eight geographic directions."
   ]
  },
  {
   "cell_type": "code",
   "execution_count": null,
   "metadata": {},
   "outputs": [],
   "source": [
    "#in a fist step, the category \"N\" is created twice\n",
    "df_all[\"aspect_bin\"] = pd.cut(df_all.aspect, \n",
    "                                bins = [-1.1,0,22.5,67.5,112.5,157.5,202.5,247.5,292.5,337.5,360],\n",
    "                                labels = [\"None\", \"N\", \"NE\", \"E\", \"SE\", \"S\", \"SW\", \"W\", \"NW\", \"N2\"])\n",
    "#in a second step, the second category is renamed to resemble the first\n",
    "df_all[\"aspect_bin\"] = df_all.aspect_bin.replace(\"N2\",\"N\")\n",
    "\n",
    "#repeat for resamp:\n",
    "df_resamp[\"aspect_bin\"] = pd.cut(df_resamp.aspect, \n",
    "                                bins = [-1.1,0,22.5,67.5,112.5,157.5,202.5,247.5,292.5,337.5,360],\n",
    "                                labels = [\"None\", \"N\", \"NE\", \"E\", \"SE\", \"S\", \"SW\", \"W\", \"NW\", \"N2\"])\n",
    "df_resamp[\"aspect_bin\"] = df_resamp.aspect_bin.replace(\"N2\",\"N\")\n"
   ]
  },
  {
   "attachments": {},
   "cell_type": "markdown",
   "metadata": {},
   "source": [
    "### Create dummie variables for all categorical variables"
   ]
  },
  {
   "cell_type": "code",
   "execution_count": null,
   "metadata": {},
   "outputs": [],
   "source": [
    "cat_variables = [\"soil\", \"veg\", \"aspect_bin\"]"
   ]
  },
  {
   "cell_type": "code",
   "execution_count": null,
   "metadata": {},
   "outputs": [],
   "source": [
    "categories_all = pd.get_dummies(df_all[cat_variables], drop_first=True)\n",
    "categories_resamp = pd.get_dummies(df_resamp[cat_variables], drop_first=True)"
   ]
  },
  {
   "cell_type": "code",
   "execution_count": null,
   "metadata": {},
   "outputs": [],
   "source": [
    "df_all = pd.concat([df_all, categories_all], axis = 1)\n",
    "df_resamp = pd.concat([df_resamp, categories_resamp], axis = 1)"
   ]
  },
  {
   "attachments": {},
   "cell_type": "markdown",
   "metadata": {},
   "source": [
    "## Start of EDA\n",
    "### Look at \"gaps\" in homeranges and all the features in that area"
   ]
  },
  {
   "attachments": {},
   "cell_type": "markdown",
   "metadata": {},
   "source": [
    "Build indiv_fox_all, which contains all data for each individual fox"
   ]
  },
  {
   "cell_type": "code",
   "execution_count": null,
   "metadata": {},
   "outputs": [],
   "source": [
    "indiv_fox_all = {}\n",
    "for i in df_all.id.unique():\n",
    "    indiv_fox_all[i] = df_all[df_all.id == i]"
   ]
  },
  {
   "cell_type": "code",
   "execution_count": null,
   "metadata": {},
   "outputs": [],
   "source": [
    "fox_0 = indiv_fox_all['2018-FSBD608-001']\n",
    "fox_1 = indiv_fox_all['2018-FSBD615_v-gr/r-gr']\n",
    "fox_2 = indiv_fox_all['2018-FSBD619_r-gr/r-y']\n",
    "fox_3 = indiv_fox_all['2018-FSBD641_b-r/gr-b']\n",
    "fox_4 = indiv_fox_all['2019-FSAC008-011']\n",
    "fox_5 = indiv_fox_all['2019-FSAC008-012']\n",
    "fox_6 = indiv_fox_all['2019-FSBD197-005']\n",
    "fox_7 = indiv_fox_all['2019-FSBD609-002']\n",
    "fox_8 = indiv_fox_all['2019-FSBD615-001']\n",
    "fox_9 = indiv_fox_all['2019-FSBD622-006']\n",
    "fox_10 = indiv_fox_all['2019-FSBD624-004']\n",
    "fox_11 = indiv_fox_all['2019-FSBD641_y-gr/r-b']\n"
   ]
  },
  {
   "attachments": {},
   "cell_type": "markdown",
   "metadata": {},
   "source": [
    "Get only coordinates around the homeranges for each fox."
   ]
  },
  {
   "cell_type": "code",
   "execution_count": null,
   "metadata": {},
   "outputs": [],
   "source": [
    "df_all_fox_0 = sample_points.query(\"545930 < x < 551050\")\n",
    "df_all_fox_0 = df_all_fox_0.query(\"7352170 < y < 7357990\")\n",
    "df_all_fox_1 = sample_points.query(\"543640 < x < 550450\")\n",
    "df_all_fox_1 = df_all_fox_1.query(\"7369490 < y < 7372930\")\n",
    "df_all_fox_2 = sample_points.query(\"549960 < x < 556870\")\n",
    "df_all_fox_2 = df_all_fox_2.query(\"7367910 < y < 7374750\")\n",
    "df_all_fox_3 = sample_points.query(\"544190 < x < 551450\")\n",
    "df_all_fox_3 = df_all_fox_3.query(\"7371810 < y < 7378700\")\n",
    "df_all_fox_4 = sample_points.query(\"566110 < x < 574200\")\n",
    "df_all_fox_4 = df_all_fox_4.query(\"7321800 < y < 7328780\")\n",
    "df_all_fox_5 = sample_points.query(\"567700 < x < 575720\")\n",
    "df_all_fox_5 = df_all_fox_5.query(\"7324150 < y < 7328990\")\n",
    "df_all_fox_6 = sample_points.query(\"532040 < x < 547280\")\n",
    "df_all_fox_6 = df_all_fox_6.query(\"7373060 < y < 7381040\")\n",
    "df_all_fox_7 = sample_points.query(\"534680 < x < 548400\")\n",
    "df_all_fox_7 = df_all_fox_7.query(\"7373000 < y < 7380920\")\n",
    "df_all_fox_8 = sample_points.query(\"527740 < x < 547540\")\n",
    "df_all_fox_8 = df_all_fox_8.query(\"7368840 < y < 7379200\")\n",
    "df_all_fox_9 = sample_points.query(\"518730 < x < 526940\")\n",
    "df_all_fox_9 = df_all_fox_9.query(\"7366450 < y < 7375040\")\n",
    "df_all_fox_10 = sample_points.query(\"520550 < x < 531560\")\n",
    "df_all_fox_10 = df_all_fox_10.query(\"7374400 < y < 7383400\")\n",
    "df_all_fox_11 = sample_points.query(\"543360 < x < 551050\")\n",
    "df_all_fox_11 = df_all_fox_11.query(\"7372690 < y < 7379790\")"
   ]
  },
  {
   "cell_type": "code",
   "execution_count": null,
   "metadata": {},
   "outputs": [],
   "source": [
    "fox_11.plot()"
   ]
  },
  {
   "cell_type": "code",
   "execution_count": null,
   "metadata": {},
   "outputs": [],
   "source": [
    "fig, ax = plt.subplots()\n",
    "df_all_fox_11.plot(\"slope\", cmap = \"turbo\", legend = True, ax=ax)\n",
    "df_all_fox_3.plot(\"slope\", cmap = \"turbo\", legend = True, ax=ax)\n",
    "fox_11.plot(color = \"black\", marker = \"x\", ax=ax, alpha = 0.8)\n",
    "fox_3.plot(color = \"white\", marker = \"x\", ax=ax, alpha = 0.8)\n",
    "plt.show()"
   ]
  },
  {
   "attachments": {},
   "cell_type": "markdown",
   "metadata": {},
   "source": [
    "Foxes 3 and 11 live in the same area. They both avoid the small area with a very high slope."
   ]
  },
  {
   "cell_type": "code",
   "execution_count": null,
   "metadata": {},
   "outputs": [],
   "source": [
    "fig, ax = plt.subplots()\n",
    "df_all_fox_5.plot(\"veg\", cmap = \"turbo\", legend = True, ax=ax)\n",
    "fox_5.plot(color = \"black\", marker = \"x\", ax=ax, alpha = 0.8)\n",
    "plt.show()"
   ]
  },
  {
   "attachments": {},
   "cell_type": "markdown",
   "metadata": {},
   "source": [
    "Fox 5 avoids the moist shrub."
   ]
  },
  {
   "cell_type": "code",
   "execution_count": null,
   "metadata": {},
   "outputs": [],
   "source": [
    "fig, ax = plt.subplots()\n",
    "df_all_fox_6.plot(\"slope\", cmap = \"turbo\", legend = True, ax=ax)\n",
    "fox_6.plot(color = \"black\", marker = \"x\", ax=ax, alpha = 0.8)\n",
    "plt.show()"
   ]
  },
  {
   "attachments": {},
   "cell_type": "markdown",
   "metadata": {},
   "source": [
    "The homerange of fox 6 is limited to the north by a line of high slopes."
   ]
  },
  {
   "cell_type": "code",
   "execution_count": null,
   "metadata": {},
   "outputs": [],
   "source": [
    "fig, ax = plt.subplots()\n",
    "df_all_fox_6.plot(\"slope\", cmap = \"turbo\", legend = True, ax=ax)\n",
    "df_all_fox_7.plot(\"slope\", cmap = \"turbo\", legend = True, ax=ax)\n",
    "fox_7.plot(color = \"black\", marker = \"x\", ax=ax, alpha = 0.5)\n",
    "fox_6.plot(color = \"white\", marker = \"x\", ax=ax, alpha = 0.5)\n",
    "plt.show()"
   ]
  },
  {
   "attachments": {},
   "cell_type": "markdown",
   "metadata": {},
   "source": [
    "Foxes 6 and 7 live in the same area. Again, there is the high slope is the northern boarder."
   ]
  },
  {
   "cell_type": "code",
   "execution_count": null,
   "metadata": {},
   "outputs": [],
   "source": [
    "fig, ax = plt.subplots()\n",
    "df_all_fox_9.plot(\"slope\", cmap = \"turbo\", legend = True, ax=ax)\n",
    "fox_9.plot(color = \"black\", marker = \"x\", ax=ax, alpha = 0.8)\n",
    "plt.show()"
   ]
  },
  {
   "attachments": {},
   "cell_type": "markdown",
   "metadata": {},
   "source": [
    "Fox 9 has a lot of datapoints in the southern area of the high slope, but none ON the high slope."
   ]
  },
  {
   "cell_type": "code",
   "execution_count": null,
   "metadata": {},
   "outputs": [],
   "source": [
    "fig, ax = plt.subplots()\n",
    "df_all_fox_10.plot(\"slope\", cmap = \"turbo\", legend = True, ax=ax)\n",
    "fox_10.plot(color = \"black\", marker = \"x\", ax=ax, alpha = 0.8)\n",
    "plt.show()"
   ]
  },
  {
   "attachments": {},
   "cell_type": "markdown",
   "metadata": {},
   "source": [
    "Fox 10 avoids the valley in the north."
   ]
  },
  {
   "cell_type": "code",
   "execution_count": null,
   "metadata": {},
   "outputs": [],
   "source": [
    "fig, ax = plt.subplots()\n",
    "df_all_fox_11.plot(\"slope\", cmap = \"turbo\", legend = True, ax=ax)\n",
    "fox_11.plot(color = \"black\", marker = \"x\", ax=ax, alpha = 0.8)\n",
    "plt.show()"
   ]
  },
  {
   "attachments": {},
   "cell_type": "markdown",
   "metadata": {},
   "source": [
    "Fox 11 avoids the region with a high slope. And the valley within this region."
   ]
  },
  {
   "cell_type": "code",
   "execution_count": null,
   "metadata": {},
   "outputs": [],
   "source": [
    "fig, ax = plt.subplots()\n",
    "df_all_fox_11.plot(\"veg\", cmap = \"turbo\", legend = True, ax=ax)\n",
    "fox_11.plot(color = \"black\", marker = \"x\", ax=ax, alpha = 0.8)\n",
    "plt.show()"
   ]
  },
  {
   "attachments": {},
   "cell_type": "markdown",
   "metadata": {},
   "source": [
    "In that valley, there lies snow."
   ]
  },
  {
   "cell_type": "code",
   "execution_count": null,
   "metadata": {},
   "outputs": [],
   "source": [
    "fig, ax = plt.subplots()\n",
    "df_all_fox_11.plot(\"slope\", cmap = \"turbo\", legend = True, ax=ax)\n",
    "df_all_fox_3.plot(\"slope\", cmap = \"turbo\", legend = True, ax=ax)\n",
    "fox_11.plot(color = \"black\", marker = \"x\", ax=ax, alpha = 0.8)\n",
    "fox_3.plot(color = \"white\", marker = \"x\", ax=ax, alpha = 0.8)\n",
    "plt.show()"
   ]
  },
  {
   "attachments": {},
   "cell_type": "markdown",
   "metadata": {},
   "source": [
    "Fox 3 avoids the same region as fox 11 does."
   ]
  }
 ],
 "metadata": {
  "kernelspec": {
   "display_name": ".venv",
   "language": "python",
   "name": "python3"
  },
  "language_info": {
   "codemirror_mode": {
    "name": "ipython",
    "version": 3
   },
   "file_extension": ".py",
   "mimetype": "text/x-python",
   "name": "python",
   "nbconvert_exporter": "python",
   "pygments_lexer": "ipython3",
   "version": "3.9.8 (main, Oct 17 2022, 15:12:00) \n[Clang 13.1.6 (clang-1316.0.21.2.5)]"
  },
  "orig_nbformat": 4,
  "vscode": {
   "interpreter": {
    "hash": "19ac0277738c8d003280297ca8a435e04eabeabc8c82e391b37813a7a623b1fe"
   }
  }
 },
 "nbformat": 4,
 "nbformat_minor": 2
}
